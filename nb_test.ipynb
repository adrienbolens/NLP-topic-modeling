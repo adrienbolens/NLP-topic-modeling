{
 "cells": [
  {
   "cell_type": "code",
   "execution_count": 260,
   "metadata": {},
   "outputs": [],
   "source": [
    "import functions\n",
    "from tqdm import tqdm\n",
    "import wikipediaapi\n",
    "\n",
    "wiki_wiki = wikipediaapi.Wikipedia('en')"
   ]
  },
  {
   "cell_type": "code",
   "execution_count": 270,
   "metadata": {},
   "outputs": [
    {
     "data": {
      "text/plain": [
       "<module 'functions' from '/home/bolensadrien/data-science/NLP-project/functions.py'>"
      ]
     },
     "execution_count": 270,
     "metadata": {},
     "output_type": "execute_result"
    }
   ],
   "source": [
    "from importlib import reload\n",
    "reload(functions)"
   ]
  },
  {
   "cell_type": "code",
   "execution_count": 271,
   "metadata": {},
   "outputs": [],
   "source": [
    "# cat = wiki_wiki.page(\"Category:Novels by Isaac Asimov\")\n",
    "cat = wiki_wiki.page(\"Category:Science_fiction_novels_by_writer\")\n",
    "\n",
    "cat_authors = [page for page in cat.categorymembers.values()]"
   ]
  },
  {
   "cell_type": "code",
   "execution_count": 272,
   "metadata": {
    "scrolled": false
   },
   "outputs": [
    {
     "name": "stdout",
     "output_type": "stream",
     "text": [
      "CPU times: user 1.19 s, sys: 18.9 ms, total: 1.21 s\n",
      "Wall time: 22.5 s\n"
     ]
    }
   ],
   "source": [
    "%%time\n",
    "pages_by_author = [functions.get_categorymembers(c, n_pages_per_level_threshold=1, level=0, max_level=None, verbose=False) for c in cat_authors]\n"
   ]
  },
  {
   "cell_type": "code",
   "execution_count": 273,
   "metadata": {},
   "outputs": [
    {
     "data": {
      "text/plain": [
       "81"
      ]
     },
     "execution_count": 273,
     "metadata": {},
     "output_type": "execute_result"
    }
   ],
   "source": [
    "len(pages_by_author)"
   ]
  },
  {
   "cell_type": "code",
   "execution_count": 274,
   "metadata": {},
   "outputs": [
    {
     "name": "stderr",
     "output_type": "stream",
     "text": [
      "\r",
      "  0%|          | 0/8 [00:00<?, ?it/s]"
     ]
    },
    {
     "name": "stdout",
     "output_type": "stream",
     "text": [
      "Author:  Category:Novels by Douglas Adams\n"
     ]
    },
    {
     "name": "stderr",
     "output_type": "stream",
     "text": [
      "100%|██████████| 8/8 [00:02<00:00,  2.90it/s]\n",
      "  0%|          | 0/10 [00:00<?, ?it/s]"
     ]
    },
    {
     "name": "stdout",
     "output_type": "stream",
     "text": [
      "Author:  Category:Novels by Brian Aldiss\n"
     ]
    },
    {
     "name": "stderr",
     "output_type": "stream",
     "text": [
      " 80%|████████  | 8/10 [00:02<00:00,  3.32it/s]"
     ]
    },
    {
     "name": "stdout",
     "output_type": "stream",
     "text": [
      "Ignoring page:  The Primal Urge\n"
     ]
    },
    {
     "name": "stderr",
     "output_type": "stream",
     "text": [
      "100%|██████████| 10/10 [00:03<00:00,  3.03it/s]\n",
      "  0%|          | 0/8 [00:00<?, ?it/s]"
     ]
    },
    {
     "name": "stdout",
     "output_type": "stream",
     "text": [
      "Author:  Category:Novels by K. A. Applegate\n"
     ]
    },
    {
     "name": "stderr",
     "output_type": "stream",
     "text": [
      "\r",
      " 12%|█▎        | 1/8 [00:00<00:01,  4.17it/s]"
     ]
    },
    {
     "name": "stdout",
     "output_type": "stream",
     "text": [
      "Ignoring page:  Barf-O-Rama\n"
     ]
    },
    {
     "name": "stderr",
     "output_type": "stream",
     "text": [
      " 62%|██████▎   | 5/8 [00:01<00:00,  3.40it/s]"
     ]
    },
    {
     "name": "stdout",
     "output_type": "stream",
     "text": [
      "Ignoring page:  Making Out (book series)\n"
     ]
    },
    {
     "name": "stderr",
     "output_type": "stream",
     "text": [
      "100%|██████████| 8/8 [00:03<00:00,  2.21it/s]\n",
      "  0%|          | 0/2 [00:00<?, ?it/s]"
     ]
    },
    {
     "name": "stdout",
     "output_type": "stream",
     "text": [
      "Author:  Category:Novels by Eleanor Arnason\n"
     ]
    },
    {
     "name": "stderr",
     "output_type": "stream",
     "text": [
      "100%|██████████| 2/2 [00:00<00:00,  3.69it/s]\n",
      "  0%|          | 0/30 [00:00<?, ?it/s]"
     ]
    },
    {
     "name": "stdout",
     "output_type": "stream",
     "text": [
      "Author:  Category:Science fiction novels by Isaac Asimov\n"
     ]
    },
    {
     "name": "stderr",
     "output_type": "stream",
     "text": [
      "100%|██████████| 30/30 [00:10<00:00,  3.14it/s]\n",
      "  0%|          | 0/8 [00:00<?, ?it/s]"
     ]
    },
    {
     "name": "stdout",
     "output_type": "stream",
     "text": [
      "Author:  Category:Novels by Kage Baker\n"
     ]
    },
    {
     "name": "stderr",
     "output_type": "stream",
     "text": [
      "100%|██████████| 8/8 [00:03<00:00,  2.56it/s]\n",
      "  0%|          | 0/13 [00:00<?, ?it/s]"
     ]
    },
    {
     "name": "stdout",
     "output_type": "stream",
     "text": [
      "Author:  Category:Novels by Iain M. Banks\n"
     ]
    },
    {
     "name": "stderr",
     "output_type": "stream",
     "text": [
      "100%|██████████| 13/13 [00:04<00:00,  3.03it/s]\n",
      "  0%|          | 0/14 [00:00<?, ?it/s]"
     ]
    },
    {
     "name": "stdout",
     "output_type": "stream",
     "text": [
      "Author:  Category:Novels by John Barnes\n"
     ]
    },
    {
     "name": "stderr",
     "output_type": "stream",
     "text": [
      " 86%|████████▌ | 12/14 [00:03<00:00,  3.62it/s]"
     ]
    },
    {
     "name": "stdout",
     "output_type": "stream",
     "text": [
      "Ignoring page:  Orbital Resonance (novel)\n"
     ]
    },
    {
     "name": "stderr",
     "output_type": "stream",
     "text": [
      "100%|██████████| 14/14 [00:04<00:00,  3.49it/s]\n",
      "  0%|          | 0/33 [00:00<?, ?it/s]"
     ]
    },
    {
     "name": "stdout",
     "output_type": "stream",
     "text": [
      "Author:  Category:Novels by Stephen Baxter\n"
     ]
    },
    {
     "name": "stderr",
     "output_type": "stream",
     "text": [
      " 30%|███       | 10/33 [00:03<00:07,  3.15it/s]"
     ]
    },
    {
     "name": "stdout",
     "output_type": "stream",
     "text": [
      "Ignoring page:  Gulliverzone\n"
     ]
    },
    {
     "name": "stderr",
     "output_type": "stream",
     "text": [
      " 39%|███▉      | 13/33 [00:04<00:06,  3.18it/s]"
     ]
    },
    {
     "name": "stdout",
     "output_type": "stream",
     "text": [
      "Ignoring page:  The Mammoth Trilogy\n"
     ]
    },
    {
     "name": "stderr",
     "output_type": "stream",
     "text": [
      " 55%|█████▍    | 18/33 [00:05<00:04,  3.50it/s]"
     ]
    },
    {
     "name": "stdout",
     "output_type": "stream",
     "text": [
      "Ignoring page:  Origin (Baxter novel)\n"
     ]
    },
    {
     "name": "stderr",
     "output_type": "stream",
     "text": [
      " 82%|████████▏ | 27/33 [00:08<00:01,  3.17it/s]"
     ]
    },
    {
     "name": "stdout",
     "output_type": "stream",
     "text": [
      "Ignoring page:  Time's Tapestry\n"
     ]
    },
    {
     "name": "stderr",
     "output_type": "stream",
     "text": [
      "100%|██████████| 33/33 [00:10<00:00,  3.25it/s]\n",
      "  0%|          | 0/15 [00:00<?, ?it/s]"
     ]
    },
    {
     "name": "stdout",
     "output_type": "stream",
     "text": [
      "Ignoring page:  The Wheel of Ice\n",
      "Author:  Category:Novels by Barrington J. Bayley\n"
     ]
    },
    {
     "name": "stderr",
     "output_type": "stream",
     "text": [
      "\r",
      "  7%|▋         | 1/15 [00:00<00:03,  4.19it/s]"
     ]
    },
    {
     "name": "stdout",
     "output_type": "stream",
     "text": [
      "Ignoring page:  Annihilation Factor\n"
     ]
    },
    {
     "name": "stderr",
     "output_type": "stream",
     "text": [
      "\r",
      " 13%|█▎        | 2/15 [00:00<00:03,  4.18it/s]"
     ]
    },
    {
     "name": "stdout",
     "output_type": "stream",
     "text": [
      "Ignoring page:  Collision Course (Bayley novel)\n"
     ]
    },
    {
     "name": "stderr",
     "output_type": "stream",
     "text": [
      "\r",
      " 20%|██        | 3/15 [00:00<00:02,  4.19it/s]"
     ]
    },
    {
     "name": "stdout",
     "output_type": "stream",
     "text": [
      "Ignoring page:  Empire of Two Worlds\n"
     ]
    },
    {
     "name": "stderr",
     "output_type": "stream",
     "text": [
      "\r",
      " 27%|██▋       | 4/15 [00:00<00:02,  4.16it/s]"
     ]
    },
    {
     "name": "stdout",
     "output_type": "stream",
     "text": [
      "Ignoring page:  The Fall of Chronopolis\n"
     ]
    },
    {
     "name": "stderr",
     "output_type": "stream",
     "text": [
      "\r",
      " 33%|███▎      | 5/15 [00:01<00:02,  4.20it/s]"
     ]
    },
    {
     "name": "stdout",
     "output_type": "stream",
     "text": [
      "Ignoring page:  The Forest of Peldain\n"
     ]
    },
    {
     "name": "stderr",
     "output_type": "stream",
     "text": [
      " 47%|████▋     | 7/15 [00:01<00:01,  4.04it/s]"
     ]
    },
    {
     "name": "stdout",
     "output_type": "stream",
     "text": [
      "Ignoring page:  The Grand Wheel\n"
     ]
    },
    {
     "name": "stderr",
     "output_type": "stream",
     "text": [
      "\r",
      " 53%|█████▎    | 8/15 [00:01<00:01,  4.04it/s]"
     ]
    },
    {
     "name": "stdout",
     "output_type": "stream",
     "text": [
      "Ignoring page:  The Great Hydration\n"
     ]
    },
    {
     "name": "stderr",
     "output_type": "stream",
     "text": [
      " 67%|██████▋   | 10/15 [00:02<00:01,  4.02it/s]"
     ]
    },
    {
     "name": "stdout",
     "output_type": "stream",
     "text": [
      "Ignoring page:  The Rod of Light\n"
     ]
    },
    {
     "name": "stderr",
     "output_type": "stream",
     "text": [
      "\r",
      " 73%|███████▎  | 11/15 [00:02<00:00,  4.04it/s]"
     ]
    },
    {
     "name": "stdout",
     "output_type": "stream",
     "text": [
      "Ignoring page:  The Sinners of Erspia\n"
     ]
    },
    {
     "name": "stderr",
     "output_type": "stream",
     "text": [
      "\r",
      " 80%|████████  | 12/15 [00:03<00:00,  3.59it/s]"
     ]
    },
    {
     "name": "stdout",
     "output_type": "stream",
     "text": [
      "Ignoring page:  The Soul of the Robot\n"
     ]
    },
    {
     "name": "stderr",
     "output_type": "stream",
     "text": [
      "\r",
      " 87%|████████▋ | 13/15 [00:03<00:00,  3.78it/s]"
     ]
    },
    {
     "name": "stdout",
     "output_type": "stream",
     "text": [
      "Ignoring page:  The Star Virus\n"
     ]
    },
    {
     "name": "stderr",
     "output_type": "stream",
     "text": [
      "\r",
      " 93%|█████████▎| 14/15 [00:03<00:00,  3.88it/s]"
     ]
    },
    {
     "name": "stdout",
     "output_type": "stream",
     "text": [
      "Ignoring page:  Star Winds\n"
     ]
    },
    {
     "name": "stderr",
     "output_type": "stream",
     "text": [
      "100%|██████████| 15/15 [00:03<00:00,  3.83it/s]\n",
      "  0%|          | 0/5 [00:00<?, ?it/s]"
     ]
    },
    {
     "name": "stdout",
     "output_type": "stream",
     "text": [
      "Author:  Category:Novels by Alexander Beliaev\n"
     ]
    },
    {
     "name": "stderr",
     "output_type": "stream",
     "text": [
      " 60%|██████    | 3/5 [00:00<00:00,  3.92it/s]"
     ]
    },
    {
     "name": "stdout",
     "output_type": "stream",
     "text": [
      "Ignoring page:  Ariel (novel)\n"
     ]
    },
    {
     "name": "stderr",
     "output_type": "stream",
     "text": [
      "100%|██████████| 5/5 [00:01<00:00,  3.69it/s]\n",
      "  0%|          | 0/8 [00:00<?, ?it/s]"
     ]
    },
    {
     "name": "stdout",
     "output_type": "stream",
     "text": [
      "Author:  Category:Novels by Leigh Brackett\n"
     ]
    },
    {
     "name": "stderr",
     "output_type": "stream",
     "text": [
      "100%|██████████| 8/8 [00:02<00:00,  3.37it/s]\n",
      "  0%|          | 0/37 [00:00<?, ?it/s]"
     ]
    },
    {
     "name": "stdout",
     "output_type": "stream",
     "text": [
      "Author:  Category:Novels by Marion Zimmer Bradley\n"
     ]
    },
    {
     "name": "stderr",
     "output_type": "stream",
     "text": [
      "  8%|▊         | 3/37 [00:00<00:11,  3.02it/s]"
     ]
    },
    {
     "name": "stdout",
     "output_type": "stream",
     "text": [
      "Ignoring page:  The Catch Trap\n"
     ]
    },
    {
     "name": "stderr",
     "output_type": "stream",
     "text": [
      "100%|██████████| 37/37 [00:12<00:00,  2.82it/s]\n",
      "  0%|          | 0/15 [00:00<?, ?it/s]"
     ]
    },
    {
     "name": "stdout",
     "output_type": "stream",
     "text": [
      "Author:  Category:Novels by David Brin\n"
     ]
    },
    {
     "name": "stderr",
     "output_type": "stream",
     "text": [
      "100%|██████████| 15/15 [00:04<00:00,  2.91it/s]\n",
      "  0%|          | 0/5 [00:00<?, ?it/s]"
     ]
    },
    {
     "name": "stdout",
     "output_type": "stream",
     "text": [
      "Author:  Category:Novels by Pierce Brown\n"
     ]
    },
    {
     "name": "stderr",
     "output_type": "stream",
     "text": [
      "\r",
      " 20%|██        | 1/5 [00:00<00:00,  4.27it/s]"
     ]
    },
    {
     "name": "stdout",
     "output_type": "stream",
     "text": [
      "Ignoring page:  Dark Age (Brown novel)\n"
     ]
    },
    {
     "name": "stderr",
     "output_type": "stream",
     "text": [
      "100%|██████████| 5/5 [00:02<00:00,  2.44it/s]\n",
      "  0%|          | 0/25 [00:00<?, ?it/s]"
     ]
    },
    {
     "name": "stdout",
     "output_type": "stream",
     "text": [
      "Author:  Category:Novels by John Brunner\n"
     ]
    },
    {
     "name": "stderr",
     "output_type": "stream",
     "text": [
      "\r",
      "  4%|▍         | 1/25 [00:00<00:05,  4.11it/s]"
     ]
    },
    {
     "name": "stdout",
     "output_type": "stream",
     "text": [
      "Ignoring page:  Children of the Thunder\n"
     ]
    },
    {
     "name": "stderr",
     "output_type": "stream",
     "text": [
      " 12%|█▏        | 3/25 [00:00<00:05,  4.09it/s]"
     ]
    },
    {
     "name": "stdout",
     "output_type": "stream",
     "text": [
      "Ignoring page:  Double, Double (Brunner novel)\n"
     ]
    },
    {
     "name": "stderr",
     "output_type": "stream",
     "text": [
      " 32%|███▏      | 8/25 [00:02<00:04,  3.64it/s]"
     ]
    },
    {
     "name": "stdout",
     "output_type": "stream",
     "text": [
      "Ignoring page:  The Martian Sphinx\n"
     ]
    },
    {
     "name": "stderr",
     "output_type": "stream",
     "text": [
      "\r",
      " 36%|███▌      | 9/25 [00:02<00:04,  3.84it/s]"
     ]
    },
    {
     "name": "stdout",
     "output_type": "stream",
     "text": [
      "Ignoring page:  A Maze of Stars\n"
     ]
    },
    {
     "name": "stderr",
     "output_type": "stream",
     "text": [
      "\r",
      " 40%|████      | 10/25 [00:02<00:03,  3.96it/s]"
     ]
    },
    {
     "name": "stdout",
     "output_type": "stream",
     "text": [
      "Ignoring page:  Muddle Earth (Brunner novel)\n"
     ]
    },
    {
     "name": "stderr",
     "output_type": "stream",
     "text": [
      "\r",
      " 44%|████▍     | 11/25 [00:02<00:03,  4.01it/s]"
     ]
    },
    {
     "name": "stdout",
     "output_type": "stream",
     "text": [
      "Ignoring page:  Players at the Game of People\n"
     ]
    },
    {
     "name": "stderr",
     "output_type": "stream",
     "text": [
      " 64%|██████▍   | 16/25 [00:04<00:02,  3.09it/s]"
     ]
    },
    {
     "name": "stdout",
     "output_type": "stream",
     "text": [
      "Ignoring page:  The Squares of the City\n"
     ]
    },
    {
     "name": "stderr",
     "output_type": "stream",
     "text": [
      "\r",
      " 68%|██████▊   | 17/25 [00:04<00:02,  3.36it/s]"
     ]
    },
    {
     "name": "stdout",
     "output_type": "stream",
     "text": [
      "Ignoring page:  Stand on Zanzibar\n"
     ]
    },
    {
     "name": "stderr",
     "output_type": "stream",
     "text": [
      " 80%|████████  | 20/25 [00:05<00:01,  3.57it/s]"
     ]
    },
    {
     "name": "stdout",
     "output_type": "stream",
     "text": [
      "Ignoring page:  The Tides of Time\n"
     ]
    },
    {
     "name": "stderr",
     "output_type": "stream",
     "text": [
      " 92%|█████████▏| 23/25 [00:06<00:00,  3.45it/s]"
     ]
    },
    {
     "name": "stdout",
     "output_type": "stream",
     "text": [
      "Ignoring page:  Web of Everywhere\n"
     ]
    },
    {
     "name": "stderr",
     "output_type": "stream",
     "text": [
      "100%|██████████| 25/25 [00:07<00:00,  3.77it/s]\n",
      "  0%|          | 0/10 [00:00<?, ?it/s]"
     ]
    },
    {
     "name": "stdout",
     "output_type": "stream",
     "text": [
      "Ignoring page:  The World Swappers\n",
      "Author:  Category:Novels by Octavia Butler\n"
     ]
    },
    {
     "name": "stderr",
     "output_type": "stream",
     "text": [
      "100%|██████████| 10/10 [00:05<00:00,  1.85it/s]\n",
      "  0%|          | 0/6 [00:00<?, ?it/s]"
     ]
    },
    {
     "name": "stdout",
     "output_type": "stream",
     "text": [
      "Author:  Category:Novels by Eleanor Cameron\n"
     ]
    },
    {
     "name": "stderr",
     "output_type": "stream",
     "text": [
      "100%|██████████| 6/6 [00:01<00:00,  3.82it/s]\n",
      "  0%|          | 0/43 [00:00<?, ?it/s]"
     ]
    },
    {
     "name": "stdout",
     "output_type": "stream",
     "text": [
      "Author:  Category:Novels by Orson Scott Card\n"
     ]
    },
    {
     "name": "stderr",
     "output_type": "stream",
     "text": [
      " 14%|█▍        | 6/43 [00:01<00:10,  3.45it/s]"
     ]
    },
    {
     "name": "stdout",
     "output_type": "stream",
     "text": [
      "Ignoring page:  The Empire Duet\n"
     ]
    },
    {
     "name": "stderr",
     "output_type": "stream",
     "text": [
      " 19%|█▊        | 8/43 [00:02<00:10,  3.33it/s]"
     ]
    },
    {
     "name": "stdout",
     "output_type": "stream",
     "text": [
      "Ignoring page:  Ender's Game (novel series)\n"
     ]
    },
    {
     "name": "stderr",
     "output_type": "stream",
     "text": [
      "\r",
      " 21%|██        | 9/43 [00:02<00:09,  3.55it/s]"
     ]
    },
    {
     "name": "stdout",
     "output_type": "stream",
     "text": [
      "Ignoring page:  The Gate Thief\n"
     ]
    },
    {
     "name": "stderr",
     "output_type": "stream",
     "text": [
      " 26%|██▌       | 11/43 [00:03<00:08,  3.59it/s]"
     ]
    },
    {
     "name": "stdout",
     "output_type": "stream",
     "text": [
      "Ignoring page:  Hidden Empire\n"
     ]
    },
    {
     "name": "stderr",
     "output_type": "stream",
     "text": [
      " 44%|████▍     | 19/43 [00:06<00:14,  1.68it/s]"
     ]
    },
    {
     "name": "stdout",
     "output_type": "stream",
     "text": [
      "Ignoring page:  Magic Street\n"
     ]
    },
    {
     "name": "stderr",
     "output_type": "stream",
     "text": [
      "\r",
      " 47%|████▋     | 20/43 [00:06<00:11,  2.04it/s]"
     ]
    },
    {
     "name": "stdout",
     "output_type": "stream",
     "text": [
      "Ignoring page:  Mayflower (series)\n"
     ]
    },
    {
     "name": "stderr",
     "output_type": "stream",
     "text": [
      " 65%|██████▌   | 28/43 [00:09<00:04,  3.56it/s]"
     ]
    },
    {
     "name": "stdout",
     "output_type": "stream",
     "text": [
      "Ignoring page:  Ruins (novel)\n"
     ]
    },
    {
     "name": "stderr",
     "output_type": "stream",
     "text": [
      " 91%|█████████ | 39/43 [00:12<00:01,  3.95it/s]"
     ]
    },
    {
     "name": "stdout",
     "output_type": "stream",
     "text": [
      "Ignoring page:  Women of Genesis\n"
     ]
    },
    {
     "name": "stderr",
     "output_type": "stream",
     "text": [
      " 98%|█████████▊| 42/43 [00:12<00:00,  4.02it/s]"
     ]
    },
    {
     "name": "stdout",
     "output_type": "stream",
     "text": [
      "Ignoring page:  The Worthing series\n"
     ]
    },
    {
     "name": "stderr",
     "output_type": "stream",
     "text": [
      "100%|██████████| 43/43 [00:13<00:00,  3.54it/s]\n",
      "  0%|          | 0/6 [00:00<?, ?it/s]"
     ]
    },
    {
     "name": "stdout",
     "output_type": "stream",
     "text": [
      "Author:  Category:Novels by Gail Carriger\n"
     ]
    },
    {
     "name": "stderr",
     "output_type": "stream",
     "text": [
      "100%|██████████| 6/6 [00:02<00:00,  2.38it/s]\n",
      "  0%|          | 0/12 [00:00<?, ?it/s]"
     ]
    },
    {
     "name": "stdout",
     "output_type": "stream",
     "text": [
      "Author:  Category:Novels by Jack L. Chalker\n"
     ]
    },
    {
     "name": "stderr",
     "output_type": "stream",
     "text": [
      " 33%|███▎      | 4/12 [00:01<00:02,  3.50it/s]"
     ]
    },
    {
     "name": "stdout",
     "output_type": "stream",
     "text": [
      "Ignoring page:  Ghost of the Well of Souls\n"
     ]
    },
    {
     "name": "stderr",
     "output_type": "stream",
     "text": [
      "\r",
      " 42%|████▏     | 5/12 [00:01<00:01,  3.67it/s]"
     ]
    },
    {
     "name": "stdout",
     "output_type": "stream",
     "text": [
      "Ignoring page:  The Identity Matrix\n"
     ]
    },
    {
     "name": "stderr",
     "output_type": "stream",
     "text": [
      " 92%|█████████▏| 11/12 [00:03<00:00,  3.22it/s]"
     ]
    },
    {
     "name": "stdout",
     "output_type": "stream",
     "text": [
      "Ignoring page:  The Sea is Full of Stars\n"
     ]
    },
    {
     "name": "stderr",
     "output_type": "stream",
     "text": [
      "100%|██████████| 12/12 [00:03<00:00,  3.17it/s]\n",
      "  0%|          | 0/57 [00:00<?, ?it/s]"
     ]
    },
    {
     "name": "stdout",
     "output_type": "stream",
     "text": [
      "Author:  Category:Science fiction novels by C. J. Cherryh\n"
     ]
    },
    {
     "name": "stderr",
     "output_type": "stream",
     "text": [
      "  4%|▎         | 2/57 [00:00<00:15,  3.49it/s]"
     ]
    },
    {
     "name": "stdout",
     "output_type": "stream",
     "text": [
      "Ignoring page:  Merovingen Nights\n"
     ]
    },
    {
     "name": "stderr",
     "output_type": "stream",
     "text": [
      " 56%|█████▌    | 32/57 [00:11<00:07,  3.24it/s]"
     ]
    },
    {
     "name": "stdout",
     "output_type": "stream",
     "text": [
      "Ignoring page:  Devil to the Belt\n"
     ]
    },
    {
     "name": "stderr",
     "output_type": "stream",
     "text": [
      "\r",
      " 58%|█████▊    | 33/57 [00:11<00:06,  3.49it/s]"
     ]
    },
    {
     "name": "stdout",
     "output_type": "stream",
     "text": [
      "Ignoring page:  Devil to the Belt\n"
     ]
    },
    {
     "name": "stderr",
     "output_type": "stream",
     "text": [
      " 74%|███████▎  | 42/57 [00:14<00:04,  3.14it/s]"
     ]
    },
    {
     "name": "stdout",
     "output_type": "stream",
     "text": [
      "Ignoring page:  Alternate Realities (Cherryh)\n"
     ]
    },
    {
     "name": "stderr",
     "output_type": "stream",
     "text": [
      " 96%|█████████▋| 55/57 [00:18<00:00,  3.13it/s]"
     ]
    },
    {
     "name": "stdout",
     "output_type": "stream",
     "text": [
      "Ignoring page:  Alternate Realities (Cherryh)\n"
     ]
    },
    {
     "name": "stderr",
     "output_type": "stream",
     "text": [
      "\r",
      " 98%|█████████▊| 56/57 [00:19<00:00,  3.39it/s]"
     ]
    },
    {
     "name": "stdout",
     "output_type": "stream",
     "text": [
      "Ignoring page:  Alternate Realities (Cherryh)\n"
     ]
    },
    {
     "name": "stderr",
     "output_type": "stream",
     "text": [
      "100%|██████████| 57/57 [00:19<00:00,  3.25it/s]\n",
      "  0%|          | 0/9 [00:00<?, ?it/s]"
     ]
    },
    {
     "name": "stdout",
     "output_type": "stream",
     "text": [
      "Author:  Category:Novels by James S. A. Corey\n"
     ]
    },
    {
     "name": "stderr",
     "output_type": "stream",
     "text": [
      "\r",
      " 11%|█         | 1/9 [00:00<00:01,  4.01it/s]"
     ]
    },
    {
     "name": "stdout",
     "output_type": "stream",
     "text": [
      "Ignoring page:  James S. A. Corey\n"
     ]
    },
    {
     "name": "stderr",
     "output_type": "stream",
     "text": [
      "100%|██████████| 9/9 [00:02<00:00,  3.36it/s]\n",
      "  0%|          | 0/3 [00:00<?, ?it/s]"
     ]
    },
    {
     "name": "stdout",
     "output_type": "stream",
     "text": [
      "Author:  Category:Novels by Avram Davidson\n"
     ]
    },
    {
     "name": "stderr",
     "output_type": "stream",
     "text": [
      "\r",
      " 33%|███▎      | 1/3 [00:00<00:00,  4.27it/s]"
     ]
    },
    {
     "name": "stdout",
     "output_type": "stream",
     "text": [
      "Ignoring page:  Masters of the Maze (novel)\n"
     ]
    },
    {
     "name": "stderr",
     "output_type": "stream",
     "text": [
      "100%|██████████| 3/3 [00:00<00:00,  4.16it/s]\n",
      "  0%|          | 0/13 [00:00<?, ?it/s]"
     ]
    },
    {
     "name": "stdout",
     "output_type": "stream",
     "text": [
      "Ignoring page:  The Scarlet Fig\n",
      "Author:  Category:Novels by Peter David\n"
     ]
    },
    {
     "name": "stderr",
     "output_type": "stream",
     "text": [
      " 46%|████▌     | 6/13 [00:01<00:01,  3.68it/s]"
     ]
    },
    {
     "name": "stdout",
     "output_type": "stream",
     "text": [
      "Ignoring page:  Babylon 5: Legions of Fire – Out of the Darkness\n"
     ]
    },
    {
     "name": "stderr",
     "output_type": "stream",
     "text": [
      " 77%|███████▋  | 10/13 [00:02<00:00,  3.74it/s]"
     ]
    },
    {
     "name": "stdout",
     "output_type": "stream",
     "text": [
      "Ignoring page:  The Rift (Star Trek)\n"
     ]
    },
    {
     "name": "stderr",
     "output_type": "stream",
     "text": [
      "\r",
      " 85%|████████▍ | 11/13 [00:03<00:00,  3.87it/s]"
     ]
    },
    {
     "name": "stdout",
     "output_type": "stream",
     "text": [
      "Ignoring page:  Star Trek: New Frontier\n"
     ]
    },
    {
     "name": "stderr",
     "output_type": "stream",
     "text": [
      "100%|██████████| 13/13 [00:03<00:00,  3.89it/s]\n",
      "  0%|          | 0/24 [00:00<?, ?it/s]"
     ]
    },
    {
     "name": "stdout",
     "output_type": "stream",
     "text": [
      "Author:  Category:Novels by Samuel Delany\n"
     ]
    },
    {
     "name": "stderr",
     "output_type": "stream",
     "text": [
      " 17%|█▋        | 4/24 [00:01<00:05,  3.82it/s]"
     ]
    },
    {
     "name": "stdout",
     "output_type": "stream",
     "text": [
      "Ignoring page:  Captives of the Flame\n"
     ]
    },
    {
     "name": "stderr",
     "output_type": "stream",
     "text": [
      "\r",
      " 21%|██        | 5/24 [00:01<00:04,  3.94it/s]"
     ]
    },
    {
     "name": "stdout",
     "output_type": "stream",
     "text": [
      "Ignoring page:  City of a Thousand Suns\n"
     ]
    },
    {
     "name": "stderr",
     "output_type": "stream",
     "text": [
      " 33%|███▎      | 8/24 [00:02<00:04,  3.27it/s]"
     ]
    },
    {
     "name": "stdout",
     "output_type": "stream",
     "text": [
      "Ignoring page:  The Einstein Intersection\n"
     ]
    },
    {
     "name": "stderr",
     "output_type": "stream",
     "text": [
      " 79%|███████▉  | 19/24 [00:05<00:01,  3.06it/s]"
     ]
    },
    {
     "name": "stdout",
     "output_type": "stream",
     "text": [
      "Ignoring page:  Return to Nevèrÿon (series)\n"
     ]
    },
    {
     "name": "stderr",
     "output_type": "stream",
     "text": [
      " 88%|████████▊ | 21/24 [00:06<00:00,  3.26it/s]"
     ]
    },
    {
     "name": "stdout",
     "output_type": "stream",
     "text": [
      "Ignoring page:  They Fly at Çiron\n"
     ]
    },
    {
     "name": "stderr",
     "output_type": "stream",
     "text": [
      " 96%|█████████▌| 23/24 [00:06<00:00,  3.47it/s]"
     ]
    },
    {
     "name": "stdout",
     "output_type": "stream",
     "text": [
      "Ignoring page:  The Towers of Toron\n"
     ]
    },
    {
     "name": "stderr",
     "output_type": "stream",
     "text": [
      "100%|██████████| 24/24 [00:07<00:00,  3.47it/s]\n",
      "  0%|          | 0/9 [00:00<?, ?it/s]"
     ]
    },
    {
     "name": "stdout",
     "output_type": "stream",
     "text": [
      "Author:  Category:Novels by Thomas M. Disch\n"
     ]
    },
    {
     "name": "stderr",
     "output_type": "stream",
     "text": [
      " 56%|█████▌    | 5/9 [00:01<00:01,  3.22it/s]"
     ]
    },
    {
     "name": "stdout",
     "output_type": "stream",
     "text": [
      "Ignoring page:  The Businessman (novel)\n"
     ]
    },
    {
     "name": "stderr",
     "output_type": "stream",
     "text": [
      "100%|██████████| 9/9 [00:02<00:00,  3.34it/s]\n",
      "  0%|          | 0/10 [00:00<?, ?it/s]"
     ]
    },
    {
     "name": "stdout",
     "output_type": "stream",
     "text": [
      "Author:  Category:Novels by Cory Doctorow\n"
     ]
    },
    {
     "name": "stderr",
     "output_type": "stream",
     "text": [
      " 60%|██████    | 6/10 [00:02<00:01,  2.85it/s]"
     ]
    },
    {
     "name": "stdout",
     "output_type": "stream",
     "text": [
      "Ignoring page:  Makers (novel)\n"
     ]
    },
    {
     "name": "stderr",
     "output_type": "stream",
     "text": [
      "\r",
      " 70%|███████   | 7/10 [00:02<00:00,  3.15it/s]"
     ]
    },
    {
     "name": "stdout",
     "output_type": "stream",
     "text": [
      "Ignoring page:  Pirate Cinema (novel)\n"
     ]
    },
    {
     "name": "stderr",
     "output_type": "stream",
     "text": [
      "100%|██████████| 10/10 [00:03<00:00,  3.36it/s]\n",
      "  0%|          | 0/4 [00:00<?, ?it/s]"
     ]
    },
    {
     "name": "stdout",
     "output_type": "stream",
     "text": [
      "Author:  Category:Novels by Ian Douglas\n"
     ]
    },
    {
     "name": "stderr",
     "output_type": "stream",
     "text": [
      " 50%|█████     | 2/4 [00:00<00:00,  3.49it/s]"
     ]
    },
    {
     "name": "stdout",
     "output_type": "stream",
     "text": [
      "Ignoring page:  Legacy Trilogy\n"
     ]
    },
    {
     "name": "stderr",
     "output_type": "stream",
     "text": [
      "100%|██████████| 4/4 [00:01<00:00,  3.44it/s]\n",
      "  0%|          | 0/22 [00:00<?, ?it/s]"
     ]
    },
    {
     "name": "stdout",
     "output_type": "stream",
     "text": [
      "Author:  Category:Novels by Diane Duane\n"
     ]
    },
    {
     "name": "stderr",
     "output_type": "stream",
     "text": [
      " 36%|███▋      | 8/22 [00:02<00:04,  3.16it/s]"
     ]
    },
    {
     "name": "stdout",
     "output_type": "stream",
     "text": [
      "Ignoring page:  To Visit the Queen\n"
     ]
    },
    {
     "name": "stderr",
     "output_type": "stream",
     "text": [
      "100%|██████████| 22/22 [00:07<00:00,  2.35it/s]\n",
      "  0%|          | 0/10 [00:00<?, ?it/s]"
     ]
    },
    {
     "name": "stdout",
     "output_type": "stream",
     "text": [
      "Author:  Category:Novels by Greg Egan\n"
     ]
    },
    {
     "name": "stderr",
     "output_type": "stream",
     "text": [
      " 40%|████      | 4/10 [00:01<00:01,  3.43it/s]"
     ]
    },
    {
     "name": "stdout",
     "output_type": "stream",
     "text": [
      "Ignoring page:  Orthogonal (series)\n"
     ]
    },
    {
     "name": "stderr",
     "output_type": "stream",
     "text": [
      " 90%|█████████ | 9/10 [00:02<00:00,  3.51it/s]"
     ]
    },
    {
     "name": "stdout",
     "output_type": "stream",
     "text": [
      "Ignoring page:  An Unusual Angle\n"
     ]
    },
    {
     "name": "stderr",
     "output_type": "stream",
     "text": [
      "100%|██████████| 10/10 [00:03<00:00,  3.29it/s]\n",
      "  0%|          | 0/4 [00:00<?, ?it/s]"
     ]
    },
    {
     "name": "stdout",
     "output_type": "stream",
     "text": [
      "Author:  Category:Novels by David Feintuch\n"
     ]
    },
    {
     "name": "stderr",
     "output_type": "stream",
     "text": [
      " 50%|█████     | 2/4 [00:00<00:00,  4.12it/s]"
     ]
    },
    {
     "name": "stdout",
     "output_type": "stream",
     "text": [
      "Ignoring page:  Minor characters in the Seafort Saga\n"
     ]
    },
    {
     "name": "stderr",
     "output_type": "stream",
     "text": [
      "\r",
      " 75%|███████▌  | 3/4 [00:00<00:00,  4.13it/s]"
     ]
    },
    {
     "name": "stdout",
     "output_type": "stream",
     "text": [
      "Ignoring page:  Nicholas Seafort\n"
     ]
    },
    {
     "name": "stderr",
     "output_type": "stream",
     "text": [
      "100%|██████████| 4/4 [00:00<00:00,  4.03it/s]\n",
      "  0%|          | 0/7 [00:00<?, ?it/s]"
     ]
    },
    {
     "name": "stdout",
     "output_type": "stream",
     "text": [
      "Author:  Category:Novels by James Alan Gardner\n"
     ]
    },
    {
     "name": "stderr",
     "output_type": "stream",
     "text": [
      " 29%|██▊       | 2/7 [00:00<00:01,  3.43it/s]"
     ]
    },
    {
     "name": "stdout",
     "output_type": "stream",
     "text": [
      "Ignoring page:  Commitment Hour\n"
     ]
    },
    {
     "name": "stderr",
     "output_type": "stream",
     "text": [
      "100%|██████████| 7/7 [00:01<00:00,  3.64it/s]\n",
      "  0%|          | 0/14 [00:00<?, ?it/s]"
     ]
    },
    {
     "name": "stdout",
     "output_type": "stream",
     "text": [
      "Author:  Category:Novels by William Gibson\n"
     ]
    },
    {
     "name": "stderr",
     "output_type": "stream",
     "text": [
      "\r",
      "  7%|▋         | 1/14 [00:00<00:03,  4.12it/s]"
     ]
    },
    {
     "name": "stdout",
     "output_type": "stream",
     "text": [
      "Ignoring page:  Agency (novel)\n"
     ]
    },
    {
     "name": "stderr",
     "output_type": "stream",
     "text": [
      "100%|██████████| 14/14 [00:05<00:00,  2.58it/s]\n",
      "  0%|          | 0/22 [00:00<?, ?it/s]"
     ]
    },
    {
     "name": "stdout",
     "output_type": "stream",
     "text": [
      "Author:  Category:Novels by Harry Harrison\n"
     ]
    },
    {
     "name": "stderr",
     "output_type": "stream",
     "text": [
      "\r",
      "  5%|▍         | 1/22 [00:00<00:05,  3.90it/s]"
     ]
    },
    {
     "name": "stdout",
     "output_type": "stream",
     "text": [
      "Ignoring page:  List of short stories by Harry Harrison\n"
     ]
    },
    {
     "name": "stderr",
     "output_type": "stream",
     "text": [
      " 68%|██████▊   | 15/22 [00:04<00:01,  3.81it/s]"
     ]
    },
    {
     "name": "stdout",
     "output_type": "stream",
     "text": [
      "Ignoring page:  The Stainless Steel Rat\n"
     ]
    },
    {
     "name": "stderr",
     "output_type": "stream",
     "text": [
      "\r",
      " 73%|███████▎  | 16/22 [00:04<00:01,  3.85it/s]"
     ]
    },
    {
     "name": "stdout",
     "output_type": "stream",
     "text": [
      "Ignoring page:  Stars and Stripes trilogy\n"
     ]
    },
    {
     "name": "stderr",
     "output_type": "stream",
     "text": [
      " 82%|████████▏ | 18/22 [00:05<00:01,  3.54it/s]"
     ]
    },
    {
     "name": "stdout",
     "output_type": "stream",
     "text": [
      "Ignoring page:  To the Stars (trilogy)\n"
     ]
    },
    {
     "name": "stderr",
     "output_type": "stream",
     "text": [
      "100%|██████████| 22/22 [00:06<00:00,  3.42it/s]\n",
      "  0%|          | 0/36 [00:00<?, ?it/s]"
     ]
    },
    {
     "name": "stdout",
     "output_type": "stream",
     "text": [
      "Author:  Category:Novels by Robert A. Heinlein\n"
     ]
    },
    {
     "name": "stderr",
     "output_type": "stream",
     "text": [
      "  6%|▌         | 2/36 [00:00<00:09,  3.46it/s]"
     ]
    },
    {
     "name": "stdout",
     "output_type": "stream",
     "text": [
      "Ignoring page:  Beyond This Horizon\n"
     ]
    },
    {
     "name": "stderr",
     "output_type": "stream",
     "text": [
      " 31%|███       | 11/36 [00:03<00:08,  3.00it/s]"
     ]
    },
    {
     "name": "stdout",
     "output_type": "stream",
     "text": [
      "Ignoring page:  Future History (Heinlein)\n"
     ]
    },
    {
     "name": "stderr",
     "output_type": "stream",
     "text": [
      " 50%|█████     | 18/36 [00:07<00:07,  2.46it/s]"
     ]
    },
    {
     "name": "stdout",
     "output_type": "stream",
     "text": [
      "Ignoring page:  My Object All Sublime\n"
     ]
    },
    {
     "name": "stderr",
     "output_type": "stream",
     "text": [
      "100%|██████████| 36/36 [00:13<00:00,  3.01it/s]\n",
      "  0%|          | 0/28 [00:00<?, ?it/s]"
     ]
    },
    {
     "name": "stdout",
     "output_type": "stream",
     "text": [
      "Author:  Category:Novels by Frank Herbert\n"
     ]
    },
    {
     "name": "stderr",
     "output_type": "stream",
     "text": [
      "100%|██████████| 28/28 [00:08<00:00,  3.40it/s]\n",
      "  0%|          | 0/4 [00:00<?, ?it/s]"
     ]
    },
    {
     "name": "stdout",
     "output_type": "stream",
     "text": [
      "Author:  Category:Novels by Nalo Hopkinson\n"
     ]
    },
    {
     "name": "stderr",
     "output_type": "stream",
     "text": [
      "100%|██████████| 4/4 [00:01<00:00,  2.57it/s]\n",
      "  0%|          | 0/11 [00:00<?, ?it/s]"
     ]
    },
    {
     "name": "stdout",
     "output_type": "stream",
     "text": [
      "Ignoring page:  Skin Folk\n",
      "Author:  Category:Novels by J. Gregory Keyes\n"
     ]
    },
    {
     "name": "stderr",
     "output_type": "stream",
     "text": [
      " 36%|███▋      | 4/11 [00:01<00:01,  3.75it/s]"
     ]
    },
    {
     "name": "stdout",
     "output_type": "stream",
     "text": [
      "Ignoring page:  A Calculus of Angels\n"
     ]
    },
    {
     "name": "stderr",
     "output_type": "stream",
     "text": [
      " 91%|█████████ | 10/11 [00:02<00:00,  3.33it/s]"
     ]
    },
    {
     "name": "stdout",
     "output_type": "stream",
     "text": [
      "Ignoring page:  Babylon 5: Final Reckoning – The Fate of Bester\n"
     ]
    },
    {
     "name": "stderr",
     "output_type": "stream",
     "text": [
      "100%|██████████| 11/11 [00:03<00:00,  3.56it/s]\n",
      "  0%|          | 0/9 [00:00<?, ?it/s]"
     ]
    },
    {
     "name": "stdout",
     "output_type": "stream",
     "text": [
      "Ignoring page:  Newton's Cannon\n",
      "Author:  Category:Novels by Damon Knight\n"
     ]
    },
    {
     "name": "stderr",
     "output_type": "stream",
     "text": [
      "100%|██████████| 9/9 [00:02<00:00,  3.61it/s]\n",
      "  0%|          | 0/20 [00:00<?, ?it/s]"
     ]
    },
    {
     "name": "stdout",
     "output_type": "stream",
     "text": [
      "Author:  Category:Novels by Ursula K. Le Guin\n"
     ]
    },
    {
     "name": "stderr",
     "output_type": "stream",
     "text": [
      "100%|██████████| 20/20 [00:07<00:00,  2.09it/s]\n",
      "  0%|          | 0/18 [00:00<?, ?it/s]"
     ]
    },
    {
     "name": "stdout",
     "output_type": "stream",
     "text": [
      "Author:  Category:Novels by Stanisław Lem\n"
     ]
    },
    {
     "name": "stderr",
     "output_type": "stream",
     "text": [
      " 17%|█▋        | 3/18 [00:00<00:03,  3.80it/s]"
     ]
    },
    {
     "name": "stdout",
     "output_type": "stream",
     "text": [
      "Ignoring page:  Czas nieutracony\n"
     ]
    },
    {
     "name": "stderr",
     "output_type": "stream",
     "text": [
      " 50%|█████     | 9/18 [00:02<00:02,  3.42it/s]"
     ]
    },
    {
     "name": "stdout",
     "output_type": "stream",
     "text": [
      "Ignoring page:  Hospital of the Transfiguration\n"
     ]
    },
    {
     "name": "stderr",
     "output_type": "stream",
     "text": [
      "\r",
      " 56%|█████▌    | 10/18 [00:02<00:02,  3.63it/s]"
     ]
    },
    {
     "name": "stdout",
     "output_type": "stream",
     "text": [
      "Ignoring page:  The Investigation\n"
     ]
    },
    {
     "name": "stderr",
     "output_type": "stream",
     "text": [
      "100%|██████████| 18/18 [00:05<00:00,  3.36it/s]\n",
      "  0%|          | 0/23 [00:00<?, ?it/s]"
     ]
    },
    {
     "name": "stdout",
     "output_type": "stream",
     "text": [
      "Author:  Category:Novels by Sergey Lukyanenko\n"
     ]
    },
    {
     "name": "stderr",
     "output_type": "stream",
     "text": [
      "\r",
      "  4%|▍         | 1/23 [00:00<00:05,  4.06it/s]"
     ]
    },
    {
     "name": "stdout",
     "output_type": "stream",
     "text": [
      "Ignoring page:  Sergei Lukyanenko bibliography\n"
     ]
    },
    {
     "name": "stderr",
     "output_type": "stream",
     "text": [
      " 52%|█████▏    | 12/23 [00:05<00:04,  2.24it/s]"
     ]
    },
    {
     "name": "stdout",
     "output_type": "stream",
     "text": [
      "Ignoring page:  A Lord from Planet Earth\n"
     ]
    },
    {
     "name": "stderr",
     "output_type": "stream",
     "text": [
      " 70%|██████▉   | 16/23 [00:07<00:02,  2.49it/s]"
     ]
    },
    {
     "name": "stdout",
     "output_type": "stream",
     "text": [
      "Ignoring page:  Nuclear Dream (collection)\n"
     ]
    },
    {
     "name": "stderr",
     "output_type": "stream",
     "text": [
      "100%|██████████| 23/23 [00:09<00:00,  2.80it/s]\n",
      "  0%|          | 0/1 [00:00<?, ?it/s]"
     ]
    },
    {
     "name": "stdout",
     "output_type": "stream",
     "text": [
      "Author:  Category:Novels by David Marusek\n"
     ]
    },
    {
     "name": "stderr",
     "output_type": "stream",
     "text": [
      "100%|██████████| 1/1 [00:00<00:00,  4.26it/s]\n",
      "  0%|          | 0/48 [00:00<?, ?it/s]"
     ]
    },
    {
     "name": "stdout",
     "output_type": "stream",
     "text": [
      "Ignoring page:  Counting Heads\n",
      "Author:  Category:Novels by Anne McCaffrey\n"
     ]
    },
    {
     "name": "stderr",
     "output_type": "stream",
     "text": [
      " 10%|█         | 5/48 [00:01<00:14,  3.05it/s]"
     ]
    },
    {
     "name": "stdout",
     "output_type": "stream",
     "text": [
      "Ignoring page:  Acorna's Rebels\n"
     ]
    },
    {
     "name": "stderr",
     "output_type": "stream",
     "text": [
      " 58%|█████▊    | 28/48 [00:08<00:05,  3.50it/s]"
     ]
    },
    {
     "name": "stdout",
     "output_type": "stream",
     "text": [
      "Ignoring page:  First Warning (novel)\n"
     ]
    },
    {
     "name": "stderr",
     "output_type": "stream",
     "text": [
      " 62%|██████▎   | 30/48 [00:09<00:04,  3.83it/s]"
     ]
    },
    {
     "name": "stdout",
     "output_type": "stream",
     "text": [
      "Ignoring page:  The Harper Hall Trilogy\n"
     ]
    },
    {
     "name": "stderr",
     "output_type": "stream",
     "text": [
      "\r",
      " 65%|██████▍   | 31/48 [00:09<00:04,  3.93it/s]"
     ]
    },
    {
     "name": "stdout",
     "output_type": "stream",
     "text": [
      "Ignoring page:  Lyon's Pride\n"
     ]
    },
    {
     "name": "stderr",
     "output_type": "stream",
     "text": [
      " 79%|███████▉  | 38/48 [00:11<00:02,  3.76it/s]"
     ]
    },
    {
     "name": "stdout",
     "output_type": "stream",
     "text": [
      "Ignoring page:  The Renegades of Pern\n"
     ]
    },
    {
     "name": "stderr",
     "output_type": "stream",
     "text": [
      " 88%|████████▊ | 42/48 [00:12<00:01,  3.48it/s]"
     ]
    },
    {
     "name": "stdout",
     "output_type": "stream",
     "text": [
      "Ignoring page:  The Ship Who Sang\n"
     ]
    },
    {
     "name": "stderr",
     "output_type": "stream",
     "text": [
      "\r",
      " 90%|████████▉ | 43/48 [00:12<00:01,  3.66it/s]"
     ]
    },
    {
     "name": "stdout",
     "output_type": "stream",
     "text": [
      "Ignoring page:  The Ship Who Searched\n"
     ]
    },
    {
     "name": "stderr",
     "output_type": "stream",
     "text": [
      " 96%|█████████▌| 46/48 [00:13<00:00,  3.89it/s]"
     ]
    },
    {
     "name": "stdout",
     "output_type": "stream",
     "text": [
      "Ignoring page:  To Ride Pegasus\n"
     ]
    },
    {
     "name": "stderr",
     "output_type": "stream",
     "text": [
      "\r",
      " 98%|█████████▊| 47/48 [00:13<00:00,  3.99it/s]"
     ]
    },
    {
     "name": "stdout",
     "output_type": "stream",
     "text": [
      "Ignoring page:  The Tower and the Hive\n"
     ]
    },
    {
     "name": "stderr",
     "output_type": "stream",
     "text": [
      "100%|██████████| 48/48 [00:13<00:00,  3.92it/s]\n",
      "  0%|          | 0/8 [00:00<?, ?it/s]"
     ]
    },
    {
     "name": "stdout",
     "output_type": "stream",
     "text": [
      "Author:  Category:Novels by Todd McCaffrey\n"
     ]
    },
    {
     "name": "stderr",
     "output_type": "stream",
     "text": [
      "100%|██████████| 8/8 [00:02<00:00,  3.47it/s]\n",
      "  0%|          | 0/15 [00:00<?, ?it/s]"
     ]
    },
    {
     "name": "stdout",
     "output_type": "stream",
     "text": [
      "Author:  Category:Novels by Ian McDonald\n"
     ]
    },
    {
     "name": "stderr",
     "output_type": "stream",
     "text": [
      " 27%|██▋       | 4/15 [00:01<00:03,  3.52it/s]"
     ]
    },
    {
     "name": "stdout",
     "output_type": "stream",
     "text": [
      "Ignoring page:  Chaga (McDonald novel)\n"
     ]
    },
    {
     "name": "stderr",
     "output_type": "stream",
     "text": [
      " 53%|█████▎    | 8/15 [00:02<00:01,  3.55it/s]"
     ]
    },
    {
     "name": "stdout",
     "output_type": "stream",
     "text": [
      "Ignoring page:  Ian McDonald bibliography\n"
     ]
    },
    {
     "name": "stderr",
     "output_type": "stream",
     "text": [
      " 80%|████████  | 12/15 [00:03<00:00,  3.32it/s]"
     ]
    },
    {
     "name": "stdout",
     "output_type": "stream",
     "text": [
      "Ignoring page:  Out on Blue Six (novel)\n"
     ]
    },
    {
     "name": "stderr",
     "output_type": "stream",
     "text": [
      "100%|██████████| 15/15 [00:04<00:00,  3.08it/s]\n",
      "  0%|          | 0/14 [00:00<?, ?it/s]"
     ]
    },
    {
     "name": "stdout",
     "output_type": "stream",
     "text": [
      "Author:  Category:Novels by Elizabeth Moon\n"
     ]
    },
    {
     "name": "stderr",
     "output_type": "stream",
     "text": [
      " 29%|██▊       | 4/14 [00:01<00:02,  3.54it/s]"
     ]
    },
    {
     "name": "stdout",
     "output_type": "stream",
     "text": [
      "Ignoring page:  Familias Regnant universe\n"
     ]
    },
    {
     "name": "stderr",
     "output_type": "stream",
     "text": [
      "100%|██████████| 14/14 [00:04<00:00,  2.67it/s]\n",
      "  0%|          | 0/7 [00:00<?, ?it/s]"
     ]
    },
    {
     "name": "stdout",
     "output_type": "stream",
     "text": [
      "Author:  Category:Novels by Richard Morgan\n"
     ]
    },
    {
     "name": "stderr",
     "output_type": "stream",
     "text": [
      "\r",
      " 14%|█▍        | 1/7 [00:00<00:01,  3.97it/s]"
     ]
    },
    {
     "name": "stdout",
     "output_type": "stream",
     "text": [
      "Ignoring page:  Altered Carbon\n"
     ]
    },
    {
     "name": "stderr",
     "output_type": "stream",
     "text": [
      "100%|██████████| 7/7 [00:02<00:00,  3.25it/s]\n",
      "  0%|          | 0/2 [00:00<?, ?it/s]"
     ]
    },
    {
     "name": "stdout",
     "output_type": "stream",
     "text": [
      "Author:  Category:Novels by Jim Munroe\n"
     ]
    },
    {
     "name": "stderr",
     "output_type": "stream",
     "text": [
      "100%|██████████| 2/2 [00:00<00:00,  4.01it/s]\n",
      "  0%|          | 0/20 [00:00<?, ?it/s]"
     ]
    },
    {
     "name": "stdout",
     "output_type": "stream",
     "text": [
      "Ignoring page:  Therefore Repent!\n",
      "Author:  Category:Novels by Kim Stanley Robinson\n"
     ]
    },
    {
     "name": "stderr",
     "output_type": "stream",
     "text": [
      " 35%|███▌      | 7/20 [00:02<00:03,  3.34it/s]"
     ]
    },
    {
     "name": "stdout",
     "output_type": "stream",
     "text": [
      "Ignoring page:  Galileo's Dream\n"
     ]
    },
    {
     "name": "stderr",
     "output_type": "stream",
     "text": [
      " 55%|█████▌    | 11/20 [00:04<00:04,  1.93it/s]"
     ]
    },
    {
     "name": "stdout",
     "output_type": "stream",
     "text": [
      "Ignoring page:  The Memory of Whiteness\n"
     ]
    },
    {
     "name": "stderr",
     "output_type": "stream",
     "text": [
      " 85%|████████▌ | 17/20 [00:07<00:01,  2.56it/s]"
     ]
    },
    {
     "name": "stdout",
     "output_type": "stream",
     "text": [
      "Ignoring page:  A Short, Sharp Shock\n"
     ]
    },
    {
     "name": "stderr",
     "output_type": "stream",
     "text": [
      "\r",
      " 90%|█████████ | 18/20 [00:07<00:00,  2.91it/s]"
     ]
    },
    {
     "name": "stdout",
     "output_type": "stream",
     "text": [
      "Ignoring page:  Sixty Days and Counting\n"
     ]
    },
    {
     "name": "stderr",
     "output_type": "stream",
     "text": [
      "100%|██████████| 20/20 [00:08<00:00,  2.19it/s]\n",
      "  0%|          | 0/1 [00:00<?, ?it/s]"
     ]
    },
    {
     "name": "stdout",
     "output_type": "stream",
     "text": [
      "Author:  Category:Novels by Joel Rosenberg\n"
     ]
    },
    {
     "name": "stderr",
     "output_type": "stream",
     "text": [
      "100%|██████████| 1/1 [00:00<00:00,  4.19it/s]\n",
      "  0%|          | 0/8 [00:00<?, ?it/s]"
     ]
    },
    {
     "name": "stdout",
     "output_type": "stream",
     "text": [
      "Ignoring page:  Murder in LaMut\n",
      "Author:  Category:Novels by Geoff Ryman\n"
     ]
    },
    {
     "name": "stderr",
     "output_type": "stream",
     "text": [
      "\r",
      " 12%|█▎        | 1/8 [00:00<00:01,  4.24it/s]"
     ]
    },
    {
     "name": "stdout",
     "output_type": "stream",
     "text": [
      "Ignoring page:  List of awards and nominations received by Geoff Ryman\n"
     ]
    },
    {
     "name": "stderr",
     "output_type": "stream",
     "text": [
      "\r",
      " 25%|██▌       | 2/8 [00:00<00:01,  4.25it/s]"
     ]
    },
    {
     "name": "stdout",
     "output_type": "stream",
     "text": [
      "Ignoring page:  Geoff Ryman bibliography\n"
     ]
    },
    {
     "name": "stderr",
     "output_type": "stream",
     "text": [
      "100%|██████████| 8/8 [00:02<00:00,  3.76it/s]\n",
      "  0%|          | 0/57 [00:00<?, ?it/s]"
     ]
    },
    {
     "name": "stdout",
     "output_type": "stream",
     "text": [
      "Author:  Category:Novels by R. A. Salvatore\n"
     ]
    },
    {
     "name": "stderr",
     "output_type": "stream",
     "text": [
      "\r",
      "  2%|▏         | 1/57 [00:00<00:13,  4.09it/s]"
     ]
    },
    {
     "name": "stdout",
     "output_type": "stream",
     "text": [
      "Ignoring page:  R. A. Salvatore bibliography\n"
     ]
    },
    {
     "name": "stderr",
     "output_type": "stream",
     "text": [
      "\r",
      "  4%|▎         | 2/57 [00:00<00:13,  4.06it/s]"
     ]
    },
    {
     "name": "stdout",
     "output_type": "stream",
     "text": [
      "Ignoring page:  The Ancient\n"
     ]
    },
    {
     "name": "stderr",
     "output_type": "stream",
     "text": [
      "  9%|▉         | 5/57 [00:01<00:14,  3.68it/s]"
     ]
    },
    {
     "name": "stdout",
     "output_type": "stream",
     "text": [
      "Ignoring page:  Chronicles of Ynis Aielle\n"
     ]
    },
    {
     "name": "stderr",
     "output_type": "stream",
     "text": [
      " 12%|█▏        | 7/57 [00:01<00:12,  3.86it/s]"
     ]
    },
    {
     "name": "stdout",
     "output_type": "stream",
     "text": [
      "Ignoring page:  The Crimson Shadow series\n"
     ]
    },
    {
     "name": "stderr",
     "output_type": "stream",
     "text": [
      " 25%|██▍       | 14/57 [00:04<00:13,  3.27it/s]"
     ]
    },
    {
     "name": "stdout",
     "output_type": "stream",
     "text": [
      "Ignoring page:  The Crimson Shadow series\n"
     ]
    },
    {
     "name": "stderr",
     "output_type": "stream",
     "text": [
      " 49%|████▉     | 28/57 [00:08<00:08,  3.42it/s]"
     ]
    },
    {
     "name": "stdout",
     "output_type": "stream",
     "text": [
      "Ignoring page:  Legacy of the Drow\n"
     ]
    },
    {
     "name": "stderr",
     "output_type": "stream",
     "text": [
      " 53%|█████▎    | 30/57 [00:08<00:07,  3.64it/s]"
     ]
    },
    {
     "name": "stdout",
     "output_type": "stream",
     "text": [
      "Ignoring page:  The Crimson Shadow series\n"
     ]
    },
    {
     "name": "stderr",
     "output_type": "stream",
     "text": [
      " 61%|██████▏   | 35/57 [00:10<00:06,  3.42it/s]"
     ]
    },
    {
     "name": "stdout",
     "output_type": "stream",
     "text": [
      "Ignoring page:  Paths of Darkness\n"
     ]
    },
    {
     "name": "stderr",
     "output_type": "stream",
     "text": [
      " 81%|████████  | 46/57 [00:13<00:02,  3.87it/s]"
     ]
    },
    {
     "name": "stdout",
     "output_type": "stream",
     "text": [
      "Ignoring page:  Star Wars: Episode II – Attack of the Clones (novel)\n"
     ]
    },
    {
     "name": "stderr",
     "output_type": "stream",
     "text": [
      " 84%|████████▍ | 48/57 [00:14<00:02,  3.84it/s]"
     ]
    },
    {
     "name": "stdout",
     "output_type": "stream",
     "text": [
      "Ignoring page:  Stone of Tymora\n"
     ]
    },
    {
     "name": "stderr",
     "output_type": "stream",
     "text": [
      " 88%|████████▊ | 50/57 [00:14<00:01,  3.72it/s]"
     ]
    },
    {
     "name": "stdout",
     "output_type": "stream",
     "text": [
      "Ignoring page:  The Crimson Shadow series\n"
     ]
    },
    {
     "name": "stderr",
     "output_type": "stream",
     "text": [
      "100%|██████████| 57/57 [00:16<00:00,  3.43it/s]\n",
      "  0%|          | 0/16 [00:00<?, ?it/s]"
     ]
    },
    {
     "name": "stdout",
     "output_type": "stream",
     "text": [
      "Author:  Category:Novels by Robert J. Sawyer\n"
     ]
    },
    {
     "name": "stderr",
     "output_type": "stream",
     "text": [
      " 44%|████▍     | 7/16 [00:02<00:03,  2.64it/s]"
     ]
    },
    {
     "name": "stdout",
     "output_type": "stream",
     "text": [
      "Ignoring page:  The Neanderthal Parallax\n"
     ]
    },
    {
     "name": "stderr",
     "output_type": "stream",
     "text": [
      "100%|██████████| 16/16 [00:05<00:00,  3.44it/s]\n",
      "  0%|          | 0/3 [00:00<?, ?it/s]"
     ]
    },
    {
     "name": "stdout",
     "output_type": "stream",
     "text": [
      "Author:  Category:Novels by Karl Schroeder\n"
     ]
    },
    {
     "name": "stderr",
     "output_type": "stream",
     "text": [
      "100%|██████████| 3/3 [00:00<00:00,  3.07it/s]\n",
      "  0%|          | 0/16 [00:00<?, ?it/s]"
     ]
    },
    {
     "name": "stdout",
     "output_type": "stream",
     "text": [
      "Ignoring page:  Ventus (Schroeder novel)\n",
      "Author:  Category:Novels by Charles Sheffield\n"
     ]
    },
    {
     "name": "stderr",
     "output_type": "stream",
     "text": [
      " 12%|█▎        | 2/16 [00:00<00:04,  2.97it/s]"
     ]
    },
    {
     "name": "stdout",
     "output_type": "stream",
     "text": [
      "Ignoring page:  The Billion Dollar Boy\n"
     ]
    },
    {
     "name": "stderr",
     "output_type": "stream",
     "text": [
      "\r",
      " 19%|█▉        | 3/16 [00:00<00:03,  3.26it/s]"
     ]
    },
    {
     "name": "stdout",
     "output_type": "stream",
     "text": [
      "Ignoring page:  Cold as Ice (novel)\n"
     ]
    },
    {
     "name": "stderr",
     "output_type": "stream",
     "text": [
      " 38%|███▊      | 6/16 [00:01<00:02,  3.62it/s]"
     ]
    },
    {
     "name": "stdout",
     "output_type": "stream",
     "text": [
      "Ignoring page:  Divergence (novel)\n"
     ]
    },
    {
     "name": "stderr",
     "output_type": "stream",
     "text": [
      "\r",
      " 44%|████▍     | 7/16 [00:01<00:02,  3.78it/s]"
     ]
    },
    {
     "name": "stdout",
     "output_type": "stream",
     "text": [
      "Ignoring page:  The Ganymede Club\n"
     ]
    },
    {
     "name": "stderr",
     "output_type": "stream",
     "text": [
      "\r",
      " 50%|█████     | 8/16 [00:02<00:02,  3.82it/s]"
     ]
    },
    {
     "name": "stdout",
     "output_type": "stream",
     "text": [
      "Ignoring page:  Godspeed (Sheffield novel)\n"
     ]
    },
    {
     "name": "stderr",
     "output_type": "stream",
     "text": [
      " 62%|██████▎   | 10/16 [00:02<00:01,  3.82it/s]"
     ]
    },
    {
     "name": "stdout",
     "output_type": "stream",
     "text": [
      "Ignoring page:  My Brother's Keeper (Sheffield novel)\n"
     ]
    },
    {
     "name": "stderr",
     "output_type": "stream",
     "text": [
      "\r",
      " 69%|██████▉   | 11/16 [00:02<00:01,  3.95it/s]"
     ]
    },
    {
     "name": "stdout",
     "output_type": "stream",
     "text": [
      "Ignoring page:  Nimrod Hunt\n"
     ]
    },
    {
     "name": "stderr",
     "output_type": "stream",
     "text": [
      " 81%|████████▏ | 13/16 [00:03<00:00,  3.44it/s]"
     ]
    },
    {
     "name": "stdout",
     "output_type": "stream",
     "text": [
      "Ignoring page:  Resurgence (novel)\n"
     ]
    },
    {
     "name": "stderr",
     "output_type": "stream",
     "text": [
      "\r",
      " 88%|████████▊ | 14/16 [00:03<00:00,  3.64it/s]"
     ]
    },
    {
     "name": "stdout",
     "output_type": "stream",
     "text": [
      "Ignoring page:  Summertide\n"
     ]
    },
    {
     "name": "stderr",
     "output_type": "stream",
     "text": [
      "100%|██████████| 16/16 [00:04<00:00,  3.70it/s]\n",
      "  0%|          | 0/35 [00:00<?, ?it/s]"
     ]
    },
    {
     "name": "stdout",
     "output_type": "stream",
     "text": [
      "Author:  Category:Novels by Robert Silverberg\n"
     ]
    },
    {
     "name": "stderr",
     "output_type": "stream",
     "text": [
      " 34%|███▍      | 12/35 [00:03<00:06,  3.53it/s]"
     ]
    },
    {
     "name": "stdout",
     "output_type": "stream",
     "text": [
      "Ignoring page:  Majipoor series\n"
     ]
    },
    {
     "name": "stderr",
     "output_type": "stream",
     "text": [
      " 60%|██████    | 21/35 [00:06<00:04,  3.22it/s]"
     ]
    },
    {
     "name": "stdout",
     "output_type": "stream",
     "text": [
      "Ignoring page:  The Seed of Earth\n"
     ]
    },
    {
     "name": "stderr",
     "output_type": "stream",
     "text": [
      " 69%|██████▊   | 24/35 [00:07<00:04,  2.66it/s]"
     ]
    },
    {
     "name": "stdout",
     "output_type": "stream",
     "text": [
      "Ignoring page:  Son of Man (novel)\n"
     ]
    },
    {
     "name": "stderr",
     "output_type": "stream",
     "text": [
      " 80%|████████  | 28/35 [00:08<00:02,  3.28it/s]"
     ]
    },
    {
     "name": "stdout",
     "output_type": "stream",
     "text": [
      "Ignoring page:  Those Who Watch\n"
     ]
    },
    {
     "name": "stderr",
     "output_type": "stream",
     "text": [
      " 89%|████████▊ | 31/35 [00:09<00:01,  3.33it/s]"
     ]
    },
    {
     "name": "stdout",
     "output_type": "stream",
     "text": [
      "Ignoring page:  Time of the Great Freeze\n"
     ]
    },
    {
     "name": "stderr",
     "output_type": "stream",
     "text": [
      "100%|██████████| 35/35 [00:10<00:00,  3.47it/s]\n",
      "  0%|          | 0/14 [00:00<?, ?it/s]"
     ]
    },
    {
     "name": "stdout",
     "output_type": "stream",
     "text": [
      "Author:  Category:Novels by Clifford D. Simak\n"
     ]
    },
    {
     "name": "stderr",
     "output_type": "stream",
     "text": [
      " 50%|█████     | 7/14 [00:02<00:02,  3.48it/s]"
     ]
    },
    {
     "name": "stdout",
     "output_type": "stream",
     "text": [
      "Ignoring page:  Ring Around the Sun (novel)\n"
     ]
    },
    {
     "name": "stderr",
     "output_type": "stream",
     "text": [
      " 64%|██████▍   | 9/14 [00:02<00:01,  3.75it/s]"
     ]
    },
    {
     "name": "stdout",
     "output_type": "stream",
     "text": [
      "Ignoring page:  Time and Again (Simak novel)\n"
     ]
    },
    {
     "name": "stderr",
     "output_type": "stream",
     "text": [
      " 93%|█████████▎| 13/14 [00:03<00:00,  3.55it/s]"
     ]
    },
    {
     "name": "stdout",
     "output_type": "stream",
     "text": [
      "Ignoring page:  The Werewolf Principle\n"
     ]
    },
    {
     "name": "stderr",
     "output_type": "stream",
     "text": [
      "100%|██████████| 14/14 [00:04<00:00,  3.65it/s]\n",
      "  0%|          | 0/5 [00:00<?, ?it/s]"
     ]
    },
    {
     "name": "stdout",
     "output_type": "stream",
     "text": [
      "Author:  Category:Novels by E. E. Smith\n"
     ]
    },
    {
     "name": "stderr",
     "output_type": "stream",
     "text": [
      "100%|██████████| 5/5 [00:01<00:00,  3.56it/s]\n",
      "  0%|          | 0/3 [00:00<?, ?it/s]"
     ]
    },
    {
     "name": "stdout",
     "output_type": "stream",
     "text": [
      "Author:  Category:Novels by Roland Smith\n"
     ]
    },
    {
     "name": "stderr",
     "output_type": "stream",
     "text": [
      "100%|██████████| 3/3 [00:00<00:00,  3.27it/s]\n",
      "  0%|          | 0/7 [00:00<?, ?it/s]"
     ]
    },
    {
     "name": "stdout",
     "output_type": "stream",
     "text": [
      "Author:  Category:Novels by Norman Spinrad\n"
     ]
    },
    {
     "name": "stderr",
     "output_type": "stream",
     "text": [
      "100%|██████████| 7/7 [00:02<00:00,  2.90it/s]\n",
      "  0%|          | 0/24 [00:00<?, ?it/s]"
     ]
    },
    {
     "name": "stdout",
     "output_type": "stream",
     "text": [
      "Author:  Category:Novels by S. M. Stirling\n"
     ]
    },
    {
     "name": "stderr",
     "output_type": "stream",
     "text": [
      " 38%|███▊      | 9/24 [00:03<00:04,  3.23it/s]"
     ]
    },
    {
     "name": "stdout",
     "output_type": "stream",
     "text": [
      "Ignoring page:  Jimmy the Hand (novel)\n"
     ]
    },
    {
     "name": "stderr",
     "output_type": "stream",
     "text": [
      "100%|██████████| 24/24 [00:08<00:00,  3.26it/s]\n",
      "  0%|          | 0/23 [00:00<?, ?it/s]"
     ]
    },
    {
     "name": "stdout",
     "output_type": "stream",
     "text": [
      "Author:  Category:Novels by Arkady and Boris Strugatsky\n"
     ]
    },
    {
     "name": "stderr",
     "output_type": "stream",
     "text": [
      " 17%|█▋        | 4/23 [00:01<00:05,  3.55it/s]"
     ]
    },
    {
     "name": "stdout",
     "output_type": "stream",
     "text": [
      "Ignoring page:  Devil amongst people\n"
     ]
    },
    {
     "name": "stderr",
     "output_type": "stream",
     "text": [
      " 70%|██████▉   | 16/23 [00:05<00:02,  3.02it/s]"
     ]
    },
    {
     "name": "stdout",
     "output_type": "stream",
     "text": [
      "Ignoring page:  Search for Destiny or the Twenty Seventh Theorem of Ethics\n"
     ]
    },
    {
     "name": "stderr",
     "output_type": "stream",
     "text": [
      " 87%|████████▋ | 20/23 [00:06<00:00,  3.31it/s]"
     ]
    },
    {
     "name": "stdout",
     "output_type": "stream",
     "text": [
      "Ignoring page:  Stalker (novel)\n"
     ]
    },
    {
     "name": "stderr",
     "output_type": "stream",
     "text": [
      "\r",
      " 91%|█████████▏| 21/23 [00:06<00:00,  3.54it/s]"
     ]
    },
    {
     "name": "stdout",
     "output_type": "stream",
     "text": [
      "Ignoring page:  Tale of the Troika\n"
     ]
    },
    {
     "name": "stderr",
     "output_type": "stream",
     "text": [
      "100%|██████████| 23/23 [00:07<00:00,  3.56it/s]\n",
      "  0%|          | 0/6 [00:00<?, ?it/s]"
     ]
    },
    {
     "name": "stdout",
     "output_type": "stream",
     "text": [
      "Author:  Category:Novels by Michael Swanwick\n"
     ]
    },
    {
     "name": "stderr",
     "output_type": "stream",
     "text": [
      "100%|██████████| 6/6 [00:01<00:00,  3.49it/s]\n",
      "  0%|          | 0/2 [00:00<?, ?it/s]"
     ]
    },
    {
     "name": "stdout",
     "output_type": "stream",
     "text": [
      "Author:  Category:Science fiction novels by Walter Tevis\n"
     ]
    },
    {
     "name": "stderr",
     "output_type": "stream",
     "text": [
      "100%|██████████| 2/2 [00:00<00:00,  3.35it/s]\n",
      "  0%|          | 0/19 [00:00<?, ?it/s]"
     ]
    },
    {
     "name": "stdout",
     "output_type": "stream",
     "text": [
      "Author:  Category:Novels by A. E. van Vogt\n"
     ]
    },
    {
     "name": "stderr",
     "output_type": "stream",
     "text": [
      " 42%|████▏     | 8/19 [00:02<00:02,  3.92it/s]"
     ]
    },
    {
     "name": "stdout",
     "output_type": "stream",
     "text": [
      "Ignoring page:  The Pawns of Null-A\n"
     ]
    },
    {
     "name": "stderr",
     "output_type": "stream",
     "text": [
      " 84%|████████▍ | 16/19 [00:04<00:00,  3.31it/s]"
     ]
    },
    {
     "name": "stdout",
     "output_type": "stream",
     "text": [
      "Ignoring page:  The Weapon Makers\n"
     ]
    },
    {
     "name": "stderr",
     "output_type": "stream",
     "text": [
      "\r",
      " 89%|████████▉ | 17/19 [00:04<00:00,  3.54it/s]"
     ]
    },
    {
     "name": "stdout",
     "output_type": "stream",
     "text": [
      "Ignoring page:  The Weapon Shops of Isher\n"
     ]
    },
    {
     "name": "stderr",
     "output_type": "stream",
     "text": [
      "100%|██████████| 19/19 [00:05<00:00,  3.58it/s]\n",
      "  0%|          | 0/41 [00:00<?, ?it/s]"
     ]
    },
    {
     "name": "stdout",
     "output_type": "stream",
     "text": [
      "Author:  Category:Novels by Jack Vance\n"
     ]
    },
    {
     "name": "stderr",
     "output_type": "stream",
     "text": [
      " 27%|██▋       | 11/41 [00:03<00:09,  3.19it/s]"
     ]
    },
    {
     "name": "stdout",
     "output_type": "stream",
     "text": [
      "Ignoring page:  Demon Princes\n"
     ]
    },
    {
     "name": "stderr",
     "output_type": "stream",
     "text": [
      "100%|██████████| 41/41 [00:13<00:00,  2.98it/s]\n",
      "  0%|          | 0/8 [00:00<?, ?it/s]"
     ]
    },
    {
     "name": "stdout",
     "output_type": "stream",
     "text": [
      "Author:  Category:Novels by John Varley\n"
     ]
    },
    {
     "name": "stderr",
     "output_type": "stream",
     "text": [
      " 25%|██▌       | 2/8 [00:00<00:02,  2.97it/s]"
     ]
    },
    {
     "name": "stdout",
     "output_type": "stream",
     "text": [
      "Ignoring page:  Gaea trilogy\n"
     ]
    },
    {
     "name": "stderr",
     "output_type": "stream",
     "text": [
      "100%|██████████| 8/8 [00:02<00:00,  3.06it/s]\n",
      "  0%|          | 0/65 [00:00<?, ?it/s]"
     ]
    },
    {
     "name": "stdout",
     "output_type": "stream",
     "text": [
      "Author:  Category:Novels by Jules Verne\n"
     ]
    },
    {
     "name": "stderr",
     "output_type": "stream",
     "text": [
      "  6%|▌         | 4/65 [00:01<00:16,  3.64it/s]"
     ]
    },
    {
     "name": "stdout",
     "output_type": "stream",
     "text": [
      "Ignoring page:  The Archipelago on Fire\n"
     ]
    },
    {
     "name": "stderr",
     "output_type": "stream",
     "text": [
      " 12%|█▏        | 8/65 [00:02<00:19,  2.93it/s]"
     ]
    },
    {
     "name": "stdout",
     "output_type": "stream",
     "text": [
      "Ignoring page:  The Barsac Mission\n"
     ]
    },
    {
     "name": "stderr",
     "output_type": "stream",
     "text": [
      " 18%|█▊        | 12/65 [00:03<00:16,  3.19it/s]"
     ]
    },
    {
     "name": "stdout",
     "output_type": "stream",
     "text": [
      "Ignoring page:  The Castaways of the Flag\n"
     ]
    },
    {
     "name": "stderr",
     "output_type": "stream",
     "text": [
      " 22%|██▏       | 14/65 [00:04<00:14,  3.58it/s]"
     ]
    },
    {
     "name": "stdout",
     "output_type": "stream",
     "text": [
      "Ignoring page:  The Chase of the Golden Meteor\n"
     ]
    },
    {
     "name": "stderr",
     "output_type": "stream",
     "text": [
      " 28%|██▊       | 18/65 [00:05<00:12,  3.74it/s]"
     ]
    },
    {
     "name": "stdout",
     "output_type": "stream",
     "text": [
      "Ignoring page:  The Danube Pilot\n"
     ]
    },
    {
     "name": "stderr",
     "output_type": "stream",
     "text": [
      " 35%|███▌      | 23/65 [00:06<00:12,  3.43it/s]"
     ]
    },
    {
     "name": "stdout",
     "output_type": "stream",
     "text": [
      "Ignoring page:  Family Without a Name\n"
     ]
    },
    {
     "name": "stderr",
     "output_type": "stream",
     "text": [
      " 38%|███▊      | 25/65 [00:07<00:11,  3.63it/s]"
     ]
    },
    {
     "name": "stdout",
     "output_type": "stream",
     "text": [
      "Ignoring page:  The Flight to France\n"
     ]
    },
    {
     "name": "stderr",
     "output_type": "stream",
     "text": [
      " 51%|█████     | 33/65 [00:09<00:08,  3.71it/s]"
     ]
    },
    {
     "name": "stdout",
     "output_type": "stream",
     "text": [
      "Ignoring page:  An Ideal City\n"
     ]
    },
    {
     "name": "stderr",
     "output_type": "stream",
     "text": [
      " 58%|█████▊    | 38/65 [00:11<00:07,  3.50it/s]"
     ]
    },
    {
     "name": "stdout",
     "output_type": "stream",
     "text": [
      "Ignoring page:  The Kip Brothers\n"
     ]
    },
    {
     "name": "stderr",
     "output_type": "stream",
     "text": [
      " 62%|██████▏   | 40/65 [00:11<00:06,  3.66it/s]"
     ]
    },
    {
     "name": "stdout",
     "output_type": "stream",
     "text": [
      "Ignoring page:  The Lottery Ticket\n"
     ]
    },
    {
     "name": "stderr",
     "output_type": "stream",
     "text": [
      " 68%|██████▊   | 44/65 [00:13<00:05,  3.61it/s]"
     ]
    },
    {
     "name": "stdout",
     "output_type": "stream",
     "text": [
      "Ignoring page:  The Mighty Orinoco\n"
     ]
    },
    {
     "name": "stderr",
     "output_type": "stream",
     "text": [
      "\r",
      " 69%|██████▉   | 45/65 [00:13<00:05,  3.78it/s]"
     ]
    },
    {
     "name": "stdout",
     "output_type": "stream",
     "text": [
      "Ignoring page:  Mistress Branican\n"
     ]
    },
    {
     "name": "stderr",
     "output_type": "stream",
     "text": [
      " 80%|████████  | 52/65 [00:15<00:03,  3.45it/s]"
     ]
    },
    {
     "name": "stdout",
     "output_type": "stream",
     "text": [
      "Ignoring page:  The Sea Serpent\n"
     ]
    },
    {
     "name": "stderr",
     "output_type": "stream",
     "text": [
      " 97%|█████████▋| 63/65 [00:18<00:00,  3.38it/s]"
     ]
    },
    {
     "name": "stdout",
     "output_type": "stream",
     "text": [
      "Ignoring page:  The Village in the Treetops\n"
     ]
    },
    {
     "name": "stderr",
     "output_type": "stream",
     "text": [
      "100%|██████████| 65/65 [00:19<00:00,  3.57it/s]\n",
      "  0%|          | 0/11 [00:00<?, ?it/s]"
     ]
    },
    {
     "name": "stdout",
     "output_type": "stream",
     "text": [
      "Author:  Category:Novels by Jo Walton\n"
     ]
    },
    {
     "name": "stderr",
     "output_type": "stream",
     "text": [
      " 64%|██████▎   | 7/11 [00:02<00:01,  3.68it/s]"
     ]
    },
    {
     "name": "stdout",
     "output_type": "stream",
     "text": [
      "Ignoring page:  Lifelode\n"
     ]
    },
    {
     "name": "stderr",
     "output_type": "stream",
     "text": [
      " 82%|████████▏ | 9/11 [00:02<00:00,  3.86it/s]"
     ]
    },
    {
     "name": "stdout",
     "output_type": "stream",
     "text": [
      "Ignoring page:  The Prize in the Game\n"
     ]
    },
    {
     "name": "stderr",
     "output_type": "stream",
     "text": [
      "\r",
      " 91%|█████████ | 10/11 [00:02<00:00,  3.97it/s]"
     ]
    },
    {
     "name": "stdout",
     "output_type": "stream",
     "text": [
      "Ignoring page:  Small Change trilogy\n"
     ]
    },
    {
     "name": "stderr",
     "output_type": "stream",
     "text": [
      "100%|██████████| 11/11 [00:03<00:00,  3.92it/s]\n",
      "  0%|          | 0/53 [00:00<?, ?it/s]"
     ]
    },
    {
     "name": "stdout",
     "output_type": "stream",
     "text": [
      "Author:  Category:Novels by David Weber\n"
     ]
    },
    {
     "name": "stderr",
     "output_type": "stream",
     "text": [
      "  4%|▍         | 2/53 [00:00<00:13,  3.78it/s]"
     ]
    },
    {
     "name": "stdout",
     "output_type": "stream",
     "text": [
      "Ignoring page:  1634: The Baltic War\n"
     ]
    },
    {
     "name": "stderr",
     "output_type": "stream",
     "text": [
      "\r",
      "  6%|▌         | 3/53 [00:00<00:12,  3.91it/s]"
     ]
    },
    {
     "name": "stdout",
     "output_type": "stream",
     "text": [
      "Ignoring page:  1635: The Papal Stakes\n"
     ]
    },
    {
     "name": "stderr",
     "output_type": "stream",
     "text": [
      "\r",
      "  8%|▊         | 4/53 [00:00<00:12,  3.97it/s]"
     ]
    },
    {
     "name": "stdout",
     "output_type": "stream",
     "text": [
      "Ignoring page:  1636: The Kremlin Games\n"
     ]
    },
    {
     "name": "stderr",
     "output_type": "stream",
     "text": [
      "\r",
      "  9%|▉         | 5/53 [00:01<00:11,  4.01it/s]"
     ]
    },
    {
     "name": "stdout",
     "output_type": "stream",
     "text": [
      "Ignoring page:  1636: The Devil's Opera\n"
     ]
    },
    {
     "name": "stderr",
     "output_type": "stream",
     "text": [
      " 70%|██████▉   | 37/53 [00:13<00:05,  2.78it/s]"
     ]
    },
    {
     "name": "stdout",
     "output_type": "stream",
     "text": [
      "Ignoring page:  Old Soldiers\n"
     ]
    },
    {
     "name": "stderr",
     "output_type": "stream",
     "text": [
      " 91%|█████████ | 48/53 [00:17<00:01,  3.10it/s]"
     ]
    },
    {
     "name": "stdout",
     "output_type": "stream",
     "text": [
      "Ignoring page:  Uncompromising Honor\n"
     ]
    },
    {
     "name": "stderr",
     "output_type": "stream",
     "text": [
      " 96%|█████████▌| 51/53 [00:18<00:00,  3.44it/s]"
     ]
    },
    {
     "name": "stdout",
     "output_type": "stream",
     "text": [
      "Ignoring page:  We Few\n"
     ]
    },
    {
     "name": "stderr",
     "output_type": "stream",
     "text": [
      "100%|██████████| 53/53 [00:19<00:00,  3.60it/s]\n",
      "  0%|          | 0/42 [00:00<?, ?it/s]"
     ]
    },
    {
     "name": "stdout",
     "output_type": "stream",
     "text": [
      "Ignoring page:  Worlds of Weber\n",
      "Author:  Category:Novels by H. G. Wells\n"
     ]
    },
    {
     "name": "stderr",
     "output_type": "stream",
     "text": [
      " 12%|█▏        | 5/42 [00:01<00:10,  3.57it/s]"
     ]
    },
    {
     "name": "stdout",
     "output_type": "stream",
     "text": [
      "Ignoring page:  The Bulpington of Blup\n"
     ]
    },
    {
     "name": "stderr",
     "output_type": "stream",
     "text": [
      " 52%|█████▏    | 22/42 [00:07<00:05,  3.39it/s]"
     ]
    },
    {
     "name": "stdout",
     "output_type": "stream",
     "text": [
      "Ignoring page:  Mr. Britling Sees It Through\n"
     ]
    },
    {
     "name": "stderr",
     "output_type": "stream",
     "text": [
      "100%|██████████| 42/42 [00:13<00:00,  3.14it/s]\n",
      "  0%|          | 0/9 [00:00<?, ?it/s]"
     ]
    },
    {
     "name": "stdout",
     "output_type": "stream",
     "text": [
      "Ignoring page:  The World Set Free\n",
      "Author:  Category:Novels by Bernard Werber\n"
     ]
    },
    {
     "name": "stderr",
     "output_type": "stream",
     "text": [
      "\r",
      " 11%|█         | 1/9 [00:00<00:01,  4.32it/s]"
     ]
    },
    {
     "name": "stdout",
     "output_type": "stream",
     "text": [
      "Ignoring page:  The Empire of the Angels\n"
     ]
    },
    {
     "name": "stderr",
     "output_type": "stream",
     "text": [
      " 33%|███▎      | 3/9 [00:00<00:01,  4.14it/s]"
     ]
    },
    {
     "name": "stdout",
     "output_type": "stream",
     "text": [
      "Ignoring page:  L'Encyclopédie du savoir relatif et absolu\n"
     ]
    },
    {
     "name": "stderr",
     "output_type": "stream",
     "text": [
      "\r",
      " 44%|████▍     | 4/9 [00:00<00:01,  4.18it/s]"
     ]
    },
    {
     "name": "stdout",
     "output_type": "stream",
     "text": [
      "Ignoring page:  Les Fourmis\n"
     ]
    },
    {
     "name": "stderr",
     "output_type": "stream",
     "text": [
      " 78%|███████▊  | 7/9 [00:01<00:00,  4.07it/s]"
     ]
    },
    {
     "name": "stdout",
     "output_type": "stream",
     "text": [
      "Ignoring page:  Le Papillon des étoiles\n"
     ]
    },
    {
     "name": "stderr",
     "output_type": "stream",
     "text": [
      "100%|██████████| 9/9 [00:02<00:00,  4.02it/s]\n",
      "  0%|          | 0/15 [00:00<?, ?it/s]"
     ]
    },
    {
     "name": "stdout",
     "output_type": "stream",
     "text": [
      "Ignoring page:  Les Thanatonautes\n",
      "Author:  Category:Novels by James White\n"
     ]
    },
    {
     "name": "stderr",
     "output_type": "stream",
     "text": [
      "\r",
      "  7%|▋         | 1/15 [00:00<00:03,  4.20it/s]"
     ]
    },
    {
     "name": "stdout",
     "output_type": "stream",
     "text": [
      "Ignoring page:  Ambulance Ship\n"
     ]
    },
    {
     "name": "stderr",
     "output_type": "stream",
     "text": [
      " 20%|██        | 3/15 [00:00<00:02,  4.11it/s]"
     ]
    },
    {
     "name": "stdout",
     "output_type": "stream",
     "text": [
      "Ignoring page:  Double Contact\n"
     ]
    },
    {
     "name": "stderr",
     "output_type": "stream",
     "text": [
      " 33%|███▎      | 5/15 [00:01<00:02,  3.78it/s]"
     ]
    },
    {
     "name": "stdout",
     "output_type": "stream",
     "text": [
      "Ignoring page:  The Escape Orbit\n"
     ]
    },
    {
     "name": "stderr",
     "output_type": "stream",
     "text": [
      " 67%|██████▋   | 10/15 [00:02<00:01,  3.86it/s]"
     ]
    },
    {
     "name": "stdout",
     "output_type": "stream",
     "text": [
      "Ignoring page:  Second Ending\n"
     ]
    },
    {
     "name": "stderr",
     "output_type": "stream",
     "text": [
      " 80%|████████  | 12/15 [00:03<00:00,  3.70it/s]"
     ]
    },
    {
     "name": "stdout",
     "output_type": "stream",
     "text": [
      "Ignoring page:  The Silent Stars Go By\n"
     ]
    },
    {
     "name": "stderr",
     "output_type": "stream",
     "text": [
      "100%|██████████| 15/15 [00:04<00:00,  3.72it/s]\n",
      "  0%|          | 0/8 [00:00<?, ?it/s]"
     ]
    },
    {
     "name": "stdout",
     "output_type": "stream",
     "text": [
      "Ignoring page:  The Watch Below\n",
      "Author:  Category:Novels by Connie Willis\n"
     ]
    },
    {
     "name": "stderr",
     "output_type": "stream",
     "text": [
      " 62%|██████▎   | 5/8 [00:01<00:01,  2.99it/s]"
     ]
    },
    {
     "name": "stdout",
     "output_type": "stream",
     "text": [
      "Ignoring page:  Lincoln's Dreams\n"
     ]
    },
    {
     "name": "stderr",
     "output_type": "stream",
     "text": [
      " 88%|████████▊ | 7/8 [00:02<00:00,  3.06it/s]"
     ]
    },
    {
     "name": "stdout",
     "output_type": "stream",
     "text": [
      "Ignoring page:  Remake (novel)\n"
     ]
    },
    {
     "name": "stderr",
     "output_type": "stream",
     "text": [
      "100%|██████████| 8/8 [00:03<00:00,  2.81it/s]\n",
      "  0%|          | 0/12 [00:00<?, ?it/s]"
     ]
    },
    {
     "name": "stdout",
     "output_type": "stream",
     "text": [
      "Author:  Category:Novels by John Wyndham\n"
     ]
    },
    {
     "name": "stderr",
     "output_type": "stream",
     "text": [
      " 33%|███▎      | 4/12 [00:01<00:02,  3.44it/s]"
     ]
    },
    {
     "name": "stdout",
     "output_type": "stream",
     "text": [
      "Ignoring page:  Foul Play Suspected\n"
     ]
    },
    {
     "name": "stderr",
     "output_type": "stream",
     "text": [
      " 83%|████████▎ | 10/12 [00:03<00:00,  3.59it/s]"
     ]
    },
    {
     "name": "stdout",
     "output_type": "stream",
     "text": [
      "Ignoring page:  Stowaway to Mars\n"
     ]
    },
    {
     "name": "stderr",
     "output_type": "stream",
     "text": [
      "100%|██████████| 12/12 [00:03<00:00,  3.60it/s]\n",
      "  0%|          | 0/5 [00:00<?, ?it/s]"
     ]
    },
    {
     "name": "stdout",
     "output_type": "stream",
     "text": [
      "Author:  Category:Novels by Ivan Yefremov\n"
     ]
    },
    {
     "name": "stderr",
     "output_type": "stream",
     "text": [
      "100%|██████████| 5/5 [00:01<00:00,  3.26it/s]\n",
      "  0%|          | 0/17 [00:00<?, ?it/s]"
     ]
    },
    {
     "name": "stdout",
     "output_type": "stream",
     "text": [
      "Ignoring page:  Thais of Athens\n",
      "Author:  Category:Novels by Timothy Zahn\n"
     ]
    },
    {
     "name": "stderr",
     "output_type": "stream",
     "text": [
      "\r",
      "  6%|▌         | 1/17 [00:00<00:03,  4.18it/s]"
     ]
    },
    {
     "name": "stdout",
     "output_type": "stream",
     "text": [
      "Ignoring page:  Timothy Zahn bibliography\n"
     ]
    },
    {
     "name": "stderr",
     "output_type": "stream",
     "text": [
      " 59%|█████▉    | 10/17 [00:02<00:01,  3.61it/s]"
     ]
    },
    {
     "name": "stdout",
     "output_type": "stream",
     "text": [
      "Ignoring page:  Quadrail series\n"
     ]
    },
    {
     "name": "stderr",
     "output_type": "stream",
     "text": [
      "\r",
      " 65%|██████▍   | 11/17 [00:03<00:01,  3.75it/s]"
     ]
    },
    {
     "name": "stdout",
     "output_type": "stream",
     "text": [
      "Ignoring page:  Thrawn trilogy\n"
     ]
    },
    {
     "name": "stderr",
     "output_type": "stream",
     "text": [
      "100%|██████████| 17/17 [00:04<00:00,  3.75it/s]\n",
      "  0%|          | 0/28 [00:00<?, ?it/s]"
     ]
    },
    {
     "name": "stdout",
     "output_type": "stream",
     "text": [
      "Ignoring page:  Thrawn trilogy\n",
      "Author:  Category:Novels by Roger Zelazny\n"
     ]
    },
    {
     "name": "stderr",
     "output_type": "stream",
     "text": [
      " 46%|████▋     | 13/28 [00:04<00:04,  3.13it/s]"
     ]
    },
    {
     "name": "stdout",
     "output_type": "stream",
     "text": [
      "Ignoring page:  Flare (novel)\n"
     ]
    },
    {
     "name": "stderr",
     "output_type": "stream",
     "text": [
      " 61%|██████    | 17/28 [00:05<00:03,  3.40it/s]"
     ]
    },
    {
     "name": "stdout",
     "output_type": "stream",
     "text": [
      "Ignoring page:  Lord Demon\n"
     ]
    },
    {
     "name": "stderr",
     "output_type": "stream",
     "text": [
      " 71%|███████▏  | 20/28 [00:06<00:02,  2.95it/s]"
     ]
    },
    {
     "name": "stdout",
     "output_type": "stream",
     "text": [
      "Ignoring page:  The Mask of Loki\n"
     ]
    },
    {
     "name": "stderr",
     "output_type": "stream",
     "text": [
      " 79%|███████▊  | 22/28 [00:07<00:01,  3.38it/s]"
     ]
    },
    {
     "name": "stdout",
     "output_type": "stream",
     "text": [
      "Ignoring page:  Psychoshop\n"
     ]
    },
    {
     "name": "stderr",
     "output_type": "stream",
     "text": [
      "100%|██████████| 28/28 [00:09<00:00,  3.29it/s]\n",
      "  0%|          | 0/2 [00:00<?, ?it/s]"
     ]
    },
    {
     "name": "stdout",
     "output_type": "stream",
     "text": [
      "Author:  Category:Novels by Paul Edwin Zimmer\n"
     ]
    },
    {
     "name": "stderr",
     "output_type": "stream",
     "text": [
      "100%|██████████| 2/2 [00:00<00:00,  3.91it/s]"
     ]
    },
    {
     "name": "stdout",
     "output_type": "stream",
     "text": [
      "Ignoring page:  Ingulf the Mad\n",
      "CPU times: user 6min 25s, sys: 2min 23s, total: 8min 48s\n",
      "Wall time: 7min 11s\n"
     ]
    },
    {
     "name": "stderr",
     "output_type": "stream",
     "text": [
      "\n"
     ]
    }
   ],
   "source": [
    "%%time\n",
    "kw = ['plot', 'character', 'summary', 'topic', 'theme', 'summari',\n",
    "      'background', 'origin', 'introduction', 'concept', 'symbol',\n",
    "      'synopsis', 'content']\n",
    "\n",
    "tokenized_data_by_author = []\n",
    "\n",
    "empty_pages = []\n",
    "    \n",
    "for c, pages in zip(cat_authors, pages_by_author):\n",
    "    print(\"Author: \", c.title)\n",
    "    tokenized_data = []\n",
    "    for p in tqdm(pages):\n",
    "        text = functions.get_page_text(p, keywords=kw, verbose=False)\n",
    "        lda_tokens = functions.prepare_text_for_lda(text)\n",
    "        if len(lda_tokens) == 0:\n",
    "            empty_pages.append(p)\n",
    "            print('Ignoring page: ', p.title)\n",
    "        tokenized_data.append(lda_tokens)\n",
    "    tokenized_data_by_author.append(tokenized_data)\n",
    "\n",
    "\n",
    "# remove pages without any valid sections\n",
    "# pages, tokenized_data = zip(*((p, t) for p, t in zip(pages, tokenized_data)\n",
    "#                               if p not in empty_pages))"
   ]
  },
  {
   "cell_type": "code",
   "execution_count": 275,
   "metadata": {},
   "outputs": [],
   "source": [
    "tokenized_data = []\n",
    "tokens_by_author = []\n",
    "for data in tokenized_data_by_author:\n",
    "    tokenized_data += data\n",
    "    tokens = []\n",
    "    for t in data:\n",
    "        tokens += t\n",
    "    tokens_by_author.append(tokens)"
   ]
  },
  {
   "cell_type": "code",
   "execution_count": 282,
   "metadata": {},
   "outputs": [
    {
     "data": {
      "text/plain": [
       "1340"
      ]
     },
     "execution_count": 282,
     "metadata": {},
     "output_type": "execute_result"
    }
   ],
   "source": [
    "len(tokenized_data)"
   ]
  },
  {
   "cell_type": "code",
   "execution_count": 297,
   "metadata": {},
   "outputs": [
    {
     "data": {
      "text/plain": [
       "Section: Plot summary (1):\n",
       "Richard MacDuff attends the Coleridge dinner at his old college St Cedd's, where he witnesses his former tutor, Professor Urban \"Reg\" Chronotis, perform an inexplicable magic trick in which he makes a salt cellar disappear, then reveals it by smashing a centuries-old clay pot that a young girl brought to the dinner. The dinner concludes with a reading of Coleridge's poem \"Kubla Khan\", including a mysterious (and fictional) second part. \n",
       "Meanwhile, an Electric Monk and his horse find a mysterious door on an alien planet, which leads them to Earth. MacDuff and Prof. Chronotis find the horse in the Professor's bathroom, but this does not seem to overly surprise him. The Monk, misunderstanding a casual comment, shoots and kills MacDuff's boss Gordon Way. Way's ghost makes several attempts to contact the living.\n",
       "MacDuff returns to his London flat and engages in odd behaviour, including climbing a drainpipe to break into the flat belonging to his girlfriend, Susan Way, to erase an embarrassing message left on her answering machine. Susan returns from a night out with Michael Wenton-Weakes. Wenton-Weakes subsequently begins behaving strangely, becoming obsessed with Coleridge and intense feelings of aggrievement.\n",
       "The next day, MacDuff visits former schoolmate Dirk Gently, a self-claimed \"Holistic Detective\" who believes in the \"fundamental interconnectedness of all things\" and is currently searching for a missing cat. Gently informs MacDuff that he is a suspect in the death of Gordon Way, and begins to unravel the mysterious chain of events. Gently concludes that MacDuff had been possessed by a ghost and that a time machine was involved. Ultimately, the two travel to St. Cedd's to meet with Prof. Chronotis, and a complex history is revealed.\n",
       "Four billion years in Earth's past, a group of aliens called Salaxalans landed on Earth; however, a mistake caused by their engineer – who used an Electric Monk to irrationally believe the proposed fix would work – caused their landing craft to explode, killing the Salaxalans. The ghost of the Salaxalan engineer roamed the earth, watching human life develop, searching for a way to undo its mistake, and waiting to find a sympathetic soul that it could possess. In the early 19th century, the ghost possessed Coleridge, and influenced his writing of \"Kubla Khan\" and \"The Rime of the Ancient Mariner\", but found the poet too 'relaxed' on laudanum to be useful. It discovered that Prof. Chronotis possesses a time machine disguised as his rooms at the college. At the aforementioned Coleridge dinner, the ghost influenced Prof. Chronotis to use the time machine to perform the magic trick, using the opportunity to lure the Electric Monk and its horse to Earth. However, the ghost found the Monk unusable for its purposes. The ghost subsequently attempted to possess MacDuff, resulting in his odd behaviour, before finding its sympathetic host in Wenton-Weakes.\n",
       "The ghost, still in possession of Wenton-Weakes, arrives at Prof. Chronotis' quarters and convinces them to take him back in time to just prior to the explosion of the Salaxalan ship, so that he can make the proper repairs. As they watch the ghost take Wenton-Weakes' body out towards the ship, MacDuff gets a call from Susan and learns that Wenton-Weakes recently killed a professional rival (Susan having been conveyed the information by the ghost of Gordon Way). Gently realises that the similarity between Wenton-Weakes' jealousy toward his rival and the ghost's jealousy of humanity was what allowed the ghost to possess him. Gently concludes that the Salaxalans intended to settle permanently on Earth, and the explosion of their ship was what caused the beginning of life on the planet. In order to foil the ghost's plans, Gently, MacDuff, and Prof. Chronotis travel to the 19th century. Gently interrupts Coleridge, becoming the \"man from Porlock\" and preventing the full version of \"Kubla Khan\" from being written.\n",
       "Upon arrival back in the 20th century, Gently, MacDuff, and Prof. Chronotis find small changes as a result of their actions, including the existence of the works of Johann Sebastian Bach, which had not existed in their original timeline. Gently learns that the missing cat he was searching for never went missing, and sends his client a revised bill that reads, \"To: saving human race from total extinction - no charge.\"\n",
       "Subsections (0):"
      ]
     },
     "execution_count": 297,
     "metadata": {},
     "output_type": "execute_result"
    }
   ],
   "source": [
    "pages_by_author[0][0].sections[1]"
   ]
  },
  {
   "cell_type": "code",
   "execution_count": 292,
   "metadata": {},
   "outputs": [
    {
     "data": {
      "text/plain": [
       "['attend',\n",
       " 'dinner',\n",
       " 'college',\n",
       " 'witness',\n",
       " 'tutor',\n",
       " 'perform',\n",
       " 'magic',\n",
       " 'trick',\n",
       " 'make',\n",
       " 'salt',\n",
       " 'cellar',\n",
       " 'disappear',\n",
       " 'reveal',\n",
       " 'smash',\n",
       " 'century',\n",
       " 'clay',\n",
       " 'pot',\n",
       " 'girl',\n",
       " 'bring',\n",
       " 'dinner',\n",
       " 'dinner',\n",
       " 'conclude',\n",
       " 'reading',\n",
       " 'poem',\n",
       " 'include',\n",
       " 'horse',\n",
       " 'find',\n",
       " 'door',\n",
       " 'planet',\n",
       " 'lead',\n",
       " 'find',\n",
       " 'horse',\n",
       " 'bathroom',\n",
       " 'surprise',\n",
       " 'misunderstand',\n",
       " 'comment',\n",
       " 'shoot',\n",
       " 'kill',\n",
       " 'boss',\n",
       " 'way',\n",
       " 'ghost',\n",
       " 'make',\n",
       " 'attempt',\n",
       " 'contact',\n",
       " 'living',\n",
       " 'return',\n",
       " 'flat',\n",
       " 'engage',\n",
       " 'behaviour',\n",
       " 'include',\n",
       " 'climb',\n",
       " 'drainpipe',\n",
       " 'break',\n",
       " 'belonging',\n",
       " 'girlfriend',\n",
       " 'erase',\n",
       " 'message',\n",
       " 'leave',\n",
       " 'answer',\n",
       " 'machine',\n",
       " 'return',\n",
       " 'night',\n",
       " 'begin',\n",
       " 'behave',\n",
       " 'obsess',\n",
       " 'feeling',\n",
       " 'aggrievement',\n",
       " 'day',\n",
       " 'visit',\n",
       " 'schoolmate',\n",
       " 'self',\n",
       " 'claim',\n",
       " 'believe',\n",
       " 'interconnectedness',\n",
       " 'thing',\n",
       " 'search',\n",
       " 'miss',\n",
       " 'cat',\n",
       " 'inform',\n",
       " 'suspect',\n",
       " 'death',\n",
       " 'begin',\n",
       " 'unravel',\n",
       " 'chain',\n",
       " 'event',\n",
       " 'conclude',\n",
       " 'possess',\n",
       " 'ghost',\n",
       " 'time',\n",
       " 'machine',\n",
       " 'involve',\n",
       " 'travel',\n",
       " 'meet',\n",
       " 'history',\n",
       " 'reveal',\n",
       " 'year',\n",
       " 'past',\n",
       " 'group',\n",
       " 'alien',\n",
       " 'call',\n",
       " 'land',\n",
       " 'mistake',\n",
       " 'cause',\n",
       " 'engineer',\n",
       " 'believe',\n",
       " 'propose',\n",
       " 'fix',\n",
       " 'work',\n",
       " 'cause',\n",
       " 'landing',\n",
       " 'craft',\n",
       " 'explode',\n",
       " 'kill',\n",
       " 'ghost',\n",
       " 'engineer',\n",
       " 'roam',\n",
       " 'earth',\n",
       " 'watch',\n",
       " 'life',\n",
       " 'develop',\n",
       " 'search',\n",
       " 'way',\n",
       " 'undo',\n",
       " 'mistake',\n",
       " 'wait',\n",
       " 'find',\n",
       " 'soul',\n",
       " 'possess',\n",
       " 'century',\n",
       " 'ghost',\n",
       " 'possess',\n",
       " 'influence',\n",
       " 'writing',\n",
       " 'find',\n",
       " 'poet',\n",
       " 'relax',\n",
       " 'laudanum',\n",
       " 'discover',\n",
       " 'possess',\n",
       " 'time',\n",
       " 'machine',\n",
       " 'disguise',\n",
       " 'room',\n",
       " 'college',\n",
       " 'dinner',\n",
       " 'ghost',\n",
       " 'influence',\n",
       " 'use',\n",
       " 'time',\n",
       " 'machine',\n",
       " 'perform',\n",
       " 'trick',\n",
       " 'opportunity',\n",
       " 'lure',\n",
       " 'horse',\n",
       " 'ghost',\n",
       " 'find',\n",
       " 'purpose',\n",
       " 'ghost',\n",
       " 'attempt',\n",
       " 'possess',\n",
       " 'result',\n",
       " 'behaviour',\n",
       " 'find',\n",
       " 'host',\n",
       " 'ghost',\n",
       " 'possession',\n",
       " 'arrive',\n",
       " 'quarter',\n",
       " 'convince',\n",
       " 'time',\n",
       " 'explosion',\n",
       " 'ship',\n",
       " 'repair',\n",
       " 'watch',\n",
       " 'ghost',\n",
       " 'body',\n",
       " 'ship',\n",
       " 'get',\n",
       " 'learn',\n",
       " 'kill',\n",
       " 'rival',\n",
       " 'have',\n",
       " 'convey',\n",
       " 'information',\n",
       " 'ghost',\n",
       " 'realise',\n",
       " 'similarity',\n",
       " 'jealousy',\n",
       " 'rival',\n",
       " 'ghost',\n",
       " 'jealousy',\n",
       " 'humanity',\n",
       " 'allow',\n",
       " 'ghost',\n",
       " 'possess',\n",
       " 'conclude',\n",
       " 'intend',\n",
       " 'settle',\n",
       " 'explosion',\n",
       " 'ship',\n",
       " 'cause',\n",
       " 'beginning',\n",
       " 'life',\n",
       " 'planet',\n",
       " 'order',\n",
       " 'foil',\n",
       " 'ghost',\n",
       " 'plan',\n",
       " 'travel',\n",
       " 'century',\n",
       " 'interrupt',\n",
       " 'man',\n",
       " 'prevent',\n",
       " 'version',\n",
       " 'write',\n",
       " 'arrival',\n",
       " 'century',\n",
       " 'find',\n",
       " 'change',\n",
       " 'result',\n",
       " 'action',\n",
       " 'include',\n",
       " 'existence',\n",
       " 'work',\n",
       " 'exist',\n",
       " 'timeline',\n",
       " 'learn',\n",
       " 'miss',\n",
       " 'cat',\n",
       " 'search',\n",
       " 'go',\n",
       " 'miss',\n",
       " 'send',\n",
       " 'client',\n",
       " 'revise',\n",
       " 'bill',\n",
       " 'read',\n",
       " 'save',\n",
       " 'race',\n",
       " 'extinction',\n",
       " 'charge',\n",
       " 'know',\n",
       " 'number',\n",
       " 'name',\n",
       " 'include',\n",
       " 'operator',\n",
       " 'detective',\n",
       " 'agency',\n",
       " 'operate',\n",
       " 'base',\n",
       " 'interconnectedness',\n",
       " 'thing',\n",
       " 'specialise',\n",
       " 'miss',\n",
       " 'cat',\n",
       " 'divorce',\n",
       " 'university',\n",
       " 'create',\n",
       " 'rumour',\n",
       " 'have',\n",
       " 'ability',\n",
       " 'deny',\n",
       " 'concoct',\n",
       " 'scheme',\n",
       " 'offer',\n",
       " 'university',\n",
       " 'exam',\n",
       " 'preparation',\n",
       " 'service',\n",
       " 'send',\n",
       " 'prison',\n",
       " 'coincidence',\n",
       " 'duplicate',\n",
       " 'exam',\n",
       " 'paper',\n",
       " 'year',\n",
       " 'have',\n",
       " 'see',\n",
       " 'software',\n",
       " 'engineer',\n",
       " 'work',\n",
       " 'own',\n",
       " 'software',\n",
       " 'design',\n",
       " 'spreadsheet',\n",
       " 'feature',\n",
       " 'convert',\n",
       " 'account',\n",
       " 'music',\n",
       " 'fall',\n",
       " 'deadline',\n",
       " 'create',\n",
       " 'update',\n",
       " 'version',\n",
       " 'book',\n",
       " 'try',\n",
       " 'figure',\n",
       " 'couch',\n",
       " 'stick',\n",
       " 'shape',\n",
       " 'stairway',\n",
       " 'force',\n",
       " 'visitor',\n",
       " 'climb',\n",
       " 'college',\n",
       " 'tutor',\n",
       " 'fellow',\n",
       " 'duty',\n",
       " 'predisposition',\n",
       " 'conjuring',\n",
       " 'trick',\n",
       " 'memory',\n",
       " 'owner',\n",
       " 'pressure',\n",
       " 'complete',\n",
       " 'schedule',\n",
       " 'software',\n",
       " 'project',\n",
       " 'end',\n",
       " 'get',\n",
       " 'shoot',\n",
       " 'reason',\n",
       " 'chapter',\n",
       " 'book',\n",
       " 'sister',\n",
       " 'cellist',\n",
       " 'girl',\n",
       " 'planet',\n",
       " 'monk',\n",
       " 'robot',\n",
       " 'design',\n",
       " 'practice',\n",
       " 'religion',\n",
       " 'owner',\n",
       " 'stead',\n",
       " 'monk',\n",
       " 'connect',\n",
       " 'video',\n",
       " 'recorder',\n",
       " 'attempt',\n",
       " 'believe',\n",
       " 'malfunction',\n",
       " 'begin',\n",
       " 'believe',\n",
       " 'kind',\n",
       " 'thing',\n",
       " 'include',\n",
       " 'thing',\n",
       " 'table',\n",
       " 'hermaphrodite',\n",
       " 'want',\n",
       " 'lot',\n",
       " 'money',\n",
       " 'send',\n",
       " 'address',\n",
       " 'replace',\n",
       " 'repair',\n",
       " 'cast',\n",
       " 'wilderness',\n",
       " 'believe',\n",
       " 'like',\n",
       " 'own',\n",
       " 'horse',\n",
       " 'allow',\n",
       " 'horse',\n",
       " 'arrival',\n",
       " 'misadventure',\n",
       " 'son',\n",
       " 'parent',\n",
       " 'know',\n",
       " 'promise',\n",
       " 'thing',\n",
       " 'issue',\n",
       " 'manage',\n",
       " 'magazine',\n",
       " 'mother',\n",
       " 'sell',\n",
       " 'father',\n",
       " 'death',\n",
       " 'change',\n",
       " 'plug',\n",
       " 'yield',\n",
       " 'loss',\n",
       " 'bother',\n",
       " 'realise',\n",
       " 'writer',\n",
       " 'founder',\n",
       " 'laudanum',\n",
       " 'user',\n",
       " 'novel',\n",
       " 'alumnus',\n",
       " 'poem',\n",
       " 'figure',\n",
       " 'plot',\n",
       " 'composer',\n",
       " 'fact',\n",
       " 'exist',\n",
       " 'novel',\n",
       " 'universe',\n",
       " 'beginning',\n",
       " 'story',\n",
       " 'concert',\n",
       " 'cellist',\n",
       " 'have',\n",
       " 'problem',\n",
       " 'practise',\n",
       " 'piece',\n",
       " 'use',\n",
       " 'time',\n",
       " 'machine',\n",
       " 'board',\n",
       " 'ship',\n",
       " 'orbit',\n",
       " 'ship',\n",
       " 'encounter',\n",
       " 'music',\n",
       " 'result',\n",
       " 'ship',\n",
       " 'computer',\n",
       " 'system',\n",
       " 'operation',\n",
       " 'program',\n",
       " 'foil',\n",
       " 'ghost',\n",
       " 'plot',\n",
       " 'destroy',\n",
       " 'ship',\n",
       " 'find',\n",
       " 'practise',\n",
       " 'music',\n",
       " 'hear',\n",
       " 'ship',\n",
       " 'tell',\n",
       " 'tell',\n",
       " 'manage',\n",
       " 'retrieve',\n",
       " 'music',\n",
       " 'introduce',\n",
       " 'period',\n",
       " 'invention',\n",
       " 'composer']"
      ]
     },
     "execution_count": 292,
     "metadata": {},
     "output_type": "execute_result"
    }
   ],
   "source": [
    "tokenized_data[0]"
   ]
  },
  {
   "cell_type": "code",
   "execution_count": 279,
   "metadata": {},
   "outputs": [
    {
     "name": "stdout",
     "output_type": "stream",
     "text": [
      "81\n",
      "81\n"
     ]
    }
   ],
   "source": [
    "print(len(tokens_by_author))\n",
    "print(len(tokenized_data_by_author))"
   ]
  },
  {
   "cell_type": "code",
   "execution_count": 288,
   "metadata": {},
   "outputs": [],
   "source": [
    "from gensim import models, corpora\n",
    "\n",
    "# Build a Dictionary - associate a numeric id to each word\n",
    "dictionary = corpora.Dictionary(tokenized_data)\n",
    " \n",
    "# Transform the collection of texts to a numerical form (bag-of-words)\n",
    "corpus = [dictionary.doc2bow(text) for text in tokenized_data]\n",
    "\n",
    "num_topics = 5\n",
    "# Train the model on the corpus.\n",
    "lda = models.LdaModel(corpus, num_topics=num_topics, id2word=dictionary)\n",
    "\n",
    "# lda results for each document\n",
    "document_lda = lda[corpus]\n",
    "\n",
    "corpus_by_author = [dictionary.doc2bow(text) for text in tokens_by_author]\n",
    "author_lda = lda[corpus_by_author]"
   ]
  },
  {
   "cell_type": "code",
   "execution_count": 289,
   "metadata": {},
   "outputs": [
    {
     "name": "stdout",
     "output_type": "stream",
     "text": [
      "LDA Model:\n",
      "[(0,\n",
      "  '0.008*\"find\" + 0.007*\"time\" + 0.006*\"kill\" + 0.006*\"life\" + 0.006*\"world\" + '\n",
      "  '0.006*\"ship\" + 0.005*\"year\" + 0.005*\"take\" + 0.005*\"planet\" + '\n",
      "  '0.005*\"novel\"'),\n",
      " (1,\n",
      "  '0.006*\"find\" + 0.005*\"time\" + 0.005*\"human\" + 0.004*\"work\" + 0.004*\"novel\" '\n",
      "  '+ 0.004*\"take\" + 0.004*\"world\" + 0.004*\"ship\" + 0.004*\"force\" + '\n",
      "  '0.004*\"book\"'),\n",
      " (2,\n",
      "  '0.008*\"time\" + 0.006*\"find\" + 0.006*\"ship\" + 0.006*\"year\" + 0.005*\"leave\" + '\n",
      "  '0.005*\"novel\" + 0.005*\"story\" + 0.005*\"return\" + 0.004*\"world\" + '\n",
      "  '0.004*\"discover\"'),\n",
      " (3,\n",
      "  '0.006*\"time\" + 0.005*\"find\" + 0.005*\"book\" + 0.005*\"novel\" + 0.004*\"world\" '\n",
      "  '+ 0.004*\"life\" + 0.004*\"ship\" + 0.004*\"year\" + 0.004*\"return\" + '\n",
      "  '0.004*\"take\"'),\n",
      " (4,\n",
      "  '0.006*\"kill\" + 0.006*\"planet\" + 0.005*\"leave\" + 0.005*\"take\" + '\n",
      "  '0.005*\"return\" + 0.005*\"find\" + 0.005*\"time\" + 0.004*\"book\" + 0.004*\"novel\" '\n",
      "  '+ 0.004*\"begin\"')]\n"
     ]
    }
   ],
   "source": [
    "from pprint import pprint\n",
    "print(\"LDA Model:\")\n",
    "# Print the Keyword in all topics\n",
    "pprint(lda.print_topics())"
   ]
  },
  {
   "cell_type": "code",
   "execution_count": 169,
   "metadata": {},
   "outputs": [],
   "source": [
    "# titles = [p.title for p in pages]\n",
    "# list(zip([[i for i, _ in a] for a in list(document_lda)], titles))"
   ]
  },
  {
   "cell_type": "code",
   "execution_count": 287,
   "metadata": {},
   "outputs": [
    {
     "data": {
      "text/plain": [
       "[([0, 2, 4, 5, 6, 7, 8], 'Category:Novels by Douglas Adams'),\n",
       " ([0, 1, 2, 3, 4, 5, 6, 7, 8], 'Category:Novels by Brian Aldiss'),\n",
       " ([2, 3, 7, 8], 'Category:Novels by K. A. Applegate'),\n",
       " ([0, 1, 8], 'Category:Novels by Eleanor Arnason'),\n",
       " ([0, 2, 3, 4, 5, 6, 7, 8], 'Category:Science fiction novels by Isaac Asimov'),\n",
       " ([2, 5, 7, 8], 'Category:Novels by Kage Baker'),\n",
       " ([0, 1, 2, 3, 4, 5, 7, 8], 'Category:Novels by Iain M. Banks'),\n",
       " ([0, 2, 3, 4, 6, 7, 8], 'Category:Novels by John Barnes'),\n",
       " ([0, 2, 3, 4, 7], 'Category:Novels by Stephen Baxter'),\n",
       " ([1, 4, 7], 'Category:Novels by Barrington J. Bayley'),\n",
       " ([0, 2, 3, 7], 'Category:Novels by Alexander Beliaev'),\n",
       " ([0, 1, 2, 3, 7], 'Category:Novels by Leigh Brackett'),\n",
       " ([1, 2, 3, 4, 7, 8, 9], 'Category:Novels by Marion Zimmer Bradley'),\n",
       " ([0, 1, 2, 3, 4, 7, 8], 'Category:Novels by David Brin'),\n",
       " ([1, 2, 3, 8], 'Category:Novels by Pierce Brown'),\n",
       " ([0, 2, 3, 4, 5, 7, 8], 'Category:Novels by John Brunner'),\n",
       " ([0, 1, 2, 3, 4, 7, 8, 9], 'Category:Novels by Octavia Butler'),\n",
       " ([0, 1, 2, 6, 8, 9], 'Category:Novels by Eleanor Cameron'),\n",
       " ([0, 1, 2, 3, 5, 7, 8, 9], 'Category:Novels by Orson Scott Card'),\n",
       " ([0, 4], 'Category:Novels by Gail Carriger'),\n",
       " ([0, 2, 8], 'Category:Novels by Jack L. Chalker'),\n",
       " ([0, 1, 2, 7, 8], 'Category:Science fiction novels by C. J. Cherryh'),\n",
       " ([0, 2, 7, 8], 'Category:Novels by James S. A. Corey'),\n",
       " ([5], 'Category:Novels by Avram Davidson'),\n",
       " ([0, 2, 3, 4, 7, 8, 9], 'Category:Novels by Peter David'),\n",
       " ([2, 3, 4, 5, 7, 8], 'Category:Novels by Samuel Delany'),\n",
       " ([1, 2, 3, 5, 8], 'Category:Novels by Thomas M. Disch'),\n",
       " ([0, 2, 3, 5, 7, 8], 'Category:Novels by Cory Doctorow'),\n",
       " ([0, 2, 6, 7], 'Category:Novels by Ian Douglas'),\n",
       " ([0, 1, 2, 5, 7], 'Category:Novels by Diane Duane'),\n",
       " ([2, 3, 4, 6, 7, 9], 'Category:Novels by Greg Egan'),\n",
       " ([0, 9], 'Category:Novels by David Feintuch'),\n",
       " ([0, 2, 8], 'Category:Novels by James Alan Gardner'),\n",
       " ([0, 2, 4, 5, 7, 8], 'Category:Novels by William Gibson'),\n",
       " ([0, 1, 2, 3, 4, 5, 7, 8], 'Category:Novels by Harry Harrison'),\n",
       " ([0, 2, 3, 4, 5, 7, 8, 9], 'Category:Novels by Robert A. Heinlein'),\n",
       " ([0, 2, 3, 7], 'Category:Novels by Frank Herbert'),\n",
       " ([0, 1, 2, 3, 8, 9], 'Category:Novels by Nalo Hopkinson'),\n",
       " ([0, 1, 3, 4, 5, 7, 8], 'Category:Novels by J. Gregory Keyes'),\n",
       " ([0, 1, 2, 3, 4, 5, 8], 'Category:Novels by Damon Knight'),\n",
       " ([0, 1, 2, 3, 4, 5, 7, 8, 9], 'Category:Novels by Ursula K. Le Guin'),\n",
       " ([0, 2, 4, 5, 6, 7, 9], 'Category:Novels by Stanisław Lem'),\n",
       " ([0, 1, 2, 3, 5, 7, 8], 'Category:Novels by Sergey Lukyanenko'),\n",
       " ([0, 1, 2, 3, 4, 5, 6, 7, 8, 9], 'Category:Novels by David Marusek'),\n",
       " ([2, 3, 7, 8], 'Category:Novels by Anne McCaffrey'),\n",
       " ([7, 8], 'Category:Novels by Todd McCaffrey'),\n",
       " ([0, 1, 2, 3, 7, 8], 'Category:Novels by Ian McDonald'),\n",
       " ([0, 2, 3, 7, 8], 'Category:Novels by Elizabeth Moon'),\n",
       " ([1, 2, 3, 4, 7, 8], 'Category:Novels by Richard Morgan'),\n",
       " ([5], 'Category:Novels by Jim Munroe'),\n",
       " ([2, 3, 4, 7], 'Category:Novels by Kim Stanley Robinson'),\n",
       " ([0, 1, 2, 3, 4, 5, 6, 7, 8, 9], 'Category:Novels by Joel Rosenberg'),\n",
       " ([2, 5], 'Category:Novels by Geoff Ryman'),\n",
       " ([0, 1, 2, 3, 4, 7, 8], 'Category:Novels by R. A. Salvatore'),\n",
       " ([0, 1, 2, 3, 4, 5, 6], 'Category:Novels by Robert J. Sawyer'),\n",
       " ([2, 8], 'Category:Novels by Karl Schroeder'),\n",
       " ([0, 2, 3, 4, 5, 6, 7], 'Category:Novels by Charles Sheffield'),\n",
       " ([0, 2, 3, 4, 5, 7, 8], 'Category:Novels by Robert Silverberg'),\n",
       " ([0, 1, 2, 3, 4, 6, 7, 8, 9], 'Category:Novels by Clifford D. Simak'),\n",
       " ([2, 7, 8, 9], 'Category:Novels by E. E. Smith'),\n",
       " ([8], 'Category:Novels by Roland Smith'),\n",
       " ([0, 2, 3, 4, 7], 'Category:Novels by Norman Spinrad'),\n",
       " ([0, 2, 3, 5, 7, 8], 'Category:Novels by S. M. Stirling'),\n",
       " ([0, 1, 2, 4, 5, 7, 8], 'Category:Novels by Arkady and Boris Strugatsky'),\n",
       " ([0, 1, 2, 3, 6, 7, 8], 'Category:Novels by Michael Swanwick'),\n",
       " ([0, 1, 2], 'Category:Science fiction novels by Walter Tevis'),\n",
       " ([0, 1, 2, 3, 4, 5, 7, 8], 'Category:Novels by A. E. van Vogt'),\n",
       " ([0, 1, 2, 3, 5, 7, 8], 'Category:Novels by Jack Vance'),\n",
       " ([0, 2, 3, 4, 7, 8], 'Category:Novels by John Varley'),\n",
       " ([0, 1, 2, 3, 4, 7, 8], 'Category:Novels by Jules Verne'),\n",
       " ([0, 2, 3, 4, 7, 8, 9], 'Category:Novels by Jo Walton'),\n",
       " ([0, 1, 2, 3, 5, 7, 8], 'Category:Novels by David Weber'),\n",
       " ([0, 2, 3, 4, 5, 7, 8], 'Category:Novels by H. G. Wells'),\n",
       " ([0, 5], 'Category:Novels by Bernard Werber'),\n",
       " ([0, 2, 4, 7, 8, 9], 'Category:Novels by James White'),\n",
       " ([0, 4, 8], 'Category:Novels by Connie Willis'),\n",
       " ([0, 2, 3, 4, 5, 7, 8], 'Category:Novels by John Wyndham'),\n",
       " ([0, 2, 4, 5], 'Category:Novels by Ivan Yefremov'),\n",
       " ([0, 1, 2, 7, 8], 'Category:Novels by Timothy Zahn'),\n",
       " ([0, 2, 3, 4, 5, 7, 8], 'Category:Novels by Roger Zelazny'),\n",
       " ([1, 4], 'Category:Novels by Paul Edwin Zimmer')]"
      ]
     },
     "execution_count": 287,
     "metadata": {},
     "output_type": "execute_result"
    }
   ],
   "source": [
    "authors = [c.title for c in cat_authors]\n",
    "list(zip([[i for i, _ in a] for a in list(author_lda)], authors))"
   ]
  },
  {
   "cell_type": "code",
   "execution_count": 198,
   "metadata": {},
   "outputs": [
    {
     "name": "stderr",
     "output_type": "stream",
     "text": [
      "/home/bolensadrien/.local/lib/python3.6/site-packages/pyLDAvis/_prepare.py:257: FutureWarning: Sorting because non-concatenation axis is not aligned. A future version\n",
      "of pandas will change to not sort by default.\n",
      "\n",
      "To accept the future behavior, pass 'sort=True'.\n",
      "\n",
      "To retain the current behavior and silence the warning, pass sort=False\n",
      "\n",
      "  return pd.concat([default_term_info] + list(topic_dfs))\n"
     ]
    },
    {
     "data": {
      "text/html": [
       "\n",
       "<link rel=\"stylesheet\" type=\"text/css\" href=\"https://cdn.rawgit.com/bmabey/pyLDAvis/files/ldavis.v1.0.0.css\">\n",
       "\n",
       "\n",
       "<div id=\"ldavis_el258391403214418512162759499241\"></div>\n",
       "<script type=\"text/javascript\">\n",
       "\n",
       "var ldavis_el258391403214418512162759499241_data = {\"mdsDat\": {\"x\": [0.008471583090102638, -0.011001159615232065, 0.0025295765251294317], \"y\": [-0.006337770118411771, -0.002783224154268933, 0.009120994272680705], \"topics\": [1, 2, 3], \"cluster\": [1, 1, 1], \"Freq\": [38.24603271484375, 36.58431625366211, 25.169647216796875]}, \"tinfo\": {\"Category\": [\"Default\", \"Default\", \"Default\", \"Default\", \"Default\", \"Default\", \"Default\", \"Default\", \"Default\", \"Default\", \"Default\", \"Default\", \"Default\", \"Default\", \"Default\", \"Default\", \"Default\", \"Default\", \"Default\", \"Default\", \"Default\", \"Default\", \"Default\", \"Default\", \"Default\", \"Default\", \"Default\", \"Default\", \"Default\", \"Default\", \"Topic1\", \"Topic1\", \"Topic1\", \"Topic1\", \"Topic1\", \"Topic1\", \"Topic1\", \"Topic1\", \"Topic1\", \"Topic1\", \"Topic1\", \"Topic1\", \"Topic1\", \"Topic1\", \"Topic1\", \"Topic1\", \"Topic1\", \"Topic1\", \"Topic1\", \"Topic1\", \"Topic1\", \"Topic1\", \"Topic1\", \"Topic1\", \"Topic1\", \"Topic1\", \"Topic1\", \"Topic1\", \"Topic1\", \"Topic1\", \"Topic1\", \"Topic1\", \"Topic1\", \"Topic1\", \"Topic1\", \"Topic1\", \"Topic1\", \"Topic1\", \"Topic1\", \"Topic1\", \"Topic1\", \"Topic1\", \"Topic1\", \"Topic1\", \"Topic1\", \"Topic1\", \"Topic1\", \"Topic1\", \"Topic1\", \"Topic1\", \"Topic1\", \"Topic1\", \"Topic1\", \"Topic1\", \"Topic1\", \"Topic1\", \"Topic1\", \"Topic1\", \"Topic1\", \"Topic1\", \"Topic1\", \"Topic1\", \"Topic1\", \"Topic1\", \"Topic1\", \"Topic1\", \"Topic1\", \"Topic1\", \"Topic1\", \"Topic1\", \"Topic1\", \"Topic1\", \"Topic1\", \"Topic1\", \"Topic1\", \"Topic1\", \"Topic1\", \"Topic1\", \"Topic1\", \"Topic2\", \"Topic2\", \"Topic2\", \"Topic2\", \"Topic2\", \"Topic2\", \"Topic2\", \"Topic2\", \"Topic2\", \"Topic2\", \"Topic2\", \"Topic2\", \"Topic2\", \"Topic2\", \"Topic2\", \"Topic2\", \"Topic2\", \"Topic2\", \"Topic2\", \"Topic2\", \"Topic2\", \"Topic2\", \"Topic2\", \"Topic2\", \"Topic2\", \"Topic2\", \"Topic2\", \"Topic2\", \"Topic2\", \"Topic2\", \"Topic2\", \"Topic2\", \"Topic2\", \"Topic2\", \"Topic2\", \"Topic2\", \"Topic2\", \"Topic2\", \"Topic2\", \"Topic2\", \"Topic2\", \"Topic2\", \"Topic2\", \"Topic2\", \"Topic2\", \"Topic2\", \"Topic2\", \"Topic2\", \"Topic2\", \"Topic2\", \"Topic2\", \"Topic2\", \"Topic2\", \"Topic2\", \"Topic2\", \"Topic2\", \"Topic2\", \"Topic2\", \"Topic2\", \"Topic2\", \"Topic2\", \"Topic2\", \"Topic2\", \"Topic2\", \"Topic2\", \"Topic2\", \"Topic2\", \"Topic2\", \"Topic2\", \"Topic2\", \"Topic2\", \"Topic2\", \"Topic2\", \"Topic2\", \"Topic2\", \"Topic2\", \"Topic2\", \"Topic2\", \"Topic2\", \"Topic3\", \"Topic3\", \"Topic3\", \"Topic3\", \"Topic3\", \"Topic3\", \"Topic3\", \"Topic3\", \"Topic3\", \"Topic3\", \"Topic3\", \"Topic3\", \"Topic3\", \"Topic3\", \"Topic3\", \"Topic3\", \"Topic3\", \"Topic3\", \"Topic3\", \"Topic3\", \"Topic3\", \"Topic3\", \"Topic3\", \"Topic3\", \"Topic3\", \"Topic3\", \"Topic3\", \"Topic3\", \"Topic3\", \"Topic3\", \"Topic3\", \"Topic3\", \"Topic3\", \"Topic3\", \"Topic3\", \"Topic3\", \"Topic3\", \"Topic3\", \"Topic3\", \"Topic3\", \"Topic3\", \"Topic3\", \"Topic3\", \"Topic3\", \"Topic3\", \"Topic3\", \"Topic3\", \"Topic3\", \"Topic3\", \"Topic3\", \"Topic3\", \"Topic3\", \"Topic3\", \"Topic3\", \"Topic3\", \"Topic3\", \"Topic3\", \"Topic3\", \"Topic3\", \"Topic3\", \"Topic3\", \"Topic3\", \"Topic3\", \"Topic3\", \"Topic3\", \"Topic3\", \"Topic3\", \"Topic3\", \"Topic3\", \"Topic3\", \"Topic3\", \"Topic3\", \"Topic3\", \"Topic3\", \"Topic3\", \"Topic3\", \"Topic3\", \"Topic3\", \"Topic3\"], \"Freq\": [58.0, 21.0, 48.0, 23.0, 49.0, 36.0, 134.0, 34.0, 15.0, 15.0, 39.0, 10.0, 19.0, 19.0, 32.0, 21.0, 9.0, 45.0, 22.0, 34.0, 15.0, 12.0, 26.0, 12.0, 4.0, 55.0, 30.0, 20.0, 20.0, 17.0, 1.7269816398620605, 6.698163032531738, 2.6716432571411133, 5.057684421539307, 3.6488616466522217, 4.109513282775879, 1.9720176458358765, 1.9562523365020752, 2.472809314727783, 3.439039707183838, 0.9863018989562988, 2.9463534355163574, 2.4046056270599365, 2.378530740737915, 1.4492393732070923, 3.853238344192505, 1.4541562795639038, 1.9353734254837036, 1.4003678560256958, 0.9613965749740601, 1.8799151182174683, 0.9546314477920532, 1.4308443069458008, 1.8900558948516846, 1.4032260179519653, 4.297876834869385, 2.3109660148620605, 3.199176073074341, 1.8295214176177979, 2.3060693740844727, 10.860878944396973, 3.662008285522461, 9.664831161499023, 9.185086250305176, 2.7511935234069824, 11.369613647460938, 8.156577110290527, 6.562260150909424, 12.228055000305176, 13.807843208312988, 4.842967510223389, 4.107301235198975, 5.270780563354492, 30.906251907348633, 18.910675048828125, 15.726102828979492, 17.802669525146484, 16.004459381103516, 11.695822715759277, 13.735980987548828, 11.056803703308105, 10.014413833618164, 9.921530723571777, 7.953038692474365, 9.98835563659668, 17.839160919189453, 47.730533599853516, 14.109739303588867, 16.88379669189453, 9.400508880615234, 19.642650604248047, 13.671517372131348, 11.989530563354492, 18.75356101989746, 12.303585052490234, 13.03088665008545, 20.398109436035156, 17.72237205505371, 13.63086986541748, 18.052000045776367, 19.42102813720703, 18.434112548828125, 14.070777893066406, 15.270225524902344, 13.392690658569336, 16.01432228088379, 15.428061485290527, 12.970701217651367, 13.736539840698242, 14.59298038482666, 5.9616851806640625, 1.5885523557662964, 2.1513421535491943, 2.0746326446533203, 2.115851879119873, 8.75401782989502, 1.5093477964401245, 1.4457335472106934, 2.39923095703125, 1.9257761240005493, 3.3576998710632324, 1.3975226879119873, 1.4610482454299927, 1.4070438146591187, 1.8886574506759644, 0.937846839427948, 1.4072847366333008, 1.3945025205612183, 2.4260263442993164, 0.9267252683639526, 5.998012542724609, 2.8506126403808594, 0.9122386574745178, 1.8228709697723389, 1.8237439393997192, 3.2637999057769775, 1.3499294519424438, 1.3573458194732666, 1.35758376121521, 1.814673900604248, 8.884696960449219, 6.579846382141113, 4.452235221862793, 5.036210536956787, 11.522780418395996, 6.517947673797607, 11.50243854522705, 28.972877502441406, 11.194777488708496, 4.389443874359131, 12.287571907043457, 5.400506496429443, 4.571841239929199, 24.74872589111328, 51.745304107666016, 11.322707176208496, 19.306671142578125, 9.42293643951416, 23.062070846557617, 9.474991798400879, 11.718320846557617, 8.135276794433594, 12.173355102539062, 20.23273468017578, 8.089003562927246, 16.676485061645508, 12.964945793151855, 14.442265510559082, 11.529744148254395, 15.88946533203125, 11.67757797241211, 20.692367553710938, 14.226483345031738, 22.208465576171875, 17.056121826171875, 17.495107650756836, 15.229192733764648, 17.322635650634766, 15.219215393066406, 12.771489143371582, 13.834373474121094, 12.969271659851074, 12.431922912597656, 13.348520278930664, 12.168228149414062, 11.848309516906738, 11.740239143371582, 11.814125061035156, 2.4674744606018066, 1.1656029224395752, 1.0638220310211182, 1.0391604900360107, 1.72849702835083, 1.020865797996521, 1.6760236024856567, 0.6692498922348022, 0.6625893115997314, 0.9902704954147339, 0.9962822794914246, 3.641558885574341, 1.9892525672912598, 1.3177528381347656, 0.6570360064506531, 1.2996271848678589, 0.6478621959686279, 0.6461984515190125, 1.2856323719024658, 0.6422604322433472, 9.596806526184082, 0.6404570937156677, 6.4193525314331055, 0.6404286026954651, 1.276369571685791, 6.392511367797852, 0.6317837238311768, 0.6306939721107483, 0.6307603120803833, 0.6282957196235657, 3.456690788269043, 1.8893826007843018, 1.2542147636413574, 22.397764205932617, 3.7261383533477783, 2.188612937927246, 1.5687456130981445, 2.446159839630127, 4.7732415199279785, 16.890663146972656, 7.184970378875732, 3.291036367416382, 5.474344253540039, 16.519210815429688, 11.568406105041504, 5.148767948150635, 11.891529083251953, 4.08195686340332, 4.320651054382324, 6.07566499710083, 10.26939868927002, 4.288017272949219, 34.541446685791016, 12.013195991516113, 6.921316623687744, 10.523730278015137, 5.111981391906738, 10.094552040100098, 8.890443801879883, 12.786829948425293, 14.357931137084961, 13.459935188293457, 10.108463287353516, 11.970417976379395, 9.68145751953125, 7.848834037780762, 12.38422679901123, 15.259230613708496, 8.588010787963867, 7.3539347648620605, 12.296549797058105, 9.146961212158203, 9.516196250915527, 11.107194900512695, 8.18242359161377, 8.773082733154297, 8.755346298217773, 7.478991508483887, 7.690215110778809], \"Term\": [\"planet\", \"pirate\", \"book\", \"face\", \"world\", \"believe\", \"robot\", \"use\", \"poison\", \"knowledge\", \"murder\", \"sector\", \"government\", \"question\", \"meet\", \"ability\", \"rebellion\", \"know\", \"brain\", \"power\", \"establish\", \"blaster\", \"force\", \"car\", \"emperor\", \"reveal\", \"call\", \"system\", \"humaniform\", \"contact\", \"nemesis\", \"sector\", \"laser\", \"spy\", \"clot\", \"pilot\", \"worker\", \"telepresence\", \"virus\", \"practice\", \"depart\", \"melt\", \"procedure\", \"derive\", \"tailor\", \"right\", \"reproduction\", \"grant\", \"heatsink\", \"dominate\", \"ticket\", \"opening\", \"station\", \"denison\", \"shift\", \"frog\", \"explore\", \"revelation\", \"compromise\", \"recover\", \"question\", \"test\", \"chapter\", \"mention\", \"raise\", \"name\", \"result\", \"sun\", \"universe\", \"tell\", \"request\", \"reach\", \"person\", \"time\", \"year\", \"attempt\", \"destroy\", \"allow\", \"cause\", \"state\", \"head\", \"prevent\", \"humaniform\", \"technology\", \"ability\", \"ship\", \"robot\", \"return\", \"take\", \"develop\", \"work\", \"order\", \"give\", \"book\", \"man\", \"help\", \"novel\", \"kill\", \"series\", \"find\", \"story\", \"reveal\", \"leave\", \"human\", \"discover\", \"world\", \"planet\", \"end\", \"know\", \"pirate\", \"rebellion\", \"ordinate\", \"parent\", \"document\", \"constant\", \"turn\", \"spend\", \"aratap\", \"advice\", \"brother\", \"decision\", \"interrogate\", \"jester\", \"resume\", \"wear\", \"subdue\", \"prisoner\", \"descendant\", \"speed\", \"granddaughter\", \"spaceship\", \"thought\", \"nebula\", \"overpopulate\", \"apartment\", \"accomplish\", \"inaction\", \"map\", \"reproduce\", \"engine\", \"arrest\", \"blaster\", \"convert\", \"reduce\", \"brain\", \"assign\", \"humanity\", \"story\", \"plan\", \"attend\", \"day\", \"asteroid\", \"manipulate\", \"novel\", \"robot\", \"population\", \"know\", \"explain\", \"reveal\", \"begin\", \"wife\", \"city\", \"place\", \"find\", \"plot\", \"human\", \"live\", \"end\", \"people\", \"murder\", \"travel\", \"planet\", \"believe\", \"time\", \"kill\", \"work\", \"take\", \"world\", \"ship\", \"series\", \"year\", \"death\", \"power\", \"book\", \"use\", \"return\", \"call\", \"leave\", \"emperor\", \"patrician\", \"clown\", \"general\", \"principle\", \"mutant\", \"focus\", \"meantime\", \"assert\", \"native\", \"spacio\", \"threat\", \"conference\", \"analyze\", \"disintegrate\", \"trader\", \"whereabout\", \"attract\", \"aftereffect\", \"health\", \"face\", \"hostage\", \"knowledge\", \"hologram\", \"acclaim\", \"poison\", \"devotion\", \"rump\", \"border\", \"surprise\", \"war\", \"instruct\", \"modesty\", \"planet\", \"boss\", \"stand\", \"treat\", \"predict\", \"rule\", \"book\", \"government\", \"suffer\", \"establish\", \"world\", \"use\", \"view\", \"believe\", \"fear\", \"location\", \"contact\", \"meet\", \"car\", \"robot\", \"murder\", \"system\", \"power\", \"attack\", \"death\", \"call\", \"kill\", \"reveal\", \"find\", \"leave\", \"know\", \"discover\", \"force\", \"work\", \"time\", \"order\", \"life\", \"novel\", \"destroy\", \"human\", \"story\", \"attempt\", \"take\", \"ship\", \"write\", \"year\"], \"Total\": [58.0, 21.0, 48.0, 23.0, 49.0, 36.0, 134.0, 34.0, 15.0, 15.0, 39.0, 10.0, 19.0, 19.0, 32.0, 21.0, 9.0, 45.0, 22.0, 34.0, 15.0, 12.0, 26.0, 12.0, 4.0, 55.0, 30.0, 20.0, 20.0, 17.0, 2.6115763187408447, 10.745840072631836, 4.355236530303955, 8.440230369567871, 6.1094160079956055, 6.895470142364502, 3.3860526084899902, 3.3721747398376465, 4.28309440612793, 5.967686653137207, 1.7135103940963745, 5.1283345222473145, 4.210568904876709, 4.165798187255859, 2.5443148612976074, 6.7714104652404785, 2.5605106353759766, 3.4418766498565674, 2.492717742919922, 1.713943600654602, 3.3538594245910645, 1.7135534286499023, 2.5686845779418945, 3.3938674926757812, 2.521092653274536, 7.726933479309082, 4.168168067932129, 5.7772040367126465, 3.305922746658325, 4.171192169189453, 19.837934494018555, 6.656308174133301, 17.942764282226562, 17.376480102539062, 5.028057098388672, 22.298959732055664, 15.850351333618164, 12.685121536254883, 24.619760513305664, 28.148820877075195, 9.208486557006836, 7.720959186553955, 10.096556663513184, 68.37394714355469, 40.435264587402344, 33.16008758544922, 38.19803237915039, 34.34266662597656, 24.391002655029297, 29.342519760131836, 23.068050384521484, 20.673152923583984, 20.48314666748047, 16.15631866455078, 21.17623519897461, 41.813720703125, 134.0172882080078, 32.66188049316406, 40.88607406616211, 20.02928924560547, 49.5219841003418, 32.072052001953125, 27.344711303710938, 48.99274444580078, 28.361940383911133, 30.7023983001709, 57.44338607788086, 47.56532669067383, 33.41761016845703, 51.74467086791992, 59.5010986328125, 55.85411834716797, 35.99336624145508, 41.46290588378906, 34.343658447265625, 49.856170654296875, 58.51819610595703, 34.96788024902344, 45.01362991333008, 21.75582504272461, 9.081191062927246, 2.4809465408325195, 3.4030210971832275, 3.2908074855804443, 3.4350874423980713, 14.415078163146973, 2.545720338821411, 2.4554052352905273, 4.11271333694458, 3.338897466659546, 5.837637901306152, 2.4450345039367676, 2.5565316677093506, 2.468735933303833, 3.319091796875, 1.6501805782318115, 2.4941835403442383, 2.4729623794555664, 4.33549165725708, 1.656970500946045, 10.775286674499512, 5.124124526977539, 1.6456341743469238, 3.297299861907959, 3.300001621246338, 5.907785415649414, 2.4471893310546875, 2.4634222984313965, 2.4645462036132812, 3.2985732555389404, 16.4654541015625, 12.14923095703125, 8.201460838317871, 9.341171264648438, 22.146333694458008, 12.359720230102539, 22.366283416748047, 59.5010986328125, 21.97100067138672, 8.274991989135742, 24.99028778076172, 10.327910423278809, 8.829349517822266, 57.44338607788086, 134.0172882080078, 24.521940231323242, 45.01362991333008, 20.036117553710938, 55.85411834716797, 20.310401916503906, 26.343708038330078, 17.23244285583496, 27.903423309326172, 51.74467086791992, 17.27301025390625, 41.46290588378906, 30.518173217773438, 34.96788024902344, 26.562156677246094, 39.67415237426758, 27.405662536621094, 58.51819610595703, 36.14206314086914, 68.37394714355469, 47.56532669067383, 49.5219841003418, 40.88607406616211, 49.856170654296875, 41.813720703125, 33.41761016845703, 40.435264587402344, 35.02711868286133, 34.89892578125, 48.99274444580078, 34.525306701660156, 32.66188049316406, 30.036344528198242, 35.99336624145508, 4.5379486083984375, 2.2925288677215576, 2.3267855644226074, 2.3324735164642334, 3.908297538757324, 2.342878818511963, 3.914398193359375, 1.5643131732940674, 1.5681432485580444, 2.3445162773132324, 2.3600099086761475, 8.634201049804688, 4.719518184661865, 3.1373960971832275, 1.5689997673034668, 3.143704891204834, 1.5719869136810303, 1.5735664367675781, 3.144331932067871, 1.5734343528747559, 23.56607437133789, 1.5737617015838623, 15.775313377380371, 1.5749696493148804, 3.1490848064422607, 15.805322647094727, 1.5771509408950806, 1.5781912803649902, 1.5792412757873535, 1.5773319005966187, 8.698407173156738, 4.752964019775391, 3.1532771587371826, 58.51819610595703, 9.503564834594727, 5.558008193969727, 3.962026834487915, 6.319029331207275, 12.709766387939453, 48.99274444580078, 19.946901321411133, 8.715404510498047, 15.119622230529785, 49.856170654296875, 34.525306701660156, 14.351707458496094, 36.14206314086914, 11.130186080932617, 11.965057373046875, 17.625261306762695, 32.32527160644531, 12.047098159790039, 134.0172882080078, 39.67415237426758, 20.918926239013672, 34.89892578125, 15.240609169006348, 35.02711868286133, 30.036344528198242, 47.56532669067383, 55.85411834716797, 51.74467086791992, 35.99336624145508, 45.01362991333008, 34.343658447265625, 26.08316421508789, 49.5219841003418, 68.37394714355469, 32.072052001953125, 25.235593795776367, 57.44338607788086, 38.19803237915039, 41.46290588378906, 59.5010986328125, 33.16008758544922, 40.88607406616211, 41.813720703125, 28.73633575439453, 40.435264587402344], \"loglift\": [30.0, 29.0, 28.0, 27.0, 26.0, 25.0, 24.0, 23.0, 22.0, 21.0, 20.0, 19.0, 18.0, 17.0, 16.0, 15.0, 14.0, 13.0, 12.0, 11.0, 10.0, 9.0, 8.0, 7.0, 6.0, 5.0, 4.0, 3.0, 2.0, 1.0, 0.5475999712944031, 0.48840001225471497, 0.4724000096321106, 0.4490000009536743, 0.4456999897956848, 0.44359999895095825, 0.4205000102519989, 0.41659998893737793, 0.41179999709129333, 0.4099999964237213, 0.40880000591278076, 0.40689998865127563, 0.4009000062942505, 0.40070000290870667, 0.3982999920845032, 0.39730000495910645, 0.3953000009059906, 0.3853999972343445, 0.38449999690055847, 0.382999986410141, 0.3822000026702881, 0.37610000371932983, 0.37599998712539673, 0.3758000135421753, 0.3752000033855438, 0.37450000643730164, 0.37130001187324524, 0.3700999915599823, 0.3695000112056732, 0.3684999942779541, 0.3587000072002411, 0.3635999858379364, 0.3424000144004822, 0.32359999418258667, 0.3580999970436096, 0.2874999940395355, 0.29679998755455017, 0.3019999861717224, 0.2612999975681305, 0.24889999628067017, 0.31850001215934753, 0.33000001311302185, 0.3111000061035156, 0.1670999974012375, 0.2011999934911728, 0.2151000052690506, 0.19769999384880066, 0.19760000705718994, 0.22609999775886536, 0.2020999938249588, 0.2257000058889389, 0.2363000065088272, 0.2362000048160553, 0.2524000108242035, 0.20970000326633453, 0.10930000245571136, -0.07129999995231628, 0.121799997985363, 0.07670000195503235, 0.20469999313354492, 0.036400001496076584, 0.10849999636411667, 0.13660000264644623, 0.0007999999797903001, 0.12600000202655792, 0.10409999638795853, -0.07419999688863754, -0.026100000366568565, 0.06440000236034393, -0.09189999848604202, -0.15850000083446503, -0.14740000665187836, 0.021900000050663948, -0.03779999911785126, 0.01940000057220459, -0.1745000034570694, -0.3720000088214874, -0.03060000017285347, -0.22579999268054962, 0.6061999797821045, 0.5846999883651733, 0.5597000122070312, 0.546999990940094, 0.5442000031471252, 0.5210000276565552, 0.5067999958992004, 0.4828000068664551, 0.47589999437332153, 0.4666000008583069, 0.4551999866962433, 0.45249998569488525, 0.44620001316070557, 0.44609999656677246, 0.4433000087738037, 0.4417000114917755, 0.4404999911785126, 0.4332999885082245, 0.4327000081539154, 0.42500001192092896, 0.4244999885559082, 0.4196999967098236, 0.41909998655319214, 0.4156000018119812, 0.41290000081062317, 0.4124999940395355, 0.412200003862381, 0.4106999933719635, 0.40950000286102295, 0.4092000126838684, 0.40799999237060547, 0.3885999917984009, 0.392300009727478, 0.3946000039577484, 0.387800008058548, 0.3522000014781952, 0.36570000648498535, 0.34060001373291016, 0.2858999967575073, 0.3312999904155731, 0.3714999854564667, 0.2957000136375427, 0.3571999967098236, 0.3474000096321106, 0.16349999606609344, 0.05389999970793724, 0.23280000686645508, 0.1589999943971634, 0.25119999051094055, 0.12099999934434891, 0.24310000240802765, 0.19550000131130219, 0.2549999952316284, 0.1761000007390976, 0.06650000065565109, 0.24690000712871552, 0.09480000287294388, 0.14949999749660492, 0.12129999697208405, 0.17100000381469727, 0.09049999713897705, 0.1525000035762787, -0.03400000184774399, 0.07320000231266022, -0.11900000274181366, -0.019999999552965164, -0.0348999984562397, 0.017999999225139618, -0.051600001752376556, -0.005100000184029341, 0.043699998408555984, -0.06700000166893005, 0.012000000104308128, -0.026599999517202377, -0.2946999967098236, -0.037300001829862595, -0.008500000461935997, 0.06620000302791595, -0.10849999636411667, 0.7702999711036682, 0.7031000256538391, 0.5968999862670898, 0.5709999799728394, 0.5637000203132629, 0.548799991607666, 0.5313000082969666, 0.5304999947547913, 0.5180000066757202, 0.5177000164985657, 0.5170999765396118, 0.5162000060081482, 0.5156000256538391, 0.5120999813079834, 0.5091000199317932, 0.49619999527931213, 0.49309998750686646, 0.4894999861717224, 0.4851999878883362, 0.48350000381469727, 0.4812000095844269, 0.4805000126361847, 0.4803999960422516, 0.4796999990940094, 0.4763999879360199, 0.47429999709129333, 0.46470001339912415, 0.46230000257492065, 0.4618000090122223, 0.45910000801086426, 0.45669999718666077, 0.4569999873638153, 0.4575999975204468, 0.41920000314712524, 0.4431999921798706, 0.44760000705718994, 0.4530999958515167, 0.43050000071525574, 0.4002000093460083, 0.31459999084472656, 0.35839998722076416, 0.40560001134872437, 0.3635999858379364, 0.27489998936653137, 0.28610000014305115, 0.35440000891685486, 0.2678999900817871, 0.3763999938964844, 0.36090001463890076, 0.31450000405311584, 0.2328999936580658, 0.3465000092983246, 0.02370000071823597, 0.18479999899864197, 0.273499995470047, 0.18070000410079956, 0.287200003862381, 0.13539999723434448, 0.16210000216960907, 0.0658000037074089, 0.0210999995470047, 0.03290000185370445, 0.1096000000834465, 0.054999999701976776, 0.11330000311136246, 0.1785999983549118, -0.006500000134110451, -0.12030000239610672, 0.061900001019239426, 0.14650000631809235, -0.16189999878406525, -0.049800001084804535, -0.09229999780654907, -0.2989000082015991, -0.01979999989271164, -0.15960000455379486, -0.18400000035762787, 0.03350000083446503, -0.2802000045776367], \"logprob\": [30.0, 29.0, 28.0, 27.0, 26.0, 25.0, 24.0, 23.0, 22.0, 21.0, 20.0, 19.0, 18.0, 17.0, 16.0, 15.0, 14.0, 13.0, 12.0, 11.0, 10.0, 9.0, 8.0, 7.0, 6.0, 5.0, 4.0, 3.0, 2.0, 1.0, -7.7881999015808105, -6.432700157165527, -7.351900100708008, -6.713699817657471, -7.04010009765625, -6.921299934387207, -7.6554999351501465, -7.66349983215332, -7.429200172424316, -7.099400043487549, -8.348400115966797, -7.254000186920166, -7.457200050354004, -7.468100070953369, -7.963500022888184, -6.985599994659424, -7.960100173950195, -7.674300193786621, -7.997799873352051, -8.373900413513184, -7.7032999992370605, -8.380999565124512, -7.97629976272583, -7.697999954223633, -7.995800018310547, -6.876399993896484, -7.4969000816345215, -7.1717000007629395, -7.730500221252441, -7.499000072479248, -5.949399948120117, -7.036600112915039, -6.066100120544434, -6.117000102996826, -7.322500228881836, -5.903600215911865, -6.2357001304626465, -6.453199863433838, -5.8308000564575195, -5.7093000411987305, -6.756999969482422, -6.921800136566162, -6.672399997711182, -4.903600215911865, -5.394800186157227, -5.57919979095459, -5.4552001953125, -5.561699867248535, -5.87529993057251, -5.7144999504089355, -5.93149995803833, -6.0304999351501465, -6.039899826049805, -6.261000156402588, -6.033100128173828, -5.453199863433838, -4.468999862670898, -5.687699794769287, -5.508200168609619, -6.093800067901611, -5.356900215148926, -5.719200134277344, -5.850500106811523, -5.403200149536133, -5.824699878692627, -5.767199993133545, -5.3190999031066895, -5.459700107574463, -5.7221999168396, -5.441299915313721, -5.368199825286865, -5.420400142669678, -5.690499782562256, -5.608699798583984, -5.7399001121521, -5.561100006103516, -5.598400115966797, -5.771900177001953, -5.7144999504089355, -5.609600067138672, -6.504799842834473, -7.827300071716309, -7.52400016784668, -7.560400009155273, -7.5406999588012695, -6.12060022354126, -7.878499984741211, -7.921500205993652, -7.414999961853027, -7.634799957275391, -7.07889986038208, -7.955399990081787, -7.910999774932861, -7.948599815368652, -7.654300212860107, -8.354299545288086, -7.948500156402588, -7.957600116729736, -7.403900146484375, -8.36620044708252, -6.498700141906738, -7.242599964141846, -8.381999969482422, -7.689700126647949, -7.689199924468994, -7.1072001457214355, -7.990099906921387, -7.984600067138672, -7.984399795532227, -7.694200038909912, -6.105800151824951, -6.406099796295166, -6.7967000007629395, -6.673500061035156, -5.845799922943115, -6.415599822998047, -5.847599983215332, -4.923799991607666, -5.87470006942749, -6.8109002113342285, -5.781599998474121, -6.603600025177002, -6.770199775695801, -5.081399917602539, -4.343800067901611, -5.86329984664917, -5.329699993133545, -6.046999931335449, -5.1519999504089355, -6.041500091552734, -5.828999996185303, -6.193900108337402, -5.790900230407715, -5.282800197601318, -6.1996002197265625, -5.476099967956543, -5.72790002822876, -5.619999885559082, -5.845200061798096, -5.524499893188477, -5.832499980926514, -5.26039981842041, -5.635000228881836, -5.189700126647949, -5.45359992980957, -5.428199768066406, -5.56689977645874, -5.4380998611450195, -5.567599773406982, -5.7428998947143555, -5.663000106811523, -5.72760009765625, -5.769899845123291, -5.698699951171875, -5.791299819946289, -5.817999839782715, -5.827099800109863, -5.820799827575684, -7.013000011444092, -7.762899875640869, -7.854300022125244, -7.877699851989746, -7.368899822235107, -7.895500183105469, -7.399700164794922, -8.31779956817627, -8.327799797058105, -7.925899982452393, -7.919899940490723, -6.623700141906738, -7.228400230407715, -7.640200138092041, -8.336199760437012, -7.654099941253662, -8.350199699401855, -8.352800369262695, -7.664899826049805, -8.35890007019043, -5.654699802398682, -8.361700057983398, -6.05679988861084, -8.361800193786621, -7.672100067138672, -6.060999870300293, -8.375399589538574, -8.377099990844727, -8.376999855041504, -8.380900382995605, -6.67579984664917, -7.279900074005127, -7.689700126647949, -4.807199954986572, -6.600800037384033, -7.132900238037109, -7.46589994430542, -7.021599769592285, -6.353099822998047, -5.089399814605713, -5.944200038909912, -6.724999904632568, -6.216100215911865, -5.111599922180176, -5.467899799346924, -6.277400016784668, -5.440299987792969, -6.5096001625061035, -6.4527997970581055, -6.1118998527526855, -5.586999893188477, -6.460299968719482, -4.374000072479248, -5.430200099945068, -5.981599807739258, -5.5625, -6.284599781036377, -5.6041998863220215, -5.731200218200684, -5.367700099945068, -5.2519001960754395, -5.316400051116943, -5.602799892425537, -5.433700084686279, -5.645899772644043, -5.855800151824951, -5.399700164794922, -5.190999984741211, -5.7657999992370605, -5.920899868011475, -5.406799793243408, -5.702700138092041, -5.6631999015808105, -5.508600234985352, -5.814199924468994, -5.744500160217285, -5.746500015258789, -5.904099941253662, -5.876200199127197]}, \"token.table\": {\"Topic\": [1, 2, 3, 1, 2, 3, 1, 2, 3, 1, 2, 3, 1, 2, 3, 1, 2, 3, 1, 2, 3, 1, 2, 3, 2, 3, 1, 2, 3, 3, 1, 2, 3, 1, 2, 3, 1, 2, 3, 1, 2, 3, 1, 2, 3, 3, 1, 2, 3, 1, 2, 3, 1, 2, 3, 1, 2, 3, 1, 3, 1, 2, 3, 1, 2, 3, 1, 2, 3, 1, 2, 3, 1, 2, 3, 1, 2, 3, 1, 2, 3, 1, 2, 3, 1, 2, 3, 1, 2, 3, 1, 2, 3, 1, 2, 3, 1, 2, 1, 2, 3, 1, 2, 3, 1, 2, 3, 1, 2, 3, 1, 2, 3, 1, 2, 3, 1, 1, 2, 3, 1, 2, 3, 1, 2, 3, 1, 2, 3, 3, 1, 2, 3, 3, 2, 3, 1, 2, 1, 2, 3, 1, 2, 3, 1, 2, 3, 1, 2, 3, 1, 2, 3, 1, 2, 3, 1, 2, 3, 1, 2, 3, 1, 2, 3, 1, 2, 3, 1, 2, 3, 1, 2, 3, 1, 2, 3, 1, 2, 3, 1, 2, 3, 2, 1, 2, 1, 2, 3, 3, 1, 3, 1, 2, 3, 3, 3, 1, 2, 3, 1, 2, 3, 1, 2, 3, 2, 3, 1, 2, 3, 2, 3, 1, 2, 1, 2, 3, 1, 2, 3, 1, 2, 3, 1, 2, 1, 2, 3, 1, 2, 3, 1, 2, 3, 1, 2, 3, 1, 2, 3, 1, 2, 3, 1, 2, 3, 3, 1, 2, 3, 1, 2, 3, 1, 2, 3, 1, 2, 3, 1, 2, 3, 1, 2, 3, 1, 2, 3, 1, 2, 3, 2, 1, 2, 1, 2, 3, 1, 2, 1, 2, 3, 2, 3, 1, 2, 3, 1, 2, 1, 2, 3, 1, 2, 3, 1, 2, 3, 1, 2, 3, 1, 2, 3, 1, 2, 3, 1, 2, 3, 1, 2, 3, 1, 2, 3, 1, 2, 3, 1, 2, 3, 1, 2, 3, 1, 2, 3, 1, 2, 3, 1, 2, 3, 1, 2, 3, 1, 2, 3, 1, 2, 3, 1, 2, 3, 1, 2, 3, 1, 2, 3, 1, 2, 3, 1, 2, 3, 1, 2, 3, 1, 2, 3, 1, 2, 1, 2, 3, 1, 2, 3, 2, 3, 1, 2, 3, 1, 2, 3, 1, 2, 3, 1, 2, 3, 1, 2, 3, 1, 2, 3, 1, 3, 1, 2, 3, 1, 2, 3, 1, 2, 3, 1, 2, 3, 1, 2, 3, 1, 3, 1, 2, 1, 2, 1, 2, 3, 1, 2, 3, 1, 2, 3, 1, 2, 1, 2, 3, 2, 1, 2, 3, 1, 2, 3, 3, 1, 2, 3, 1, 2, 1, 2, 3, 1, 2, 3, 1, 2, 3, 1, 2, 3, 1, 2, 3, 1, 2, 3, 1, 2, 3, 1, 2, 3, 1, 2, 3, 1, 2, 3, 1, 2, 3, 1, 2, 3, 1, 2, 3, 1, 2, 3, 1, 2, 3, 1, 2, 3, 1, 2, 3, 1, 2, 3, 1, 2, 3, 3, 1, 2, 3, 1, 2, 3, 1, 2, 3, 1, 2, 3, 1, 2, 3, 1, 2, 3], \"Freq\": [0.4722274839878082, 0.2361137419939041, 0.33055922389030457, 0.3175525665283203, 0.3175525665283203, 0.3175525665283203, 0.3385363221168518, 0.5078045129776001, 0.1692681610584259, 0.24314847588539124, 0.48629695177078247, 0.24314847588539124, 0.3180325925350189, 0.3180325925350189, 0.3180325925350189, 0.4658927619457245, 0.32030126452445984, 0.20382808148860931, 0.31873565912246704, 0.31873565912246704, 0.31873565912246704, 0.3030301630496979, 0.6060603260993958, 0.3030301630496979, 0.40726473927497864, 0.40726473927497864, 0.24293287098407745, 0.5465989708900452, 0.24293287098407745, 0.6376968622207642, 0.24272394180297852, 0.5663558840751648, 0.24272394180297852, 0.3873000144958496, 0.4841250479221344, 0.0968250036239624, 0.2624567151069641, 0.3936850428581238, 0.32807087898254395, 0.48250776529312134, 0.27141061425209045, 0.24125388264656067, 0.24169208109378815, 0.4833841621875763, 0.24169208109378815, 0.6354990601539612, 0.39388683438301086, 0.4431226849555969, 0.14770756661891937, 0.2766859233379364, 0.38736027479171753, 0.33202311396598816, 0.16461947560310364, 0.5761681795120239, 0.24692921340465546, 0.3878125250339508, 0.26534542441368103, 0.346990168094635, 0.6332154870033264, 0.6332154870033264, 0.31567102670669556, 0.21044734120368958, 0.42089468240737915, 0.2257710099220276, 0.5418503880500793, 0.2257710099220276, 0.299500048160553, 0.599000096321106, 0.299500048160553, 0.29963698983192444, 0.3995159864425659, 0.29963698983192444, 0.41503772139549255, 0.16601508855819702, 0.33203017711639404, 0.49198469519615173, 0.327989786863327, 0.2049936205148697, 0.5573277473449707, 0.334396630525589, 0.1671983152627945, 0.29015040397644043, 0.4642406105995178, 0.2321203052997589, 0.654727041721344, 0.327363520860672, 0.163681760430336, 0.42977747321128845, 0.42977747321128845, 0.42977747321128845, 0.6049748063087463, 0.30248740315437317, 0.30248740315437317, 0.42377206683158875, 0.21188603341579437, 0.42377206683158875, 0.29111340641975403, 0.5822268128395081, 0.3404204845428467, 0.3404204845428467, 0.3404204845428467, 0.24385899305343628, 0.48771798610687256, 0.24385899305343628, 0.3201243579387665, 0.4801865518093109, 0.20007772743701935, 0.34259170293807983, 0.3711410164833069, 0.28549307584762573, 0.1713021695613861, 0.5139064788818359, 0.1713021695613861, 0.5892981886863708, 0.2946490943431854, 0.2946490943431854, 0.5835973024368286, 0.4801000654697418, 0.2400500327348709, 0.2400500327348709, 0.40437331795692444, 0.40437331795692444, 0.40437331795692444, 0.4712284505367279, 0.28797295689582825, 0.23561422526836395, 0.44934195280075073, 0.2995612919330597, 0.1997075378894806, 0.6340547204017639, 0.3785269558429718, 0.32029202580451965, 0.2911745607852936, 0.6373487114906311, 0.607753574848175, 0.3038767874240875, 0.5834497809410095, 0.5834497809410095, 0.22036388516426086, 0.22036388516426086, 0.44072777032852173, 0.3717697560787201, 0.40036740899086, 0.22878138720989227, 0.3031613826751709, 0.6063227653503418, 0.3031613826751709, 0.264556884765625, 0.33069610595703125, 0.33069610595703125, 0.349369078874588, 0.44918882846832275, 0.1996394693851471, 0.4798271059989929, 0.23991355299949646, 0.23991355299949646, 0.2546032965183258, 0.3394710421562195, 0.42433881759643555, 0.2695372700691223, 0.3593830168247223, 0.3593830168247223, 0.3478619158267975, 0.38651323318481445, 0.25123360753059387, 0.25546711683273315, 0.25546711683273315, 0.5109342336654663, 0.4217279851436615, 0.2683723568916321, 0.30671125650405884, 0.5176697969436646, 0.2588348984718323, 0.12941744923591614, 0.42872941493988037, 0.42872941493988037, 0.42872941493988037, 0.43884170055389404, 0.32913127541542053, 0.25599101185798645, 0.35093170404434204, 0.30079859495162964, 0.35093170404434204, 0.6035110354423523, 0.5810783505439758, 0.2905391752719879, 0.4768500030040741, 0.26010000705718994, 0.26010000705718994, 0.6355524063110352, 0.401168555021286, 0.401168555021286, 0.42341968417167664, 0.32570746541023254, 0.22799521684646606, 0.6349328756332397, 0.6354202032089233, 0.3617691397666931, 0.41000503301620483, 0.2411794364452362, 0.48820623755455017, 0.24410311877727509, 0.2929237484931946, 0.2682609260082245, 0.536521852016449, 0.22355078160762787, 0.4086320400238037, 0.4086320400238037, 0.42079004645347595, 0.21039502322673798, 0.42079004645347595, 0.4089921712875366, 0.4089921712875366, 0.391154944896698, 0.391154944896698, 0.3784269094467163, 0.3574031889438629, 0.27330833673477173, 0.31101691722869873, 0.4220943748950958, 0.26658591628074646, 0.3803410828113556, 0.25356072187423706, 0.3803410828113556, 0.6888259649276733, 0.2296086549758911, 0.3889605700969696, 0.33339476585388184, 0.27782896161079407, 0.3566391170024872, 0.3566391170024872, 0.27738597989082336, 0.32767361402511597, 0.4259756803512573, 0.22937153279781342, 0.3343068063259125, 0.3343068063259125, 0.3343068063259125, 0.4231022298336029, 0.35258519649505615, 0.21155111491680145, 0.11325863003730774, 0.5662931203842163, 0.3397758901119232, 0.40593934059143066, 0.40593934059143066, 0.40593934059143066, 0.6392582058906555, 0.34029102325439453, 0.34029102325439453, 0.3093554973602295, 0.5849852561950684, 0.19499507546424866, 0.19499507546424866, 0.5179414749145508, 0.23019622266292572, 0.28774526715278625, 0.3171303868293762, 0.3171303868293762, 0.3171303868293762, 0.30246391892433167, 0.4032852351665497, 0.30246391892433167, 0.42682531476020813, 0.42682531476020813, 0.42682531476020813, 0.4932965636253357, 0.35876113176345825, 0.13453541696071625, 0.426527202129364, 0.426527202129364, 0.426527202129364, 0.6076684594154358, 0.7658209800720215, 0.38291049003601074, 0.34816887974739075, 0.4352111220359802, 0.2089013308286667, 0.5835826396942139, 0.5835826396942139, 0.4365171194076538, 0.31179794669151306, 0.28061816096305847, 0.8061439394950867, 0.40307196974754333, 0.30327844619750977, 0.6065568923950195, 0.30327844619750977, 0.29385653138160706, 0.5877130627632141, 0.43619951605796814, 0.43619951605796814, 0.43619951605796814, 0.338827908039093, 0.451770544052124, 0.225885272026062, 0.49521833658218384, 0.2971310019493103, 0.19808733463287354, 0.5800909996032715, 0.29004549980163574, 0.14502274990081787, 0.27578821778297424, 0.6894705295562744, 0.04596470296382904, 0.3942168653011322, 0.43005475401878357, 0.17918948829174042, 0.3186017870903015, 0.5006599426269531, 0.1365436166524887, 0.2563305199146271, 0.3588627278804779, 0.3759514391422272, 0.2894689440727234, 0.463150292634964, 0.231575146317482, 0.37961894273757935, 0.18980947136878967, 0.37961894273757935, 0.28545865416526794, 0.448577880859375, 0.28545865416526794, 0.34385013580322266, 0.34385013580322266, 0.3151959478855133, 0.5027073621749878, 0.3351382315158844, 0.1675691157579422, 0.3165042996406555, 0.3165042996406555, 0.3165042996406555, 0.483719140291214, 0.241859570145607, 0.241859570145607, 0.2558658719062805, 0.2558658719062805, 0.511731743812561, 0.40093281865119934, 0.40093281865119934, 0.40093281865119934, 0.4749951958656311, 0.23749759793281555, 0.23749759793281555, 0.5544931888580322, 0.20163390040397644, 0.25204238295555115, 0.5966519117355347, 0.19888398051261902, 0.19888398051261902, 0.5180703401565552, 0.3885527551174164, 0.1295175850391388, 0.11011771112680435, 0.6607062816619873, 0.2202354222536087, 0.47947922348976135, 0.23973961174488068, 0.23973961174488068, 0.32115885615348816, 0.535264790058136, 0.10705295950174332, 0.4057542085647583, 0.4057542085647583, 0.4057542085647583, 0.39054709672927856, 0.39054709672927856, 0.5429773926734924, 0.2171909511089325, 0.2171909511089325, 0.5047206878662109, 0.25236034393310547, 0.25236034393310547, 0.4050655961036682, 0.4050655961036682, 0.4286342263221741, 0.36740076541900635, 0.21431711316108704, 0.3222680985927582, 0.4117870032787323, 0.2506529688835144, 0.519282341003418, 0.17309410870075226, 0.3461882174015045, 0.5907188653945923, 0.29535943269729614, 0.14767971634864807, 0.3581627607345581, 0.388009637594223, 0.26116034388542175, 0.3147186040878296, 0.3147186040878296, 0.393398255109787, 0.6336367726325989, 0.6336367726325989, 0.6514148712158203, 0.09305926412343979, 0.27917781472206116, 0.41894078254699707, 0.38901644945144653, 0.20947039127349854, 0.396653413772583, 0.396653413772583, 0.396653413772583, 0.4304807186126709, 0.3587339222431183, 0.21524035930633545, 0.27841487526893616, 0.5568297505378723, 0.18560990691184998, 0.42372703552246094, 0.42372703552246094, 0.46130868792533875, 0.46130868792533875, 0.39281612634658813, 0.7856322526931763, 0.5924009084701538, 0.23696035146713257, 0.23696035146713257, 0.35984113812446594, 0.17992056906223297, 0.35984113812446594, 0.47712329030036926, 0.3408023715019226, 0.20448142290115356, 0.3893043100833893, 0.3893043100833893, 0.3193218410015106, 0.48738595843315125, 0.18487054109573364, 0.6059942841529846, 0.22947873175144196, 0.34421810507774353, 0.34421810507774353, 0.551827609539032, 0.31533005833625793, 0.15766502916812897, 0.6339820027351379, 0.3346252143383026, 0.3346252143383026, 0.3346252143383026, 0.39303311705589294, 0.39303311705589294, 0.41578948497772217, 0.3668730854988098, 0.22012384235858917, 0.49516230821609497, 0.37137171626091003, 0.18568585813045502, 0.5930891036987305, 0.29654455184936523, 0.29654455184936523, 0.4973565340042114, 0.2486782670021057, 0.2486782670021057, 0.6009337306022644, 0.1502334326505661, 0.3004668653011322, 0.3903105854988098, 0.5854658484458923, 0.1951552927494049, 0.3474554121494293, 0.23163695633411407, 0.46327391266822815, 0.5963279008865356, 0.2981639504432678, 0.2981639504432678, 0.45338907837867737, 0.321759968996048, 0.21938180923461914, 0.31809601187705994, 0.31809601187705994, 0.31809601187705994, 0.36488810181617737, 0.4378657042980194, 0.2189328521490097, 0.5047921538352966, 0.2523960769176483, 0.5047921538352966, 0.27748721837997437, 0.6243462562561035, 0.13874360918998718, 0.48741334676742554, 0.3249422311782837, 0.16247111558914185, 0.3186068832874298, 0.34757113456726074, 0.34757113456726074, 0.2787124812602997, 0.3483906090259552, 0.3483906090259552, 0.4669521152973175, 0.23347605764865875, 0.23347605764865875, 0.3448907434940338, 0.2299271523952484, 0.3448907434940338, 0.3012872338294983, 0.6025744676589966, 0.3012872338294983, 0.6361376047134399, 0.30367782711982727, 0.4555167257785797, 0.22775836288928986, 0.40386104583740234, 0.34328189492225647, 0.2423166185617447, 0.5906582474708557, 0.29532912373542786, 0.29532912373542786, 0.3209231495857239, 0.3409808576107025, 0.3409808576107025, 0.3479914665222168, 0.38279062509536743, 0.24359403550624847, 0.4698868691921234, 0.34623244404792786, 0.19784709811210632], \"Term\": [\"ability\", \"ability\", \"ability\", \"acclaim\", \"acclaim\", \"acclaim\", \"accomplish\", \"accomplish\", \"accomplish\", \"advice\", \"advice\", \"advice\", \"aftereffect\", \"aftereffect\", \"aftereffect\", \"allow\", \"allow\", \"allow\", \"analyze\", \"analyze\", \"analyze\", \"apartment\", \"apartment\", \"apartment\", \"aratap\", \"aratap\", \"arrest\", \"arrest\", \"arrest\", \"assert\", \"assign\", \"assign\", \"assign\", \"asteroid\", \"asteroid\", \"asteroid\", \"attack\", \"attack\", \"attack\", \"attempt\", \"attempt\", \"attempt\", \"attend\", \"attend\", \"attend\", \"attract\", \"begin\", \"begin\", \"begin\", \"believe\", \"believe\", \"believe\", \"blaster\", \"blaster\", \"blaster\", \"book\", \"book\", \"book\", \"border\", \"border\", \"boss\", \"boss\", \"boss\", \"brain\", \"brain\", \"brain\", \"brother\", \"brother\", \"brother\", \"call\", \"call\", \"call\", \"car\", \"car\", \"car\", \"cause\", \"cause\", \"cause\", \"chapter\", \"chapter\", \"chapter\", \"city\", \"city\", \"city\", \"clot\", \"clot\", \"clot\", \"clown\", \"clown\", \"clown\", \"compromise\", \"compromise\", \"compromise\", \"conference\", \"conference\", \"conference\", \"constant\", \"constant\", \"contact\", \"contact\", \"contact\", \"convert\", \"convert\", \"convert\", \"day\", \"day\", \"day\", \"death\", \"death\", \"death\", \"decision\", \"decision\", \"decision\", \"denison\", \"denison\", \"denison\", \"depart\", \"derive\", \"derive\", \"derive\", \"descendant\", \"descendant\", \"descendant\", \"destroy\", \"destroy\", \"destroy\", \"develop\", \"develop\", \"develop\", \"devotion\", \"discover\", \"discover\", \"discover\", \"disintegrate\", \"document\", \"document\", \"dominate\", \"dominate\", \"emperor\", \"emperor\", \"emperor\", \"end\", \"end\", \"end\", \"engine\", \"engine\", \"engine\", \"establish\", \"establish\", \"establish\", \"explain\", \"explain\", \"explain\", \"explore\", \"explore\", \"explore\", \"face\", \"face\", \"face\", \"fear\", \"fear\", \"fear\", \"find\", \"find\", \"find\", \"focus\", \"focus\", \"focus\", \"force\", \"force\", \"force\", \"frog\", \"frog\", \"frog\", \"general\", \"general\", \"general\", \"give\", \"give\", \"give\", \"government\", \"government\", \"government\", \"granddaughter\", \"grant\", \"grant\", \"head\", \"head\", \"head\", \"health\", \"heatsink\", \"heatsink\", \"help\", \"help\", \"help\", \"hologram\", \"hostage\", \"human\", \"human\", \"human\", \"humaniform\", \"humaniform\", \"humaniform\", \"humanity\", \"humanity\", \"humanity\", \"inaction\", \"inaction\", \"instruct\", \"instruct\", \"instruct\", \"interrogate\", \"interrogate\", \"jester\", \"jester\", \"kill\", \"kill\", \"kill\", \"know\", \"know\", \"know\", \"knowledge\", \"knowledge\", \"knowledge\", \"laser\", \"laser\", \"leave\", \"leave\", \"leave\", \"life\", \"life\", \"life\", \"live\", \"live\", \"live\", \"location\", \"location\", \"location\", \"man\", \"man\", \"man\", \"manipulate\", \"manipulate\", \"manipulate\", \"map\", \"map\", \"map\", \"meantime\", \"meet\", \"meet\", \"meet\", \"melt\", \"melt\", \"melt\", \"mention\", \"mention\", \"mention\", \"modesty\", \"modesty\", \"modesty\", \"murder\", \"murder\", \"murder\", \"mutant\", \"mutant\", \"mutant\", \"name\", \"name\", \"name\", \"native\", \"native\", \"native\", \"nebula\", \"nemesis\", \"nemesis\", \"novel\", \"novel\", \"novel\", \"opening\", \"opening\", \"order\", \"order\", \"order\", \"ordinate\", \"ordinate\", \"overpopulate\", \"overpopulate\", \"overpopulate\", \"parent\", \"parent\", \"patrician\", \"patrician\", \"patrician\", \"people\", \"people\", \"people\", \"person\", \"person\", \"person\", \"pilot\", \"pilot\", \"pilot\", \"pirate\", \"pirate\", \"pirate\", \"place\", \"place\", \"place\", \"plan\", \"plan\", \"plan\", \"planet\", \"planet\", \"planet\", \"plot\", \"plot\", \"plot\", \"poison\", \"poison\", \"poison\", \"population\", \"population\", \"population\", \"power\", \"power\", \"power\", \"practice\", \"practice\", \"practice\", \"predict\", \"predict\", \"predict\", \"prevent\", \"prevent\", \"prevent\", \"principle\", \"principle\", \"principle\", \"prisoner\", \"prisoner\", \"prisoner\", \"procedure\", \"procedure\", \"procedure\", \"question\", \"question\", \"question\", \"raise\", \"raise\", \"raise\", \"reach\", \"reach\", \"reach\", \"rebellion\", \"rebellion\", \"rebellion\", \"recover\", \"recover\", \"recover\", \"reduce\", \"reduce\", \"reduce\", \"reproduce\", \"reproduce\", \"reproduce\", \"reproduction\", \"reproduction\", \"request\", \"request\", \"request\", \"result\", \"result\", \"result\", \"resume\", \"resume\", \"return\", \"return\", \"return\", \"reveal\", \"reveal\", \"reveal\", \"revelation\", \"revelation\", \"revelation\", \"right\", \"right\", \"right\", \"robot\", \"robot\", \"robot\", \"rule\", \"rule\", \"rule\", \"rump\", \"rump\", \"sector\", \"sector\", \"sector\", \"series\", \"series\", \"series\", \"shift\", \"shift\", \"shift\", \"ship\", \"ship\", \"ship\", \"spaceship\", \"spaceship\", \"spaceship\", \"spacio\", \"spacio\", \"speed\", \"speed\", \"spend\", \"spend\", \"spy\", \"spy\", \"spy\", \"stand\", \"stand\", \"stand\", \"state\", \"state\", \"state\", \"station\", \"station\", \"story\", \"story\", \"story\", \"subdue\", \"suffer\", \"suffer\", \"suffer\", \"sun\", \"sun\", \"sun\", \"surprise\", \"system\", \"system\", \"system\", \"tailor\", \"tailor\", \"take\", \"take\", \"take\", \"technology\", \"technology\", \"technology\", \"telepresence\", \"telepresence\", \"telepresence\", \"tell\", \"tell\", \"tell\", \"test\", \"test\", \"test\", \"thought\", \"thought\", \"thought\", \"threat\", \"threat\", \"threat\", \"ticket\", \"ticket\", \"ticket\", \"time\", \"time\", \"time\", \"trader\", \"trader\", \"trader\", \"travel\", \"travel\", \"travel\", \"treat\", \"treat\", \"treat\", \"turn\", \"turn\", \"turn\", \"universe\", \"universe\", \"universe\", \"use\", \"use\", \"use\", \"view\", \"view\", \"view\", \"virus\", \"virus\", \"virus\", \"war\", \"war\", \"war\", \"wear\", \"wear\", \"wear\", \"whereabout\", \"wife\", \"wife\", \"wife\", \"work\", \"work\", \"work\", \"worker\", \"worker\", \"worker\", \"world\", \"world\", \"world\", \"write\", \"write\", \"write\", \"year\", \"year\", \"year\"]}, \"R\": 30, \"lambda.step\": 0.01, \"plot.opts\": {\"xlab\": \"PC1\", \"ylab\": \"PC2\"}, \"topic.order\": [2, 1, 3]};\n",
       "\n",
       "function LDAvis_load_lib(url, callback){\n",
       "  var s = document.createElement('script');\n",
       "  s.src = url;\n",
       "  s.async = true;\n",
       "  s.onreadystatechange = s.onload = callback;\n",
       "  s.onerror = function(){console.warn(\"failed to load library \" + url);};\n",
       "  document.getElementsByTagName(\"head\")[0].appendChild(s);\n",
       "}\n",
       "\n",
       "if(typeof(LDAvis) !== \"undefined\"){\n",
       "   // already loaded: just create the visualization\n",
       "   !function(LDAvis){\n",
       "       new LDAvis(\"#\" + \"ldavis_el258391403214418512162759499241\", ldavis_el258391403214418512162759499241_data);\n",
       "   }(LDAvis);\n",
       "}else if(typeof define === \"function\" && define.amd){\n",
       "   // require.js is available: use it to load d3/LDAvis\n",
       "   require.config({paths: {d3: \"https://cdnjs.cloudflare.com/ajax/libs/d3/3.5.5/d3.min\"}});\n",
       "   require([\"d3\"], function(d3){\n",
       "      window.d3 = d3;\n",
       "      LDAvis_load_lib(\"https://cdn.rawgit.com/bmabey/pyLDAvis/files/ldavis.v1.0.0.js\", function(){\n",
       "        new LDAvis(\"#\" + \"ldavis_el258391403214418512162759499241\", ldavis_el258391403214418512162759499241_data);\n",
       "      });\n",
       "    });\n",
       "}else{\n",
       "    // require.js not available: dynamically load d3 & LDAvis\n",
       "    LDAvis_load_lib(\"https://cdnjs.cloudflare.com/ajax/libs/d3/3.5.5/d3.min.js\", function(){\n",
       "         LDAvis_load_lib(\"https://cdn.rawgit.com/bmabey/pyLDAvis/files/ldavis.v1.0.0.js\", function(){\n",
       "                 new LDAvis(\"#\" + \"ldavis_el258391403214418512162759499241\", ldavis_el258391403214418512162759499241_data);\n",
       "            })\n",
       "         });\n",
       "}\n",
       "</script>"
      ],
      "text/plain": [
       "<IPython.core.display.HTML object>"
      ]
     },
     "execution_count": 198,
     "metadata": {},
     "output_type": "execute_result"
    }
   ],
   "source": [
    "import pyLDAvis.gensim\n",
    "lda_display = pyLDAvis.gensim.prepare(lda, corpus, dictionary, sort_topics=True)\n",
    "pyLDAvis.display(lda_display)"
   ]
  },
  {
   "cell_type": "code",
   "execution_count": null,
   "metadata": {},
   "outputs": [],
   "source": []
  }
 ],
 "metadata": {
  "kernelspec": {
   "display_name": "Python 3",
   "language": "python",
   "name": "python3"
  },
  "language_info": {
   "codemirror_mode": {
    "name": "ipython",
    "version": 3
   },
   "file_extension": ".py",
   "mimetype": "text/x-python",
   "name": "python",
   "nbconvert_exporter": "python",
   "pygments_lexer": "ipython3",
   "version": "3.6.5"
  }
 },
 "nbformat": 4,
 "nbformat_minor": 2
}

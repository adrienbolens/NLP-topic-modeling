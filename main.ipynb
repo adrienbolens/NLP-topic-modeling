{
 "cells": [
  {
   "cell_type": "code",
   "execution_count": 1,
   "metadata": {},
   "outputs": [],
   "source": [
    "import wikipediaapi\n",
    "wiki_wiki = wikipediaapi.Wikipedia('en')"
   ]
  },
  {
   "cell_type": "code",
   "execution_count": 147,
   "metadata": {},
   "outputs": [],
   "source": [
    "def get_categorymembers(category, level=0, max_level=0, verbose=False, pages=None):\n",
    "    \"\"\"\n",
    "    Return a list of all wikipedia pages from a given category.\n",
    "    Categories are themselves pages -> The list includes pages from subcategories that\n",
    "    are members of a higher level category (recursively).\n",
    "    \n",
    "    NOTE: duplicates are not removed.\n",
    "    \n",
    "    Args:\n",
    "    ----\n",
    "        category (str)\n",
    "        level (int): current level of the category\n",
    "        max_level (int): maximum level of the recursion for subcategories\n",
    "        verbose (bool)\n",
    "        \n",
    "    Returns:\n",
    "    -------\n",
    "        pages (list): list of `page`.\n",
    "    \n",
    "    \"\"\"\n",
    "    if pages is None:\n",
    "        pages = []\n",
    "    members = category.categorymembers\n",
    "    for page in members.values():\n",
    "        info_str = \"{0:s}: {1:s} (ns: {2:d})\".format('*' * (level + 1), page.title, page.ns)\n",
    "        if page.ns == wikipediaapi.Namespace.MAIN:\n",
    "            pages.append(page)\n",
    "            if verbose:\n",
    "                print(\"{0:70.70}{1:>27}\".format(info_str, 'PAGE ADDED'))\n",
    "        elif page.ns == wikipediaapi.Namespace.CATEGORY and level < max_level:\n",
    "            if verbose:\n",
    "                print(\"(SUBCATEGORY) \", info_str)\n",
    "            get_categorymembers(page, level + 1, verbose=verbose, pages = pages)\n",
    "    return pages"
   ]
  },
  {
   "cell_type": "code",
   "execution_count": 148,
   "metadata": {
    "scrolled": false
   },
   "outputs": [
    {
     "name": "stdout",
     "output_type": "stream",
     "text": [
      "(SUBCATEGORY)  *: Category:Mystery novels by Isaac Asimov (ns: 14)\n",
      "**: The Caves of Steel (ns: 0)                                                         PAGE ADDED\n",
      "**: The Death Dealers (ns: 0)                                                          PAGE ADDED\n",
      "**: Murder at the ABA (ns: 0)                                                          PAGE ADDED\n",
      "**: The Naked Sun (ns: 0)                                                              PAGE ADDED\n",
      "**: The Robots of Dawn (ns: 0)                                                         PAGE ADDED\n",
      "(SUBCATEGORY)  *: Category:Science fiction novels by Isaac Asimov (ns: 14)\n",
      "**: The Caves of Steel (ns: 0)                                                         PAGE ADDED\n",
      "**: The Currents of Space (ns: 0)                                                      PAGE ADDED\n",
      "**: David Starr, Space Ranger (ns: 0)                                                  PAGE ADDED\n",
      "**: The End of Eternity (ns: 0)                                                        PAGE ADDED\n",
      "**: Fantastic Voyage (novel) (ns: 0)                                                   PAGE ADDED\n",
      "**: Fantastic Voyage II: Destination Brain (ns: 0)                                     PAGE ADDED\n",
      "**: Forward the Foundation (ns: 0)                                                     PAGE ADDED\n",
      "**: Foundation (Asimov novel) (ns: 0)                                                  PAGE ADDED\n",
      "**: Foundation and Earth (ns: 0)                                                       PAGE ADDED\n",
      "**: Foundation and Empire (ns: 0)                                                      PAGE ADDED\n",
      "**: Foundation's Edge (ns: 0)                                                          PAGE ADDED\n",
      "**: The Gods Themselves (ns: 0)                                                        PAGE ADDED\n",
      "**: Lucky Starr and the Big Sun of Mercury (ns: 0)                                     PAGE ADDED\n",
      "**: Lucky Starr and the Moons of Jupiter (ns: 0)                                       PAGE ADDED\n",
      "**: Lucky Starr and the Oceans of Venus (ns: 0)                                        PAGE ADDED\n",
      "**: Lucky Starr and the Pirates of the Asteroids (ns: 0)                               PAGE ADDED\n",
      "**: Lucky Starr and the Rings of Saturn (ns: 0)                                        PAGE ADDED\n",
      "**: Lucky Starr series (ns: 0)                                                         PAGE ADDED\n",
      "**: The Naked Sun (ns: 0)                                                              PAGE ADDED\n",
      "**: Nemesis (Asimov novel) (ns: 0)                                                     PAGE ADDED\n",
      "**: Nightfall (Asimov novelette and novel) (ns: 0)                                     PAGE ADDED\n",
      "**: Norby, the Mixed-Up Robot (ns: 0)                                                  PAGE ADDED\n",
      "**: Pebble in the Sky (ns: 0)                                                          PAGE ADDED\n",
      "**: The Positronic Man (ns: 0)                                                         PAGE ADDED\n",
      "**: Prelude to Foundation (ns: 0)                                                      PAGE ADDED\n",
      "**: Robots and Empire (ns: 0)                                                          PAGE ADDED\n",
      "**: The Robots of Dawn (ns: 0)                                                         PAGE ADDED\n",
      "**: Second Foundation (ns: 0)                                                          PAGE ADDED\n",
      "**: The Stars, Like Dust (ns: 0)                                                       PAGE ADDED\n",
      "**: The Ugly Little Boy (ns: 0)                                                        PAGE ADDED\n"
     ]
    }
   ],
   "source": [
    "# cat = wiki_wiki.page(\"Category:Science fiction novels by writer\")\n",
    "cat = wiki_wiki.page(\"Category:Novels by Isaac Asimov\")\n",
    "pages = get_categorymembers(cat, max_level=1, verbose=True)"
   ]
  },
  {
   "cell_type": "code",
   "execution_count": 207,
   "metadata": {},
   "outputs": [
    {
     "data": {
      "text/plain": [
       "[The Caves of Steel (id: 60129, ns: 0),\n",
       " The Death Dealers (id: 1639433, ns: 0),\n",
       " Murder at the ABA (id: 1693075, ns: 0),\n",
       " The Naked Sun (id: 414331, ns: 0),\n",
       " The Robots of Dawn (id: 420130, ns: 0),\n",
       " The Caves of Steel (id: 60129, ns: 0),\n",
       " The Currents of Space (id: 474204, ns: 0),\n",
       " David Starr, Space Ranger (id: 1662948, ns: 0),\n",
       " The End of Eternity (id: 146188, ns: 0),\n",
       " Fantastic Voyage (id: 58377079, ns: 0),\n",
       " Fantastic Voyage II: Destination Brain (id: 1139964, ns: 0),\n",
       " Forward the Foundation (id: 371532, ns: 0),\n",
       " Foundation (Asimov novel) (id: 309409, ns: 0),\n",
       " Foundation and Earth (id: 60131, ns: 0),\n",
       " Foundation and Empire (id: 331675, ns: 0),\n",
       " Foundation's Edge (id: 60128, ns: 0),\n",
       " The Gods Themselves (id: 301587, ns: 0),\n",
       " Lucky Starr and the Big Sun of Mercury (id: 1664759, ns: 0),\n",
       " Lucky Starr and the Moons of Jupiter (id: 1664760, ns: 0),\n",
       " Lucky Starr and the Oceans of Venus (id: 1664763, ns: 0),\n",
       " Lucky Starr and the Pirates of the Asteroids (id: 1664765, ns: 0),\n",
       " Lucky Starr and the Rings of Saturn (id: 1664764, ns: 0),\n",
       " Lucky Starr series (id: 1664521, ns: 0),\n",
       " The Naked Sun (id: 414331, ns: 0),\n",
       " Nemesis (Asimov novel) (id: 102516, ns: 0),\n",
       " Nightfall (Asimov novelette and novel) (id: 677813, ns: 0),\n",
       " Norby, the Mixed-Up Robot (id: 823814, ns: 0),\n",
       " Pebble in the Sky (id: 193041, ns: 0),\n",
       " The Positronic Man (id: 472097, ns: 0),\n",
       " Prelude to Foundation (id: 60130, ns: 0),\n",
       " Robots and Empire (id: 309408, ns: 0),\n",
       " The Robots of Dawn (id: 420130, ns: 0),\n",
       " Second Foundation (id: 309433, ns: 0),\n",
       " The Stars, Like Dust (id: 453404, ns: 0),\n",
       " The Ugly Little Boy (id: 512677, ns: 0)]"
      ]
     },
     "execution_count": 207,
     "metadata": {},
     "output_type": "execute_result"
    }
   ],
   "source": [
    "pages"
   ]
  },
  {
   "cell_type": "code",
   "execution_count": 291,
   "metadata": {},
   "outputs": [
    {
     "name": "stdout",
     "output_type": "stream",
     "text": [
      "Plot introduction True\n",
      "Plot summary True\n",
      "Characters True\n",
      "Reception False\n",
      "Adaptations False\n",
      "References False\n",
      "External links False\n",
      "Plot summary True\n",
      "Background science True\n",
      "Characters True\n",
      "External links False\n",
      "Origins True\n",
      "Plot outline True\n",
      "Characters True\n",
      "See also False\n",
      "References and links False\n",
      "External links False\n",
      "Plot True\n",
      "Reception False\n",
      "Adaptations False\n",
      "References False\n",
      "External links False\n",
      "Plot summary True\n",
      "Characters True\n",
      "References False\n",
      "External links False\n",
      "Plot introduction True\n",
      "Plot summary True\n",
      "Characters True\n",
      "Reception False\n",
      "Adaptations False\n",
      "References False\n",
      "External links False\n",
      "Plot summary True\n",
      "Reception False\n",
      "Footnotes False\n",
      "Sources False\n",
      "External links False\n",
      "Plot summary True\n",
      "Themes True\n",
      "Reception False\n",
      "References False\n",
      "External links False\n",
      "Plot True\n",
      "Concepts True\n",
      "Major characters True\n",
      "Origins True\n",
      "Reception False\n",
      "Role in Foundation series False\n",
      "Translations False\n",
      "Movie adaptations False\n",
      "References False\n",
      "Sources False\n",
      "External links False\n",
      "Plot True\n",
      "Cast False\n",
      "Production False\n",
      "Biological issues and accuracy False\n",
      "Music False\n",
      "Reception False\n",
      "Novelization False\n",
      "Later adaptations False\n",
      "Similarly-themed works True\n",
      "Cancelled sequel/remake plans False\n",
      "See also False\n",
      "References False\n",
      "External links False\n",
      "Conception True\n",
      "Plot True\n",
      "Reception False\n",
      "References False\n",
      "External links False\n",
      "Plot True\n",
      "References False\n",
      "External links False\n",
      "Origin and early publication history True\n",
      "Background True\n",
      "Plot summary True\n",
      "Characters True\n",
      "Reception False\n",
      "See also False\n",
      "References False\n",
      "External links False\n",
      "Plot introduction True\n",
      "Plot summary True\n",
      "Unwritten sequel False\n",
      "Further notes False\n",
      "References False\n",
      "External links False\n",
      "Plot summary True\n",
      "Reception False\n",
      "Characters True\n",
      "Sequels False\n",
      "References False\n",
      "Sources False\n",
      "External links False\n",
      "Plot summary True\n",
      "See also False\n",
      "References False\n",
      "External links False\n",
      "Plot summary True\n",
      "Asimov's relationship to the story True\n",
      "References to science False\n",
      "References False\n",
      "External links False\n",
      "Setting False\n",
      "Plot summary True\n",
      "Themes True\n",
      "External links False\n",
      "Setting False\n",
      "Plot summary True\n",
      "Reception False\n",
      "Themes True\n",
      "References False\n",
      "External links False\n",
      "Setting False\n",
      "Plot summary True\n",
      "Themes True\n",
      "Reception False\n",
      "Adaptation False\n",
      "References False\n",
      "External links False\n",
      "Plot summary True\n",
      "Reception False\n",
      "Themes True\n",
      "References False\n",
      "External links False\n",
      "Setting False\n",
      "Plot summary True\n",
      "Themes True\n",
      "References False\n",
      "External links False\n",
      "Publishing history True\n",
      "Science content False\n",
      "References False\n",
      "Further reading False\n",
      "External links False\n",
      "Plot True\n",
      "Reception False\n",
      "Adaptations False\n",
      "References False\n",
      "External links False\n",
      "Plot summary True\n",
      "Story notes True\n",
      "Major characters True\n",
      "References False\n",
      "External links False\n",
      "Background True\n",
      "Plot summary True\n",
      "Setting False\n",
      "Adaptations in other media False\n",
      "See also False\n",
      "References False\n",
      "Further reading False\n",
      "External links False\n",
      "Plot summary True\n",
      "Audio Version False\n",
      "Publication history True\n",
      "Story background True\n",
      "Plot summary True\n",
      "Reception False\n",
      "Place in the wider Foundation saga False\n",
      "Other media False\n",
      "References False\n",
      "External links False\n",
      "Plot summary True\n",
      "Foundation universe False\n",
      "References False\n",
      "External links False\n",
      "Plot summary True\n",
      "Characters True\n",
      "Influences False\n",
      "References False\n",
      "External links False\n",
      "Plot summary True\n",
      "Novel False\n",
      "References False\n",
      "External links False\n",
      "Plot summary True\n",
      "Characters True\n",
      "References False\n",
      "External links False\n",
      "Plot summary True\n",
      "Reception False\n",
      "The organization False\n",
      "References False\n",
      "Sources False\n",
      "External links False\n",
      "Publication history True\n",
      "Context False\n",
      "Plot True\n",
      "Reception False\n",
      "References False\n",
      "External links False\n",
      "Plot summary True\n",
      "Television adaptation False\n",
      "Novelization False\n",
      "Critical View False\n",
      "Original ending True\n",
      "See also False\n",
      "References False\n",
      "External links False\n"
     ]
    }
   ],
   "source": [
    "# [[pages[j].sections[i].title for i in range(len(pages[j].sections))] for j in range(len(pages))]\n",
    "def check_section_title(title):\n",
    "    return bool(re.search('plot|character|summary|topic|theme|summari|background|origin|introduction|concept|story|symbol', title.lower()))\n",
    "                \n",
    "# [list(filter(check_section_title, [pages[j].sections[i].title for i in range(len(pages[j].sections))])) for j in range(len(pages))]\n",
    "\n",
    "for p in pages:\n",
    "    for s in p.sections:\n",
    "        print(s.title, check_section_title(s.title))"
   ]
  },
  {
   "cell_type": "code",
   "execution_count": 278,
   "metadata": {},
   "outputs": [
    {
     "name": "stdout",
     "output_type": "stream",
     "text": [
      "yes!\n"
     ]
    }
   ],
   "source": [
    "if re.search('plot|test|car', 'asdplcaroestcrs'.lower()):\n",
    "    print('yes!')"
   ]
  },
  {
   "cell_type": "code",
   "execution_count": 150,
   "metadata": {},
   "outputs": [],
   "source": [
    "import re\n",
    "import nltk\n",
    "import gensim\n",
    "from nltk.corpus import stopwords\n",
    "from nltk import word_tokenize\n",
    "from gensim.parsing.preprocessing import STOPWORDS\n",
    "from gensim import models, corpora\n",
    "from pprint import pprint\n",
    "\n",
    "# nltk.download('all')"
   ]
  },
  {
   "cell_type": "code",
   "execution_count": 151,
   "metadata": {},
   "outputs": [
    {
     "name": "stdout",
     "output_type": "stream",
     "text": [
      "211\n",
      "53\n"
     ]
    }
   ],
   "source": [
    "print(len(set(STOPWORDS) - set(stopwords.words('english'))))\n",
    "print(len(set(stopwords.words('english')) - set(STOPWORDS)))"
   ]
  },
  {
   "cell_type": "code",
   "execution_count": 152,
   "metadata": {},
   "outputs": [
    {
     "name": "stdout",
     "output_type": "stream",
     "text": [
      "390\n"
     ]
    }
   ],
   "source": [
    "STOPWORDS_ALL = set(STOPWORDS).union(set(stopwords.words('english')))\n",
    "print(len(STOPWORDS_ALL))"
   ]
  },
  {
   "cell_type": "code",
   "execution_count": 318,
   "metadata": {},
   "outputs": [],
   "source": [
    "from nltk.corpus import wordnet as wn\n",
    "\n",
    "def get_lemma(word):\n",
    "    lemma = wn.morphy(word)\n",
    "    if lemma is None:\n",
    "        return word\n",
    "    else:\n",
    "        return lemma\n",
    "    \n",
    "from nltk.stem import WordNetLemmatizer \n",
    "  \n",
    "lemmatizer = WordNetLemmatizer() \n",
    "    \n",
    "def clean_text(text):\n",
    "    tokens = word_tokenize(text.lower())\n",
    "    clean_tokens = [t for t in tokens if (\n",
    "        t not in STOPWORDS_ALL and\n",
    "        len(t) > 2)]\n",
    "#         re.match('[a-zA-Z\\-]{3,}', t)\n",
    "#         re.match('[a-zA-Z\\-][a-zA-Z\\-]{2,}', t)\n",
    "#     )]\n",
    "    token_lemmas = [get_lemma(token) for token in clean_tokens]\n",
    "    return token_lemmas\n",
    "\n",
    "def select_and_clean_text(page):\n",
    "    tokens = []\n",
    "    for section in page.sections:\n",
    "        if check_section_title(section.title):\n",
    "            tokens += clean_text(section.text)\n",
    "    return tokens"
   ]
  },
  {
   "cell_type": "code",
   "execution_count": 329,
   "metadata": {},
   "outputs": [
    {
     "name": "stdout",
     "output_type": "stream",
     "text": [
      "['cave', 'steel', 'science', 'fiction', 'novel', 'american', 'writer', 'isaac', 'asimov', 'detective']\n",
      "['novel', 'isaac', 'asimov', 'introduce', 'elijah', 'baley', 'daneel', 'olivaw', 'later', 'favorite']\n"
     ]
    }
   ],
   "source": [
    "print(clean_text(pages[0].text)[:10])\n",
    "\n",
    "# print(pages[0].text)\n",
    "# print(pages[0].sections[0])\n",
    "print(select_and_clean_text(pages[0])[:10])"
   ]
  },
  {
   "cell_type": "code",
   "execution_count": 174,
   "metadata": {},
   "outputs": [
    {
     "name": "stdout",
     "output_type": "stream",
     "text": [
      "['rock', 'corpus', 'better', 'asdasdasd']\n",
      "['rock', 'corpus', 'better', None]\n",
      "['rock', 'corpus', 'better', 'asdasdasd']\n"
     ]
    }
   ],
   "source": [
    "print([lemmatizer.lemmatize(s) for s in ['rocks', 'corpora', 'better', 'asdasdasd']])\n",
    "print([wn.morphy(s) for s in ['rocks', 'corpora', 'better', 'asdasdasd']])\n",
    "print([get_lemma(s) for s in ['rocks', 'corpora', 'better', 'asdasdasd']])"
   ]
  },
  {
   "cell_type": "code",
   "execution_count": 337,
   "metadata": {},
   "outputs": [],
   "source": [
    "tokenized_data = []\n",
    "for p in pages:\n",
    "    tokenized_data.append(select_and_clean_text(p))"
   ]
  },
  {
   "cell_type": "code",
   "execution_count": 338,
   "metadata": {},
   "outputs": [
    {
     "name": "stdout",
     "output_type": "stream",
     "text": [
      "[(54, 1), (59, 1)]\n"
     ]
    }
   ],
   "source": [
    "# Build a Dictionary - association word to numeric id\n",
    "id2word = corpora.Dictionary(tokenized_data)\n",
    " \n",
    "# Transform the collection of texts to a numerical form\n",
    "corpus = [id2word.doc2bow(text) for text in tokenized_data]\n",
    " \n",
    "# Have a look at how the 4th document looks like: [(word_id, count), ...]\n",
    "# (only the first 10 words)\n",
    "print(corpus[1][:2])"
   ]
  },
  {
   "cell_type": "code",
   "execution_count": 339,
   "metadata": {},
   "outputs": [
    {
     "name": "stdout",
     "output_type": "stream",
     "text": [
      "[(0, 1), (1, 1), (2, 1), (3, 1), (4, 1)]\n",
      "[\"'caves\", \"'how\", \"'olden\", \"'open\", \"'what\", '1950s', '1953', 'able', 'accept', 'accident', 'accidentally', 'accomplish', 'actually', 'advance', 'advice', 'ago', 'agoraphobia', 'agree', 'air', 'ambassador', 'answer', 'antagonism', 'anthony', 'anti-robot', 'apartment', 'appearance', 'arrest', 'asimov', 'asimovian', 'aspect', 'assign', 'astonishment', 'attribute', 'aurora', 'average', 'away', 'baley', 'barrett', 'begin', 'beginning', 'behaviour', 'belief', 'bentley', 'biblical', 'billion', 'birth', 'blaster', 'block', 'book', 'brain', 'bring', 'call', 'campbell', 'capable', 'case', 'cause', 'cave', 'central', 'character', 'charge', 'chest', 'city', 'claustrophile', 'clear', 'close', 'clousarr', 'colonization', 'colonize', 'colonized—fifty', 'come', 'comfortably', 'commissioner', 'complex', 'concert', 'connect', 'consider', 'continue', 'convert', 'convince', 'cooperation', 'countenance', 'cover', 'create', 'crime', 'culture', 'curiosity', 'daneel', 'day', 'days', 'dealing', 'death', 'deem', 'deliberately', 'demonstrate', 'density', 'department', 'describe', 'destroy', 'destruction', 'detect']\n"
     ]
    }
   ],
   "source": [
    "print(id2word.doc2bow(tokenized_data[0])[:5])\n",
    "print([id2word[i] for i in range(100)])"
   ]
  },
  {
   "cell_type": "code",
   "execution_count": 340,
   "metadata": {
    "scrolled": true
   },
   "outputs": [
    {
     "name": "stderr",
     "output_type": "stream",
     "text": [
      "/Users/adrienbolens/miniconda3/envs/nlp-env/lib/python3.7/site-packages/gensim/models/ldamodel.py:826: DeprecationWarning: Calling np.sum(generator) is deprecated, and in the future will give a different result. Use np.sum(np.fromiter(generator)) or the python sum builtin instead.\n",
      "  score += np.sum(cnt * logsumexp(Elogthetad + Elogbeta[:, int(id)]) for id, cnt in doc)\n",
      "/Users/adrienbolens/miniconda3/envs/nlp-env/lib/python3.7/site-packages/gensim/models/ldamodel.py:826: DeprecationWarning: Calling np.sum(generator) is deprecated, and in the future will give a different result. Use np.sum(np.fromiter(generator)) or the python sum builtin instead.\n",
      "  score += np.sum(cnt * logsumexp(Elogthetad + Elogbeta[:, int(id)]) for id, cnt in doc)\n",
      "/Users/adrienbolens/miniconda3/envs/nlp-env/lib/python3.7/site-packages/gensim/models/ldamodel.py:826: DeprecationWarning: Calling np.sum(generator) is deprecated, and in the future will give a different result. Use np.sum(np.fromiter(generator)) or the python sum builtin instead.\n",
      "  score += np.sum(cnt * logsumexp(Elogthetad + Elogbeta[:, int(id)]) for id, cnt in doc)\n",
      "/Users/adrienbolens/miniconda3/envs/nlp-env/lib/python3.7/site-packages/gensim/models/ldamodel.py:826: DeprecationWarning: Calling np.sum(generator) is deprecated, and in the future will give a different result. Use np.sum(np.fromiter(generator)) or the python sum builtin instead.\n",
      "  score += np.sum(cnt * logsumexp(Elogthetad + Elogbeta[:, int(id)]) for id, cnt in doc)\n",
      "/Users/adrienbolens/miniconda3/envs/nlp-env/lib/python3.7/site-packages/gensim/models/ldamodel.py:826: DeprecationWarning: Calling np.sum(generator) is deprecated, and in the future will give a different result. Use np.sum(np.fromiter(generator)) or the python sum builtin instead.\n",
      "  score += np.sum(cnt * logsumexp(Elogthetad + Elogbeta[:, int(id)]) for id, cnt in doc)\n",
      "/Users/adrienbolens/miniconda3/envs/nlp-env/lib/python3.7/site-packages/gensim/models/ldamodel.py:826: DeprecationWarning: Calling np.sum(generator) is deprecated, and in the future will give a different result. Use np.sum(np.fromiter(generator)) or the python sum builtin instead.\n",
      "  score += np.sum(cnt * logsumexp(Elogthetad + Elogbeta[:, int(id)]) for id, cnt in doc)\n",
      "/Users/adrienbolens/miniconda3/envs/nlp-env/lib/python3.7/site-packages/gensim/models/ldamodel.py:826: DeprecationWarning: Calling np.sum(generator) is deprecated, and in the future will give a different result. Use np.sum(np.fromiter(generator)) or the python sum builtin instead.\n",
      "  score += np.sum(cnt * logsumexp(Elogthetad + Elogbeta[:, int(id)]) for id, cnt in doc)\n",
      "/Users/adrienbolens/miniconda3/envs/nlp-env/lib/python3.7/site-packages/gensim/models/ldamodel.py:826: DeprecationWarning: Calling np.sum(generator) is deprecated, and in the future will give a different result. Use np.sum(np.fromiter(generator)) or the python sum builtin instead.\n",
      "  score += np.sum(cnt * logsumexp(Elogthetad + Elogbeta[:, int(id)]) for id, cnt in doc)\n",
      "/Users/adrienbolens/miniconda3/envs/nlp-env/lib/python3.7/site-packages/gensim/models/ldamodel.py:826: DeprecationWarning: Calling np.sum(generator) is deprecated, and in the future will give a different result. Use np.sum(np.fromiter(generator)) or the python sum builtin instead.\n",
      "  score += np.sum(cnt * logsumexp(Elogthetad + Elogbeta[:, int(id)]) for id, cnt in doc)\n",
      "/Users/adrienbolens/miniconda3/envs/nlp-env/lib/python3.7/site-packages/gensim/models/ldamodel.py:826: DeprecationWarning: Calling np.sum(generator) is deprecated, and in the future will give a different result. Use np.sum(np.fromiter(generator)) or the python sum builtin instead.\n",
      "  score += np.sum(cnt * logsumexp(Elogthetad + Elogbeta[:, int(id)]) for id, cnt in doc)\n",
      "/Users/adrienbolens/miniconda3/envs/nlp-env/lib/python3.7/site-packages/gensim/models/ldamodel.py:826: DeprecationWarning: Calling np.sum(generator) is deprecated, and in the future will give a different result. Use np.sum(np.fromiter(generator)) or the python sum builtin instead.\n",
      "  score += np.sum(cnt * logsumexp(Elogthetad + Elogbeta[:, int(id)]) for id, cnt in doc)\n",
      "/Users/adrienbolens/miniconda3/envs/nlp-env/lib/python3.7/site-packages/gensim/models/ldamodel.py:826: DeprecationWarning: Calling np.sum(generator) is deprecated, and in the future will give a different result. Use np.sum(np.fromiter(generator)) or the python sum builtin instead.\n",
      "  score += np.sum(cnt * logsumexp(Elogthetad + Elogbeta[:, int(id)]) for id, cnt in doc)\n",
      "/Users/adrienbolens/miniconda3/envs/nlp-env/lib/python3.7/site-packages/gensim/models/ldamodel.py:826: DeprecationWarning: Calling np.sum(generator) is deprecated, and in the future will give a different result. Use np.sum(np.fromiter(generator)) or the python sum builtin instead.\n",
      "  score += np.sum(cnt * logsumexp(Elogthetad + Elogbeta[:, int(id)]) for id, cnt in doc)\n",
      "/Users/adrienbolens/miniconda3/envs/nlp-env/lib/python3.7/site-packages/gensim/models/ldamodel.py:826: DeprecationWarning: Calling np.sum(generator) is deprecated, and in the future will give a different result. Use np.sum(np.fromiter(generator)) or the python sum builtin instead.\n",
      "  score += np.sum(cnt * logsumexp(Elogthetad + Elogbeta[:, int(id)]) for id, cnt in doc)\n",
      "/Users/adrienbolens/miniconda3/envs/nlp-env/lib/python3.7/site-packages/gensim/models/ldamodel.py:826: DeprecationWarning: Calling np.sum(generator) is deprecated, and in the future will give a different result. Use np.sum(np.fromiter(generator)) or the python sum builtin instead.\n",
      "  score += np.sum(cnt * logsumexp(Elogthetad + Elogbeta[:, int(id)]) for id, cnt in doc)\n",
      "/Users/adrienbolens/miniconda3/envs/nlp-env/lib/python3.7/site-packages/gensim/models/ldamodel.py:826: DeprecationWarning: Calling np.sum(generator) is deprecated, and in the future will give a different result. Use np.sum(np.fromiter(generator)) or the python sum builtin instead.\n",
      "  score += np.sum(cnt * logsumexp(Elogthetad + Elogbeta[:, int(id)]) for id, cnt in doc)\n",
      "/Users/adrienbolens/miniconda3/envs/nlp-env/lib/python3.7/site-packages/gensim/models/ldamodel.py:826: DeprecationWarning: Calling np.sum(generator) is deprecated, and in the future will give a different result. Use np.sum(np.fromiter(generator)) or the python sum builtin instead.\n",
      "  score += np.sum(cnt * logsumexp(Elogthetad + Elogbeta[:, int(id)]) for id, cnt in doc)\n",
      "/Users/adrienbolens/miniconda3/envs/nlp-env/lib/python3.7/site-packages/gensim/models/ldamodel.py:826: DeprecationWarning: Calling np.sum(generator) is deprecated, and in the future will give a different result. Use np.sum(np.fromiter(generator)) or the python sum builtin instead.\n",
      "  score += np.sum(cnt * logsumexp(Elogthetad + Elogbeta[:, int(id)]) for id, cnt in doc)\n",
      "/Users/adrienbolens/miniconda3/envs/nlp-env/lib/python3.7/site-packages/gensim/models/ldamodel.py:826: DeprecationWarning: Calling np.sum(generator) is deprecated, and in the future will give a different result. Use np.sum(np.fromiter(generator)) or the python sum builtin instead.\n",
      "  score += np.sum(cnt * logsumexp(Elogthetad + Elogbeta[:, int(id)]) for id, cnt in doc)\n",
      "/Users/adrienbolens/miniconda3/envs/nlp-env/lib/python3.7/site-packages/gensim/models/ldamodel.py:826: DeprecationWarning: Calling np.sum(generator) is deprecated, and in the future will give a different result. Use np.sum(np.fromiter(generator)) or the python sum builtin instead.\n",
      "  score += np.sum(cnt * logsumexp(Elogthetad + Elogbeta[:, int(id)]) for id, cnt in doc)\n",
      "/Users/adrienbolens/miniconda3/envs/nlp-env/lib/python3.7/site-packages/gensim/models/ldamodel.py:826: DeprecationWarning: Calling np.sum(generator) is deprecated, and in the future will give a different result. Use np.sum(np.fromiter(generator)) or the python sum builtin instead.\n",
      "  score += np.sum(cnt * logsumexp(Elogthetad + Elogbeta[:, int(id)]) for id, cnt in doc)\n",
      "/Users/adrienbolens/miniconda3/envs/nlp-env/lib/python3.7/site-packages/gensim/models/ldamodel.py:826: DeprecationWarning: Calling np.sum(generator) is deprecated, and in the future will give a different result. Use np.sum(np.fromiter(generator)) or the python sum builtin instead.\n",
      "  score += np.sum(cnt * logsumexp(Elogthetad + Elogbeta[:, int(id)]) for id, cnt in doc)\n",
      "/Users/adrienbolens/miniconda3/envs/nlp-env/lib/python3.7/site-packages/gensim/models/ldamodel.py:826: DeprecationWarning: Calling np.sum(generator) is deprecated, and in the future will give a different result. Use np.sum(np.fromiter(generator)) or the python sum builtin instead.\n",
      "  score += np.sum(cnt * logsumexp(Elogthetad + Elogbeta[:, int(id)]) for id, cnt in doc)\n",
      "/Users/adrienbolens/miniconda3/envs/nlp-env/lib/python3.7/site-packages/gensim/models/ldamodel.py:826: DeprecationWarning: Calling np.sum(generator) is deprecated, and in the future will give a different result. Use np.sum(np.fromiter(generator)) or the python sum builtin instead.\n",
      "  score += np.sum(cnt * logsumexp(Elogthetad + Elogbeta[:, int(id)]) for id, cnt in doc)\n",
      "/Users/adrienbolens/miniconda3/envs/nlp-env/lib/python3.7/site-packages/gensim/models/ldamodel.py:826: DeprecationWarning: Calling np.sum(generator) is deprecated, and in the future will give a different result. Use np.sum(np.fromiter(generator)) or the python sum builtin instead.\n",
      "  score += np.sum(cnt * logsumexp(Elogthetad + Elogbeta[:, int(id)]) for id, cnt in doc)\n",
      "/Users/adrienbolens/miniconda3/envs/nlp-env/lib/python3.7/site-packages/gensim/models/ldamodel.py:826: DeprecationWarning: Calling np.sum(generator) is deprecated, and in the future will give a different result. Use np.sum(np.fromiter(generator)) or the python sum builtin instead.\n",
      "  score += np.sum(cnt * logsumexp(Elogthetad + Elogbeta[:, int(id)]) for id, cnt in doc)\n",
      "/Users/adrienbolens/miniconda3/envs/nlp-env/lib/python3.7/site-packages/gensim/models/ldamodel.py:826: DeprecationWarning: Calling np.sum(generator) is deprecated, and in the future will give a different result. Use np.sum(np.fromiter(generator)) or the python sum builtin instead.\n",
      "  score += np.sum(cnt * logsumexp(Elogthetad + Elogbeta[:, int(id)]) for id, cnt in doc)\n",
      "/Users/adrienbolens/miniconda3/envs/nlp-env/lib/python3.7/site-packages/gensim/models/ldamodel.py:826: DeprecationWarning: Calling np.sum(generator) is deprecated, and in the future will give a different result. Use np.sum(np.fromiter(generator)) or the python sum builtin instead.\n",
      "  score += np.sum(cnt * logsumexp(Elogthetad + Elogbeta[:, int(id)]) for id, cnt in doc)\n",
      "/Users/adrienbolens/miniconda3/envs/nlp-env/lib/python3.7/site-packages/gensim/models/ldamodel.py:826: DeprecationWarning: Calling np.sum(generator) is deprecated, and in the future will give a different result. Use np.sum(np.fromiter(generator)) or the python sum builtin instead.\n",
      "  score += np.sum(cnt * logsumexp(Elogthetad + Elogbeta[:, int(id)]) for id, cnt in doc)\n",
      "/Users/adrienbolens/miniconda3/envs/nlp-env/lib/python3.7/site-packages/gensim/models/ldamodel.py:826: DeprecationWarning: Calling np.sum(generator) is deprecated, and in the future will give a different result. Use np.sum(np.fromiter(generator)) or the python sum builtin instead.\n",
      "  score += np.sum(cnt * logsumexp(Elogthetad + Elogbeta[:, int(id)]) for id, cnt in doc)\n",
      "/Users/adrienbolens/miniconda3/envs/nlp-env/lib/python3.7/site-packages/gensim/models/ldamodel.py:826: DeprecationWarning: Calling np.sum(generator) is deprecated, and in the future will give a different result. Use np.sum(np.fromiter(generator)) or the python sum builtin instead.\n",
      "  score += np.sum(cnt * logsumexp(Elogthetad + Elogbeta[:, int(id)]) for id, cnt in doc)\n",
      "/Users/adrienbolens/miniconda3/envs/nlp-env/lib/python3.7/site-packages/gensim/models/ldamodel.py:826: DeprecationWarning: Calling np.sum(generator) is deprecated, and in the future will give a different result. Use np.sum(np.fromiter(generator)) or the python sum builtin instead.\n",
      "  score += np.sum(cnt * logsumexp(Elogthetad + Elogbeta[:, int(id)]) for id, cnt in doc)\n",
      "/Users/adrienbolens/miniconda3/envs/nlp-env/lib/python3.7/site-packages/gensim/models/ldamodel.py:826: DeprecationWarning: Calling np.sum(generator) is deprecated, and in the future will give a different result. Use np.sum(np.fromiter(generator)) or the python sum builtin instead.\n",
      "  score += np.sum(cnt * logsumexp(Elogthetad + Elogbeta[:, int(id)]) for id, cnt in doc)\n",
      "/Users/adrienbolens/miniconda3/envs/nlp-env/lib/python3.7/site-packages/gensim/models/ldamodel.py:826: DeprecationWarning: Calling np.sum(generator) is deprecated, and in the future will give a different result. Use np.sum(np.fromiter(generator)) or the python sum builtin instead.\n",
      "  score += np.sum(cnt * logsumexp(Elogthetad + Elogbeta[:, int(id)]) for id, cnt in doc)\n",
      "/Users/adrienbolens/miniconda3/envs/nlp-env/lib/python3.7/site-packages/gensim/models/ldamodel.py:826: DeprecationWarning: Calling np.sum(generator) is deprecated, and in the future will give a different result. Use np.sum(np.fromiter(generator)) or the python sum builtin instead.\n",
      "  score += np.sum(cnt * logsumexp(Elogthetad + Elogbeta[:, int(id)]) for id, cnt in doc)\n"
     ]
    }
   ],
   "source": [
    "NUM_TOPICS = 3\n",
    "\n",
    "# Build the LDA model\n",
    "lda_model = models.LdaModel(corpus=corpus, num_topics=NUM_TOPICS, id2word=id2word)\n",
    " \n",
    "# Build the LSI model\n",
    "# lsi_model = models.LsiModel(corpus=corpus, num_topics=NUM_TOPICS, id2word=id2word)"
   ]
  },
  {
   "cell_type": "code",
   "execution_count": 341,
   "metadata": {},
   "outputs": [
    {
     "name": "stdout",
     "output_type": "stream",
     "text": [
      "[(1, 0.9975588)]\n"
     ]
    }
   ],
   "source": [
    "text = tokenized_data[1]\n",
    "bow = id2word.doc2bow(text)\n",
    " \n",
    "# print(lsi_model[bow])\n",
    "print(lda_model[bow])"
   ]
  },
  {
   "cell_type": "code",
   "execution_count": 342,
   "metadata": {
    "scrolled": true
   },
   "outputs": [
    {
     "name": "stdout",
     "output_type": "stream",
     "text": [
      "LDA Model:\n",
      "[(0,\n",
      "  '0.011*\"robot\" + 0.011*\"baley\" + 0.010*\"earth\" + 0.009*\"starr\" + '\n",
      "  '0.007*\"asimov\" + 0.005*\"novel\" + 0.004*\"story\" + 0.004*\"daneel\" + '\n",
      "  '0.004*\"seldon\" + 0.004*\"gladia\"'),\n",
      " (1,\n",
      "  '0.009*\"starr\" + 0.007*\"robot\" + 0.007*\"baley\" + 0.005*\"asimov\" + '\n",
      "  '0.005*\"novel\" + 0.005*\"earth\" + 0.004*\"time\" + 0.004*\"book\" + '\n",
      "  '0.004*\"planet\" + 0.003*\"story\"'),\n",
      " (2,\n",
      "  '0.011*\"starr\" + 0.007*\"earth\" + 0.006*\"robot\" + 0.006*\"asimov\" + '\n",
      "  '0.005*\"foundation\" + 0.005*\"novel\" + 0.005*\"baley\" + 0.004*\"bigman\" + '\n",
      "  '0.004*\"time\" + 0.004*\"story\"')]\n",
      "====================\n",
      "LSI Model:\n",
      "[(0,\n",
      "  '0.354*\"foundation\" + 0.297*\"asimov\" + 0.255*\"novel\" + 0.192*\"robot\" + '\n",
      "  '0.189*\"earth\" + 0.170*\"story\" + 0.158*\"series\" + 0.157*\"empire\" + '\n",
      "  '0.153*\"book\" + 0.144*\"fiction\"'),\n",
      " (1,\n",
      "  '0.588*\"foundation\" + -0.252*\"baley\" + -0.230*\"robot\" + -0.176*\"starr\" + '\n",
      "  '0.163*\"seldon\" + 0.157*\"second\" + -0.143*\"novel\" + 0.141*\"mule\" + '\n",
      "  '-0.133*\"earth\" + 0.132*\"hardin\"'),\n",
      " (2,\n",
      "  '-0.489*\"starr\" + 0.380*\"baley\" + 0.266*\"robot\" + 0.166*\"daneel\" + '\n",
      "  '0.159*\"fastolfe\" + -0.148*\"novel\" + -0.146*\"lucky\" + 0.146*\"amadiro\" + '\n",
      "  '0.133*\"gladia\" + -0.124*\"bigman\"')]\n",
      "====================\n"
     ]
    }
   ],
   "source": [
    "print(\"LDA Model:\")\n",
    "\n",
    "# Print the Keyword in all topics\n",
    "\n",
    "pprint(lda_model.print_topics())\n",
    "doc_lda = lda_model[corpus]\n",
    "\n",
    "print(\"=\" * 20)\n",
    " \n",
    "print(\"LSI Model:\")\n",
    " \n",
    "pprint(lsi_model.print_topics())\n",
    "doc_lsi = lsi_model[corpus]\n",
    "    \n",
    "print(\"=\" * 20)"
   ]
  },
  {
   "cell_type": "code",
   "execution_count": 343,
   "metadata": {},
   "outputs": [
    {
     "data": {
      "text/plain": [
       "<gensim.interfaces.TransformedCorpus at 0x1a2e4e0a50>"
      ]
     },
     "execution_count": 343,
     "metadata": {},
     "output_type": "execute_result"
    }
   ],
   "source": [
    "doc_lda"
   ]
  },
  {
   "cell_type": "code",
   "execution_count": 344,
   "metadata": {},
   "outputs": [
    {
     "name": "stdout",
     "output_type": "stream",
     "text": [
      "[(1, 1.0), (10, 1.0), (22, 1.0), (33, 1.0), (14, 0.57735026), (32, 0.57735026), (8, 0.32445747), (16, 0.30843654), (6, 0.08668428), (13, 0.011009008), (0, 0.0), (2, 0.0), (3, 0.0), (4, 0.0), (5, 0.0), (7, 0.0), (9, 0.0), (11, 0.0), (12, 0.0), (15, 0.0), (17, 0.0), (18, 0.0), (19, 0.0), (20, 0.0), (21, 0.0), (23, 0.0), (24, 0.0), (25, 0.0), (26, 0.0), (27, 0.0), (28, 0.0), (29, 0.0), (30, 0.0), (31, 0.0), (34, 0.0)]\n"
     ]
    }
   ],
   "source": [
    "from gensim import similarities\n",
    " \n",
    "# basically the calculate the cosine of a given vector with the vectors in lda_model[corpus]\n",
    "lda_index = similarities.MatrixSimilarity(lda_model[corpus])\n",
    " \n",
    "# Let's perform some queries\n",
    "similarities = lda_index[lda_model[bow]]\n",
    "# Sort the similarities\n",
    "similarities = sorted(enumerate(similarities), key=lambda item: -item[1])\n",
    " \n",
    "# Top most similar documents:\n",
    "print(similarities)\n",
    "# It should be itself...\n",
    "\n",
    "\n",
    "# Let's see what's the most similar document\n",
    "document_id, similarity = similarities[0]\n",
    "# print(pages[document_id].text[:1000])\n",
    " "
   ]
  },
  {
   "cell_type": "code",
   "execution_count": 345,
   "metadata": {
    "scrolled": false
   },
   "outputs": [
    {
     "name": "stderr",
     "output_type": "stream",
     "text": [
      "/Users/adrienbolens/miniconda3/envs/nlp-env/lib/python3.7/site-packages/pyLDAvis/_prepare.py:257: FutureWarning: Sorting because non-concatenation axis is not aligned. A future version\n",
      "of pandas will change to not sort by default.\n",
      "\n",
      "To accept the future behavior, pass 'sort=False'.\n",
      "\n",
      "To retain the current behavior and silence the warning, pass 'sort=True'.\n",
      "\n",
      "  return pd.concat([default_term_info] + list(topic_dfs))\n"
     ]
    },
    {
     "data": {
      "text/html": [
       "\n",
       "<link rel=\"stylesheet\" type=\"text/css\" href=\"https://cdn.rawgit.com/bmabey/pyLDAvis/files/ldavis.v1.0.0.css\">\n",
       "\n",
       "\n",
       "<div id=\"ldavis_el11139112246463696494268580\"></div>\n",
       "<script type=\"text/javascript\">\n",
       "\n",
       "var ldavis_el11139112246463696494268580_data = {\"mdsDat\": {\"x\": [-0.01343483187110797, 0.010406739370758067, 0.0030280925003499013], \"y\": [-0.0026809296481713355, -0.005981576679058828, 0.008662506327230163], \"topics\": [1, 2, 3], \"cluster\": [1, 1, 1], \"Freq\": [57.05914306640625, 32.867523193359375, 10.073331832885742]}, \"tinfo\": {\"Category\": [\"Default\", \"Default\", \"Default\", \"Default\", \"Default\", \"Default\", \"Default\", \"Default\", \"Default\", \"Default\", \"Default\", \"Default\", \"Default\", \"Default\", \"Default\", \"Default\", \"Default\", \"Default\", \"Default\", \"Default\", \"Default\", \"Default\", \"Default\", \"Default\", \"Default\", \"Default\", \"Default\", \"Default\", \"Default\", \"Default\", \"Topic1\", \"Topic1\", \"Topic1\", \"Topic1\", \"Topic1\", \"Topic1\", \"Topic1\", \"Topic1\", \"Topic1\", \"Topic1\", \"Topic1\", \"Topic1\", \"Topic1\", \"Topic1\", \"Topic1\", \"Topic1\", \"Topic1\", \"Topic1\", \"Topic1\", \"Topic1\", \"Topic1\", \"Topic1\", \"Topic1\", \"Topic1\", \"Topic1\", \"Topic1\", \"Topic1\", \"Topic1\", \"Topic1\", \"Topic1\", \"Topic1\", \"Topic1\", \"Topic1\", \"Topic1\", \"Topic1\", \"Topic1\", \"Topic1\", \"Topic1\", \"Topic1\", \"Topic1\", \"Topic1\", \"Topic1\", \"Topic1\", \"Topic1\", \"Topic1\", \"Topic1\", \"Topic1\", \"Topic1\", \"Topic1\", \"Topic1\", \"Topic1\", \"Topic1\", \"Topic1\", \"Topic1\", \"Topic1\", \"Topic1\", \"Topic1\", \"Topic1\", \"Topic1\", \"Topic1\", \"Topic1\", \"Topic1\", \"Topic1\", \"Topic1\", \"Topic1\", \"Topic1\", \"Topic1\", \"Topic2\", \"Topic2\", \"Topic2\", \"Topic2\", \"Topic2\", \"Topic2\", \"Topic2\", \"Topic2\", \"Topic2\", \"Topic2\", \"Topic2\", \"Topic2\", \"Topic2\", \"Topic2\", \"Topic2\", \"Topic2\", \"Topic2\", \"Topic2\", \"Topic2\", \"Topic2\", \"Topic2\", \"Topic2\", \"Topic2\", \"Topic2\", \"Topic2\", \"Topic2\", \"Topic2\", \"Topic2\", \"Topic2\", \"Topic2\", \"Topic2\", \"Topic2\", \"Topic2\", \"Topic2\", \"Topic2\", \"Topic2\", \"Topic2\", \"Topic2\", \"Topic2\", \"Topic2\", \"Topic2\", \"Topic2\", \"Topic2\", \"Topic2\", \"Topic2\", \"Topic2\", \"Topic2\", \"Topic2\", \"Topic2\", \"Topic2\", \"Topic2\", \"Topic2\", \"Topic2\", \"Topic2\", \"Topic2\", \"Topic2\", \"Topic2\", \"Topic2\", \"Topic2\", \"Topic2\", \"Topic2\", \"Topic2\", \"Topic2\", \"Topic2\", \"Topic2\", \"Topic2\", \"Topic2\", \"Topic2\", \"Topic2\", \"Topic2\", \"Topic2\", \"Topic2\", \"Topic2\", \"Topic2\", \"Topic2\", \"Topic2\", \"Topic2\", \"Topic2\", \"Topic3\", \"Topic3\", \"Topic3\", \"Topic3\", \"Topic3\", \"Topic3\", \"Topic3\", \"Topic3\", \"Topic3\", \"Topic3\", \"Topic3\", \"Topic3\", \"Topic3\", \"Topic3\", \"Topic3\", \"Topic3\", \"Topic3\", \"Topic3\", \"Topic3\", \"Topic3\", \"Topic3\", \"Topic3\", \"Topic3\", \"Topic3\", \"Topic3\", \"Topic3\", \"Topic3\", \"Topic3\", \"Topic3\", \"Topic3\", \"Topic3\", \"Topic3\", \"Topic3\", \"Topic3\", \"Topic3\", \"Topic3\", \"Topic3\", \"Topic3\", \"Topic3\", \"Topic3\", \"Topic3\", \"Topic3\", \"Topic3\", \"Topic3\", \"Topic3\", \"Topic3\", \"Topic3\", \"Topic3\", \"Topic3\", \"Topic3\", \"Topic3\", \"Topic3\", \"Topic3\", \"Topic3\", \"Topic3\", \"Topic3\", \"Topic3\", \"Topic3\", \"Topic3\", \"Topic3\", \"Topic3\", \"Topic3\", \"Topic3\", \"Topic3\", \"Topic3\", \"Topic3\", \"Topic3\", \"Topic3\", \"Topic3\", \"Topic3\", \"Topic3\", \"Topic3\", \"Topic3\", \"Topic3\"], \"Freq\": [127.0, 110.0, 119.0, 44.0, 62.0, 14.0, 45.0, 41.0, 84.0, 38.0, 31.0, 39.0, 41.0, 54.0, 22.0, 107.0, 42.0, 18.0, 29.0, 8.0, 22.0, 7.0, 36.0, 24.0, 11.0, 24.0, 27.0, 29.0, 37.0, 21.0, 14.794553756713867, 6.4503493309021, 9.857556343078613, 7.559946060180664, 7.407882213592529, 4.723264694213867, 11.678948402404785, 5.964719295501709, 6.794467926025391, 2.7078607082366943, 8.03436279296875, 3.3037474155426025, 3.2316625118255615, 3.4492812156677246, 7.949009895324707, 9.164420127868652, 4.777080535888672, 3.8742294311523438, 7.136810779571533, 8.356043815612793, 1.9229668378829956, 6.187101364135742, 3.9362668991088867, 13.173660278320312, 4.683465480804443, 1.9019898176193237, 1.8724604845046997, 5.446197032928467, 10.175185203552246, 1.869489312171936, 81.09445190429688, 9.908723831176758, 84.43128204345703, 27.617341995239258, 11.42348575592041, 71.29710388183594, 31.83861541748047, 17.291736602783203, 9.513604164123535, 14.730406761169434, 54.10136795043945, 26.090967178344727, 15.294875144958496, 29.324264526367188, 18.808732986450195, 24.871719360351562, 26.129438400268555, 67.9865493774414, 23.065200805664062, 18.074214935302734, 32.316680908203125, 24.532684326171875, 35.502288818359375, 14.921540260314941, 21.004127502441406, 14.327651977539062, 18.043123245239258, 21.650432586669922, 24.497533798217773, 19.28462791442871, 18.779857635498047, 16.115215301513672, 15.639398574829102, 20.28228759765625, 16.387306213378906, 19.321292877197266, 19.373939514160156, 1.9959304332733154, 1.1466102600097656, 1.1423033475875854, 3.3381104469299316, 2.6274783611297607, 3.631336212158203, 2.033799171447754, 1.5085551738739014, 3.5407183170318604, 1.522822618484497, 2.060979127883911, 1.508758783340454, 4.447222709655762, 0.9501732587814331, 1.9358594417572021, 1.4359155893325806, 5.440255165100098, 8.620058059692383, 1.9407798051834106, 0.9298907518386841, 1.249831199645996, 0.9228752255439758, 1.2346949577331543, 0.914204478263855, 0.9169946908950806, 0.9071327447891235, 0.9234151840209961, 0.9140137434005737, 1.5288844108581543, 7.754435062408447, 3.3837058544158936, 3.293471574783325, 2.1834893226623535, 13.908300399780273, 21.354442596435547, 5.146825790405273, 2.3516852855682373, 5.530637741088867, 3.009690999984741, 4.380756378173828, 18.4572696685791, 5.3468499183654785, 12.013187408447266, 48.15920639038086, 13.381247520446777, 18.048009872436523, 10.351066589355469, 5.779591083526611, 4.82830810546875, 6.9927659034729, 10.283222198486328, 6.090816020965576, 10.834081649780273, 20.35490608215332, 18.024797439575195, 29.45233726501465, 15.459186553955078, 11.193657875061035, 23.870880126953125, 12.6863431930542, 8.855999946594238, 11.216018676757812, 25.930028915405273, 13.842199325561523, 9.17457103729248, 7.972930908203125, 11.07404613494873, 7.418686389923096, 7.719534397125244, 20.30077362060547, 11.055802345275879, 10.800337791442871, 8.599611282348633, 11.164480209350586, 9.972593307495117, 10.41638469696045, 9.671578407287598, 8.951298713684082, 0.5176077485084534, 3.99178409576416, 1.9451754093170166, 0.8042013645172119, 0.795204758644104, 0.7971645593643188, 0.7836623191833496, 0.31366199254989624, 0.3089456558227539, 0.30764269828796387, 1.3518010377883911, 0.4452860653400421, 0.29734930396080017, 0.29703354835510254, 0.7290375232696533, 0.5835223197937012, 0.2943885326385498, 0.43612784147262573, 1.3590240478515625, 0.29209598898887634, 2.013972759246826, 0.28953197598457336, 0.43069928884506226, 0.2866552770137787, 0.7076722979545593, 0.2836471498012543, 0.28685620427131653, 0.28220778703689575, 0.28144797682762146, 0.2859622836112976, 0.722278356552124, 0.7128493785858154, 0.5525877475738525, 0.5673441290855408, 2.1774723529815674, 0.8081066608428955, 0.658003032207489, 1.2471894025802612, 0.7741151452064514, 5.7043328285217285, 2.71671199798584, 5.305646896362305, 0.8982282876968384, 1.1124708652496338, 11.306455612182617, 4.7177510261535645, 3.780444860458374, 6.370418548583984, 2.8376376628875732, 1.873059630393982, 8.707558631896973, 9.088163375854492, 2.751103401184082, 4.040719032287598, 3.8962674140930176, 6.473468780517578, 1.9983654022216797, 2.7542243003845215, 2.5033276081085205, 2.3027923107147217, 4.423162460327148, 3.0120370388031006, 6.271051406860352, 3.3148488998413086, 2.596830368041992, 2.807427167892456, 3.3216617107391357, 3.094438314437866, 3.096571683883667, 3.07356333732605, 2.9462974071502686, 2.6020843982696533, 2.4134457111358643, 2.454007148742676], \"Term\": [\"starr\", \"baley\", \"robot\", \"time\", \"novel\", \"brade\", \"book\", \"planet\", \"asimov\", \"gladia\", \"later\", \"fastolfe\", \"bigman\", \"story\", \"spacer\", \"earth\", \"foundation\", \"galaxy\", \"reveal\", \"ralph\", \"eternity\", \"anson\", \"world\", \"lucky\", \"farrill\", \"discover\", \"new\", \"space\", \"amadiro\", \"help\", \"delmarre\", \"rikaine\", \"solarian\", \"viewing\", \"urteil\", \"weakness\", \"house\", \"gruer\", \"hummin\", \"assume\", \"contact\", \"huge\", \"putting\", \"stellar\", \"venabili\", \"positronic\", \"mimas\", \"face-to-face\", \"devore\", \"working\", \"acclaim\", \"sirius\", \"solarians\", \"enderby\", \"wessilewsky\", \"20,000\", \"impregnate\", \"peverale\", \"light\", \"security\", \"baley\", \"consider\", \"robot\", \"gladia\", \"chapter\", \"earth\", \"daneel\", \"murder\", \"york\", \"allow\", \"asimov\", \"human\", \"spacer\", \"seldon\", \"new\", \"series\", \"planet\", \"starr\", \"world\", \"aurora\", \"story\", \"fastolfe\", \"novel\", \"olivaw\", \"sirians\", \"city\", \"write\", \"amadiro\", \"book\", \"empire\", \"later\", \"state\", \"ship\", \"time\", \"take\", \"bigman\", \"foundation\", \"edge\", \"'sol\", \"legendary\", \"timmie\", \"edith\", \"boy\", \"stasis\", \"module\", \"doheny\", \"employer\", \"oil\", \"citizen\", \"anson\", \"'timmie\", \"chemical\", \"modern\", \"ralph\", \"brade\", \"cap\", \"circumstance\", \"colleague\", \"smuggle\", \"acetate\", \"peasant\", \"medieval\", \"dependency\", \"2,500\", \"repel\", \"chemist\", \"summer\", \"agrav\", \"mutt\", \"read\", \"pirate\", \"foundation\", \"hennes\", \"dingo\", \"mars\", \"oxygen\", \"mask\", \"bigman\", \"farm\", \"return\", \"starr\", \"space\", \"time\", \"second\", \"martian\", \"food\", \"capture\", \"know\", \"hansen\", \"science\", \"novel\", \"story\", \"earth\", \"book\", \"reveal\", \"asimov\", \"amadiro\", \"asteroid\", \"empire\", \"robot\", \"seldon\", \"giskard\", \"plan\", \"sirians\", \"david\", \"harlan\", \"baley\", \"fastolfe\", \"series\", \"discover\", \"daneel\", \"world\", \"planet\", \"human\", \"later\", \"goodhue\", \"brade\", \"anson\", \"neufeld\", \"fake\", \"organic\", \"cyanide\", \"sniff\", \"suicide\", \"powder\", \"doheny\", \"littleby\", \"motive\", \"blame\", \"chemical\", \"valve\", \"reaction\", \"cylinder\", \"shapirov\", \"immediately\", \"ralph\", \"cardinal\", \"hydrogen\", \"unpleasant\", \"cap\", \"paranoid\", \"retrieve\", \"ozonide\", \"lubricate\", \"club\", \"voyage\", \"soviets\", \"chemist\", \"document\", \"farrill\", \"rhodia\", \"oil\", \"tyranni\", \"chemistry\", \"time\", \"galaxy\", \"book\", \"thought\", \"morrison\", \"starr\", \"planet\", \"later\", \"novel\", \"spacer\", \"ranger\", \"baley\", \"robot\", \"eternity\", \"fastolfe\", \"gladia\", \"asimov\", \"title\", \"lucky\", \"help\", \"meet\", \"story\", \"reveal\", \"earth\", \"world\", \"discover\", \"new\", \"bigman\", \"amadiro\", \"human\", \"series\", \"daneel\", \"aurora\", \"olivaw\", \"seldon\"], \"Total\": [127.0, 110.0, 119.0, 44.0, 62.0, 14.0, 45.0, 41.0, 84.0, 38.0, 31.0, 39.0, 41.0, 54.0, 22.0, 107.0, 42.0, 18.0, 29.0, 8.0, 22.0, 7.0, 36.0, 24.0, 11.0, 24.0, 27.0, 29.0, 37.0, 21.0, 17.559022903442383, 7.863718032836914, 12.142810821533203, 9.437933921813965, 9.310998916625977, 5.943880081176758, 14.707805633544922, 7.5120110511779785, 8.64409065246582, 3.4454755783081055, 10.318419456481934, 4.2464518547058105, 4.176504611968994, 4.480321884155273, 10.337807655334473, 11.937525749206543, 6.2345991134643555, 5.065758228302002, 9.3882417678833, 10.998037338256836, 2.5320591926574707, 8.189970970153809, 5.214035511016846, 17.470951080322266, 6.236702919006348, 2.5332791805267334, 2.505141258239746, 7.295920372009277, 13.650848388671875, 2.5152456760406494, 110.102783203125, 13.441494941711426, 119.44947814941406, 38.52655029296875, 15.638713836669922, 107.02049255371094, 45.94939422607422, 24.400211334228516, 13.11547565460205, 20.935277938842773, 84.44570922851562, 38.8591194152832, 22.25636863708496, 45.6204719543457, 27.983455657958984, 38.74562072753906, 41.263572692871094, 127.45220947265625, 36.35264587402344, 27.377653121948242, 54.76464080810547, 39.62920379638672, 62.22761154174805, 22.078367233276367, 33.743228912353516, 21.175649642944336, 28.74834442138672, 37.43121337890625, 45.262367248535156, 32.66111373901367, 31.511600494384766, 25.91240119934082, 24.731111526489258, 44.03463363647461, 27.506851196289062, 41.10022735595703, 42.9785270690918, 2.4752750396728516, 1.6009364128112793, 1.6025463342666626, 4.75816011428833, 3.932202100753784, 5.54727029800415, 3.120936155319214, 2.3311960697174072, 5.571417331695557, 2.396267890930176, 3.2809717655181885, 2.402993679046631, 7.162083625793457, 1.5359858274459839, 3.1467971801757812, 2.33961820602417, 8.866739273071289, 14.146380424499512, 3.191871166229248, 1.532070517539978, 2.068636894226074, 1.5338399410247803, 2.060621738433838, 1.5264092683792114, 1.5311393737792969, 1.5171562433242798, 1.5454113483428955, 1.5299882888793945, 2.5859575271606445, 13.125300407409668, 5.907741546630859, 5.794639587402344, 3.778900623321533, 26.908958435058594, 42.9785270690918, 9.61048698425293, 4.158290863037109, 10.657421112060547, 5.465569496154785, 8.2982816696167, 41.10022735595703, 10.415628433227539, 26.143211364746094, 127.45220947265625, 29.913070678710938, 44.03463363647461, 23.178247451782227, 11.638620376586914, 9.432931900024414, 15.042035102844238, 24.603313446044922, 12.881293296813965, 27.172042846679688, 62.22761154174805, 54.76464080810547, 107.02049255371094, 45.262367248535156, 29.84185218811035, 84.44570922851562, 37.43121337890625, 22.23649024963379, 32.66111373901367, 119.44947814941406, 45.6204719543457, 24.299118041992188, 19.405864715576172, 33.743228912353516, 17.52242088317871, 19.00603675842285, 110.102783203125, 39.62920379638672, 38.74562072753906, 24.122167587280273, 45.94939422607422, 36.35264587402344, 41.263572692871094, 38.8591194152832, 31.511600494384766, 1.7663135528564453, 14.146380424499512, 7.162083625793457, 3.025120258331299, 3.0403518676757812, 3.0658512115478516, 3.0593645572662354, 1.243619680404663, 1.2542107105255127, 1.2554492950439453, 5.571417331695557, 1.8982411623001099, 1.2731273174285889, 1.2734708786010742, 3.1467971801757812, 2.5300159454345703, 1.2773059606552124, 1.907771348953247, 5.9466633796691895, 1.2846200466156006, 8.866739273071289, 1.288564682006836, 1.9203109741210938, 1.2926377058029175, 3.191871166229248, 1.2974870204925537, 1.3183271884918213, 1.3002586364746094, 1.3009575605392456, 1.322596788406372, 3.351165771484375, 3.352057456970215, 2.5859575271606445, 2.6600568294525146, 11.847679138183594, 4.115654468536377, 3.2809717655181885, 6.916604518890381, 4.010646343231201, 44.03463363647461, 18.446353912353516, 45.262367248535156, 4.854349136352539, 6.408351898193359, 127.45220947265625, 41.263572692871094, 31.511600494384766, 62.22761154174805, 22.25636863708496, 13.121363639831543, 110.102783203125, 119.44947814941406, 22.95191192626953, 39.62920379638672, 38.52655029296875, 84.44570922851562, 15.133594512939453, 24.92613410949707, 21.750694274902344, 19.073400497436523, 54.76464080810547, 29.84185218811035, 107.02049255371094, 36.35264587402344, 24.122167587280273, 27.983455657958984, 41.10022735595703, 37.43121337890625, 38.8591194152832, 38.74562072753906, 45.94939422607422, 27.377653121948242, 22.078367233276367, 45.6204719543457], \"loglift\": [30.0, 29.0, 28.0, 27.0, 26.0, 25.0, 24.0, 23.0, 22.0, 21.0, 20.0, 19.0, 18.0, 17.0, 16.0, 15.0, 14.0, 13.0, 12.0, 11.0, 10.0, 9.0, 8.0, 7.0, 6.0, 5.0, 4.0, 3.0, 2.0, 1.0, 0.3898000121116638, 0.3630000054836273, 0.35260000824928284, 0.3391999900341034, 0.33239999413490295, 0.3312000036239624, 0.3305000066757202, 0.3303999900817871, 0.32030001282691956, 0.32019999623298645, 0.3109000027179718, 0.3100999891757965, 0.3046000003814697, 0.2996000051498413, 0.29829999804496765, 0.29670000076293945, 0.2948000133037567, 0.2928999960422516, 0.28690001368522644, 0.2863999903202057, 0.2858999967575073, 0.28060001134872437, 0.2800000011920929, 0.27880001068115234, 0.27469998598098755, 0.2745000123977661, 0.27000001072883606, 0.2687000036239624, 0.2671999931335449, 0.26440000534057617, 0.25529998540878296, 0.25619998574256897, 0.21410000324249268, 0.2282000035047531, 0.24699999392032623, 0.15489999949932098, 0.19419999420642853, 0.2167000025510788, 0.23999999463558197, 0.20960000157356262, 0.11580000072717667, 0.16269999742507935, 0.1860000044107437, 0.11909999698400497, 0.16380000114440918, 0.11779999732971191, 0.10419999808073044, -0.06729999929666519, 0.10610000044107437, 0.14579999446868896, 0.03359999880194664, 0.08150000125169754, -9.999999747378752e-05, 0.16930000483989716, 0.08699999749660492, 0.1703999936580658, 0.09529999643564224, 0.01360000018030405, -0.052799999713897705, 0.03420000150799751, 0.04349999874830246, 0.08609999716281891, 0.10279999673366547, -0.21410000324249268, 0.04320000112056732, -0.19370000064373016, -0.23569999635219574, 0.8974000215530396, 0.7789000272750854, 0.7741000056266785, 0.7581999897956848, 0.7095000147819519, 0.6890000104904175, 0.684499979019165, 0.6775000095367432, 0.6593999862670898, 0.6593000292778015, 0.6477000117301941, 0.6473000049591064, 0.6362000107765198, 0.6323999762535095, 0.6269000172615051, 0.6244999766349792, 0.6241999864578247, 0.6172999739646912, 0.6151999831199646, 0.6133999824523926, 0.6087999939918518, 0.6046000123023987, 0.6004999876022339, 0.6000999808311462, 0.6000000238418579, 0.5983999967575073, 0.5976999998092651, 0.5975000262260437, 0.5871000289916992, 0.5863999724388123, 0.555400013923645, 0.5476999878883362, 0.5641999840736389, 0.4526999890804291, 0.4131999909877777, 0.48820000886917114, 0.5426999926567078, 0.45669999718666077, 0.5160999894142151, 0.4738999903202057, 0.31209999322891235, 0.44589999318122864, 0.335099995136261, 0.13950000703334808, 0.30820000171661377, 0.2206999957561493, 0.30660000443458557, 0.41269999742507935, 0.4429999887943268, 0.3467000126838684, 0.2402999997138977, 0.3637000024318695, 0.1932000070810318, -0.004800000227987766, 0.00139999995008111, -0.17759999632835388, 0.03840000182390213, 0.13210000097751617, -0.15080000460147858, 0.030700000002980232, 0.19200000166893005, 0.043800000101327896, -0.4147999882698059, -0.07989999651908875, 0.1386999934911728, 0.2231999933719635, -0.001500000013038516, 0.2531999945640564, 0.21170000731945038, -0.5781000256538391, -0.1639000028371811, -0.1648000031709671, 0.08129999786615372, -0.3021000027656555, -0.18070000410079956, -0.2639000117778778, -0.27810001373291016, -0.14589999616146088, 1.0678000450134277, 1.0300999879837036, 0.9918000102043152, 0.9703999757766724, 0.9541000127792358, 0.9483000040054321, 0.9333000183105469, 0.9178000092506409, 0.8942000269889832, 0.8889999985694885, 0.8791000247001648, 0.845300018787384, 0.8410000205039978, 0.8396000266075134, 0.8328999876976013, 0.8284000158309937, 0.8277000188827515, 0.8195000290870667, 0.8191999793052673, 0.8141000270843506, 0.8130999803543091, 0.802299976348877, 0.8004000186920166, 0.7890999913215637, 0.7889000177383423, 0.7748000025749207, 0.7700999975204468, 0.7675999999046326, 0.7644000053405762, 0.7638000249862671, 0.7605999708175659, 0.7472000122070312, 0.7519999742507935, 0.7501000165939331, 0.6013000011444092, 0.6674000024795532, 0.6886000037193298, 0.5821999907493591, 0.6503000259399414, 0.2515000104904175, 0.3797999918460846, 0.15160000324249268, 0.6080999970436096, 0.5443000197410583, -0.12710000574588776, 0.1265999972820282, 0.17479999363422394, 0.016100000590085983, 0.23559999465942383, 0.34860000014305115, -0.2418999969959259, -0.28060001134872437, 0.17389999330043793, 0.01209999993443489, 0.004000000189989805, -0.27309998869895935, 0.27070000767707825, 0.0925000011920929, 0.13330000638961792, 0.181099995970726, -0.22089999914169312, 0.0020000000949949026, -0.5418000221252441, -0.09960000216960907, 0.06639999896287918, -0.004100000020116568, -0.22030000388622284, -0.19760000705718994, -0.23440000414848328, -0.23890000581741333, -0.45170000195503235, -0.05810000002384186, 0.08169999718666077, -0.6273999810218811], \"logprob\": [30.0, 29.0, 28.0, 27.0, 26.0, 25.0, 24.0, 23.0, 22.0, 21.0, 20.0, 19.0, 18.0, 17.0, 16.0, 15.0, 14.0, 13.0, 12.0, 11.0, 10.0, 9.0, 8.0, 7.0, 6.0, 5.0, 4.0, 3.0, 2.0, 1.0, -6.210999965667725, -7.041100025177002, -6.617000102996826, -6.882400035858154, -6.902699947357178, -7.352700233459473, -6.447400093078613, -7.1194000244140625, -6.989099979400635, -7.90910005569458, -6.821499824523926, -7.71019983291626, -7.7322001457214355, -7.667099952697754, -6.832200050354004, -6.689899921417236, -7.341400146484375, -7.550899982452393, -6.940000057220459, -6.782199859619141, -8.251299858093262, -7.082799911499023, -7.534999847412109, -6.327000141143799, -7.361199855804443, -8.262299537658691, -8.277999877929688, -7.210299968719482, -6.585299968719482, -8.279600143432617, -4.5096001625061035, -6.611800193786621, -4.469299793243408, -5.5868000984191895, -6.4695000648498535, -4.638400077819824, -5.444499969482422, -6.054999828338623, -6.652500152587891, -6.2153000831604, -4.914400100708008, -5.643599987030029, -6.177700042724609, -5.526800155639648, -5.970900058746338, -5.691500186920166, -5.642199993133545, -4.6859002113342285, -5.766900062561035, -6.010700225830078, -5.429599761962891, -5.7052001953125, -5.335599899291992, -6.202400207519531, -5.860499858856201, -6.243000030517578, -6.012499809265137, -5.8302001953125, -5.706600189208984, -5.945899963378906, -5.972400188446045, -6.125500202178955, -6.155399799346924, -5.895500183105469, -6.108699798583984, -5.943999767303467, -5.941299915313721, -7.662499904632568, -8.21679973602295, -8.220600128173828, -7.148200035095215, -7.387599945068359, -7.064000129699707, -7.643700122833252, -7.942500114440918, -7.089300155639648, -7.933000087738037, -7.63040018081665, -7.942299842834473, -6.861299991607666, -8.40470027923584, -7.6930999755859375, -7.991799831390381, -6.659800052642822, -6.19950008392334, -7.690499782562256, -8.426300048828125, -8.130599975585938, -8.433899879455566, -8.142800331115723, -8.443300247192383, -8.440299987792969, -8.45110034942627, -8.433300018310547, -8.443499565124512, -7.929100036621094, -6.305300235748291, -7.1346001625061035, -7.1616997718811035, -7.572700023651123, -5.721099853515625, -5.292399883270264, -6.715199947357178, -7.498499870300293, -6.6433000564575195, -7.251800060272217, -6.876399993896484, -5.438199996948242, -6.67710018157959, -5.867599964141846, -4.479100227355957, -5.759799957275391, -5.460599899291992, -6.016499996185303, -6.599299907684326, -6.779099941253662, -6.408699989318848, -6.023099899291992, -6.546800136566162, -5.970900058746338, -5.3403000831604, -5.461900234222412, -4.970799922943115, -5.6153998374938965, -5.938300132751465, -5.181000232696533, -5.8130998611450195, -6.172500133514404, -5.936299800872803, -5.098199844360352, -5.725900173187256, -6.137199878692627, -6.277599811553955, -5.948999881744385, -6.349599838256836, -6.309899806976318, -5.3429999351501465, -5.950699806213379, -5.973999977111816, -6.201900005340576, -5.940899848937988, -6.053800106048584, -6.010200023651123, -6.084400177001953, -6.161799907684326, -7.829599857330322, -5.786799907684326, -6.50570011138916, -7.388899803161621, -7.400199890136719, -7.39769983291626, -7.41480016708374, -8.330499649047852, -8.345600128173828, -8.349800109863281, -6.86959981918335, -7.980100154876709, -8.383899688720703, -8.384900093078613, -7.487100124359131, -7.709700107574463, -8.393899917602539, -8.000800132751465, -6.864299774169922, -8.401700019836426, -6.470900058746338, -8.410499572753906, -8.013400077819824, -8.420499801635742, -7.5167999267578125, -8.430999755859375, -8.4197998046875, -8.436100006103516, -8.438799858093262, -8.422900199890137, -7.496399879455566, -7.509500026702881, -7.764200210571289, -7.737800121307373, -6.392899990081787, -7.384099960327148, -7.589600086212158, -6.950099945068359, -7.42710018157959, -5.429800033569336, -6.171599864959717, -5.502200126647949, -7.27839994430542, -7.0644001960754395, -4.74560022354126, -5.619699954986572, -5.84119987487793, -5.319399833679199, -6.127999782562256, -6.543399810791016, -5.006800174713135, -4.964000225067139, -6.158999919891357, -5.774600028991699, -5.810999870300293, -5.303299903869629, -6.478700160980225, -6.157899856567383, -6.253399848937988, -6.336900234222412, -5.684199810028076, -6.068399906158447, -5.335100173950195, -5.972599983215332, -6.216700077056885, -6.138800144195557, -5.970600128173828, -6.041399955749512, -6.0406999588012695, -6.0482001304626465, -6.0904998779296875, -6.214700222015381, -6.289999961853027, -6.2733001708984375]}, \"token.table\": {\"Topic\": [2, 2, 2, 1, 1, 2, 1, 2, 3, 1, 2, 3, 1, 2, 3, 1, 2, 3, 1, 2, 3, 1, 2, 1, 2, 3, 1, 2, 3, 1, 2, 3, 1, 2, 3, 2, 1, 2, 3, 1, 2, 1, 2, 3, 1, 2, 3, 1, 2, 3, 2, 1, 2, 3, 2, 3, 1, 2, 3, 1, 2, 3, 2, 1, 2, 1, 2, 3, 1, 2, 1, 2, 3, 1, 2, 3, 1, 2, 3, 2, 1, 2, 3, 1, 2, 3, 1, 2, 3, 2, 1, 2, 3, 1, 2, 1, 2, 3, 1, 2, 3, 1, 2, 3, 1, 2, 3, 2, 1, 2, 1, 2, 3, 1, 2, 1, 2, 3, 1, 2, 3, 1, 2, 1, 2, 3, 1, 2, 3, 1, 2, 3, 1, 2, 3, 1, 2, 3, 1, 2, 3, 1, 2, 3, 1, 2, 3, 1, 2, 3, 2, 3, 1, 2, 3, 1, 2, 3, 1, 2, 3, 1, 2, 3, 1, 2, 3, 1, 2, 3, 1, 2, 1, 2, 3, 1, 2, 3, 2, 2, 1, 1, 2, 3, 1, 2, 3, 2, 1, 2, 3, 2, 2, 1, 2, 3, 1, 2, 3, 1, 2, 3, 1, 2, 3, 2, 1, 2, 3, 1, 2, 1, 2, 1, 2, 1, 2, 3, 2, 1, 2, 3, 1, 2, 3, 1, 2, 3, 1, 2, 3, 1, 2, 3, 1, 2, 3, 1, 2, 3, 1, 2, 3, 1, 2, 3, 2, 2, 2, 1, 2, 3, 1, 2, 3, 1, 2, 3, 1, 2, 3, 1, 2, 3, 2, 1, 2, 1, 2, 3, 1, 2, 3, 2, 1, 2, 2, 1, 1, 2, 3, 1, 2, 3, 1, 2, 3, 1, 2, 1, 2, 3, 1, 2, 3, 1, 2, 3, 1, 1, 2, 3, 1, 2, 3, 1, 2, 3, 1, 2, 3, 1, 2, 3, 1, 2, 3, 2, 2, 1, 2, 3, 1, 2, 1, 2, 3, 1, 2, 3, 1, 2, 3, 1, 2, 3, 1, 2, 1, 2, 3, 1, 2, 1, 2, 3, 2, 1, 2, 3, 1, 2, 3, 1, 2, 3, 1, 2, 3, 1, 2, 1, 2, 3, 1, 2, 3, 2, 1, 2, 3, 2, 3, 1, 2, 3, 1, 2, 3, 1, 2, 3, 1, 2, 1, 2, 1, 2, 3, 1, 2, 3, 1, 2, 3, 1, 2, 3], \"Freq\": [0.6246344447135925, 0.6510476469993591, 0.6470769047737122, 0.7894905805587769, 0.7898709774017334, 0.48529043793678284, 0.33853885531425476, 0.507808268070221, 0.16926942765712738, 0.7164939641952515, 0.2388313114643097, 0.09553252905607224, 0.5877447724342346, 0.34730371832847595, 0.08014701306819916, 0.13962417840957642, 0.5584967136383057, 0.27924835681915283, 0.6394640803337097, 0.2842062711715698, 0.07105156779289246, 0.870707094669342, 0.290235698223114, 0.539653480052948, 0.4047401249408722, 0.044971127063035965, 0.6574705243110657, 0.25568297505378723, 0.10957842320203781, 0.7356762290000916, 0.18164844810962677, 0.0817418023943901, 0.46228453516960144, 0.43795377016067505, 0.07299229502677917, 0.785255491733551, 0.530241847038269, 0.33140113949775696, 0.11046704649925232, 0.18026883900165558, 0.7210753560066223, 0.14137892425060272, 0.6362051367759705, 0.28275784850120544, 0.313295841217041, 0.626591682434082, 0.313295841217041, 0.465362548828125, 0.465362548828125, 0.0664803683757782, 0.7760573029518127, 0.703382670879364, 0.19183163344860077, 0.06394387781620026, 0.6355668306350708, 0.3177834153175354, 0.3867039680480957, 0.7734079360961914, 0.3867039680480957, 0.249336376786232, 0.498672753572464, 0.249336376786232, 0.6527114510536194, 0.4161475896835327, 0.8322951793670654, 0.6611367464065552, 0.23612026870250702, 0.09444810450077057, 0.7560883164405823, 0.483410120010376, 0.7439648509025574, 0.22318945825099945, 0.07439648360013962, 0.7753125429153442, 0.19382813572883606, 0.09691406786441803, 0.3268652558326721, 0.6537305116653442, 0.3268652558326721, 0.5241718292236328, 0.6964183449745178, 0.23939380049705505, 0.0652892142534256, 0.5136276483535767, 0.3994881808757782, 0.11413948237895966, 0.8542616367340088, 0.11390155553817749, 0.056950777769088745, 0.6591278910636902, 0.7456135153770447, 0.10651621967554092, 0.10651621967554092, 0.48096683621406555, 0.48096683621406555, 0.5389233827590942, 0.37310078740119934, 0.12436693161725998, 0.37593182921409607, 0.37593182921409607, 0.37593182921409607, 0.17948754131793976, 0.717950165271759, 0.17948754131793976, 0.6634243726730347, 0.27097612619400024, 0.05606402829289436, 0.8079910278320312, 0.2543104290962219, 0.7629312872886658, 0.5817315578460693, 0.3367919325828552, 0.06123489886522293, 0.41731560230255127, 0.8346312046051025, 0.7440922856330872, 0.17171360552310944, 0.05723786726593971, 0.5664016008377075, 0.3485548496246338, 0.13070806860923767, 0.789615273475647, 0.19740381836891174, 0.328909307718277, 0.657818615436554, 0.328909307718277, 0.3840382695198059, 0.4800478518009186, 0.09600956737995148, 0.5908330082893372, 0.25321415066719055, 0.1688094288110733, 0.6308478713035583, 0.2775730788707733, 0.10093566030263901, 0.31803473830223083, 0.5300579071044922, 0.10601157695055008, 0.4420812129974365, 0.48861607909202576, 0.04653486609458923, 0.5963237881660461, 0.27105626463890076, 0.1626337617635727, 0.5761526226997375, 0.3703837990760803, 0.08230751752853394, 0.7267715334892273, 0.18169288337230682, 0.10382450371980667, 0.5661509037017822, 0.5661509037017822, 0.7987208962440491, 0.13312014937400818, 0.13312014937400818, 0.4657917320728302, 0.4657917320728302, 0.07763195782899857, 0.5261486172676086, 0.42091888189315796, 0.10522972047328949, 0.6436576247215271, 0.2758532762527466, 0.1379266381263733, 0.31215900182724, 0.5202649831771851, 0.10405299812555313, 0.815893292427063, 0.1359822154045105, 0.06799110770225525, 0.7064721584320068, 0.23549072444438934, 0.6690835952758789, 0.25733986496925354, 0.0772019550204277, 0.8098017573356628, 0.11568596959114075, 0.11568596959114075, 0.5207489728927612, 0.7784402966499329, 0.7983582019805908, 0.4877391755580902, 0.4064493179321289, 0.0812898650765419, 0.6029525399208069, 0.28560909628868103, 0.1269373744726181, 0.6240069270133972, 0.7325552105903625, 0.2197665572166443, 0.0732555165886879, 0.5268034338951111, 0.7686645984649658, 0.6017780303955078, 0.3209482729434967, 0.12035560607910156, 0.3753253221511841, 0.5629879832267761, 0.09383133053779602, 0.3436833322048187, 0.5155250430107117, 0.17184166610240936, 0.3615206182003021, 0.48202750086784363, 0.12050687521696091, 0.6531084179878235, 0.5242903828620911, 0.3145742118358612, 0.10485807061195374, 0.801976203918457, 0.16039523482322693, 0.42742016911506653, 0.42742016911506653, 0.4289643466472626, 0.8579286932945251, 0.6241854429244995, 0.15604636073112488, 0.15604636073112488, 0.7854673862457275, 0.6967152953147888, 0.20491625368595123, 0.08196650445461273, 0.3451465666294098, 0.5177198648452759, 0.1725732833147049, 0.33056536316871643, 0.6611307263374329, 0.33056536316871643, 0.678972601890564, 0.2144124060869217, 0.10720620304346085, 0.5785213112831116, 0.3214007318019867, 0.09642022103071213, 0.3047877550125122, 0.6095755100250244, 0.3047877550125122, 0.6793980598449707, 0.22646601498126984, 0.09058640897274017, 0.32617369294166565, 0.32617369294166565, 0.32617369294166565, 0.1829635500907898, 0.5488906502723694, 0.1829635500907898, 0.7690777778625488, 0.7707206010818481, 0.6551322937011719, 0.6853144764900208, 0.1370628923177719, 0.1370628923177719, 0.44594815373420715, 0.5202728509902954, 0.03716234490275383, 0.515308141708374, 0.4122464954853058, 0.05153081193566322, 0.6300957202911377, 0.24234449863433838, 0.12117224931716919, 0.753925085067749, 0.16753891110420227, 0.08376945555210114, 0.7965275645256042, 0.7183039784431458, 0.23943467438220978, 0.11278103291988373, 0.5639051795005798, 0.22556206583976746, 0.457269549369812, 0.457269549369812, 0.1524231880903244, 0.7828977704048157, 0.26462721824645996, 0.5292544364929199, 0.6535997986793518, 0.7585370540618896, 0.45901018381118774, 0.45901018381118774, 0.07650169730186462, 0.5361597537994385, 0.36860981583595276, 0.10052995383739471, 0.48594945669174194, 0.24297472834587097, 0.24297472834587097, 0.7629978656768799, 0.12716631591320038, 0.7032261490821838, 0.21766524016857147, 0.07534566521644592, 0.5152354836463928, 0.40482786297798157, 0.07360506802797318, 0.4745829105377197, 0.43143901228904724, 0.08628780394792557, 0.7951509356498718, 0.6356795430183411, 0.30687975883483887, 0.043839968740940094, 0.645234227180481, 0.2839030623435974, 0.07742810249328613, 0.6726461052894592, 0.1681615263223648, 0.1681615263223648, 0.6469584107398987, 0.32347920536994934, 0.04043490067124367, 0.6223470568656921, 0.32599133253097534, 0.05927114933729172, 0.7326033115386963, 0.12210055440664291, 0.12210055440664291, 0.6519585251808167, 0.8041043281555176, 0.8235325813293457, 0.1647065132856369, 0.08235325664281845, 0.7671601176261902, 0.19179002940654755, 0.5966484546661377, 0.29832422733306885, 0.29832422733306885, 0.46802282333374023, 0.4345926344394684, 0.06686040759086609, 0.6739643812179565, 0.1797238439321518, 0.13479287922382355, 0.5335333347320557, 0.37661173939704895, 0.0863068625330925, 0.3204166889190674, 0.6408333778381348, 0.6174649596214294, 0.3087324798107147, 0.07718311995267868, 0.6695947647094727, 0.22319824993610382, 0.5843186378479004, 0.32867923378944397, 0.07303982973098755, 0.7973141670227051, 0.30475494265556335, 0.6095098853111267, 0.07618873566389084, 0.581673264503479, 0.32719120383262634, 0.07270915806293488, 0.6180025339126587, 0.20600083470344543, 0.20600083470344543, 0.45418795943260193, 0.4087691605091095, 0.1362563818693161, 0.21016526222229004, 0.6304957866668701, 0.5947033762931824, 0.26431262493133545, 0.13215631246566772, 0.4337388277053833, 0.4337388277053833, 0.14457961916923523, 0.7736119627952576, 0.7517990469932556, 0.10739985853433609, 0.10739985853433609, 0.3952544331550598, 0.3952544331550598, 0.7738584876060486, 0.09673231095075607, 0.09673231095075607, 0.8476431369781494, 0.10595539212226868, 0.10595539212226868, 0.5968072414398193, 0.29840362071990967, 0.29840362071990967, 0.8412013649940491, 0.1682402789592743, 0.8017056584358215, 0.16034112870693207, 0.7274025082588196, 0.1818506270647049, 0.09092531353235245, 0.6326912045478821, 0.27508315443992615, 0.08252494037151337, 0.6261230111122131, 0.27827689051628113, 0.06956922262907028, 0.7624580264091492, 0.15249161422252655, 0.07624580711126328], \"Term\": [\"'sol\", \"'timmie\", \"2,500\", \"20,000\", \"acclaim\", \"acetate\", \"agrav\", \"agrav\", \"agrav\", \"allow\", \"allow\", \"allow\", \"amadiro\", \"amadiro\", \"amadiro\", \"anson\", \"anson\", \"anson\", \"asimov\", \"asimov\", \"asimov\", \"assume\", \"assume\", \"asteroid\", \"asteroid\", \"asteroid\", \"aurora\", \"aurora\", \"aurora\", \"baley\", \"baley\", \"baley\", \"bigman\", \"bigman\", \"bigman\", \"blame\", \"book\", \"book\", \"book\", \"boy\", \"boy\", \"brade\", \"brade\", \"brade\", \"cap\", \"cap\", \"cap\", \"capture\", \"capture\", \"capture\", \"cardinal\", \"chapter\", \"chapter\", \"chapter\", \"chemical\", \"chemical\", \"chemist\", \"chemist\", \"chemist\", \"chemistry\", \"chemistry\", \"chemistry\", \"circumstance\", \"citizen\", \"citizen\", \"city\", \"city\", \"city\", \"club\", \"colleague\", \"consider\", \"consider\", \"consider\", \"contact\", \"contact\", \"contact\", \"cyanide\", \"cyanide\", \"cyanide\", \"cylinder\", \"daneel\", \"daneel\", \"daneel\", \"david\", \"david\", \"david\", \"delmarre\", \"delmarre\", \"delmarre\", \"dependency\", \"devore\", \"devore\", \"devore\", \"dingo\", \"dingo\", \"discover\", \"discover\", \"discover\", \"document\", \"document\", \"document\", \"doheny\", \"doheny\", \"doheny\", \"earth\", \"earth\", \"earth\", \"edge\", \"edith\", \"edith\", \"empire\", \"empire\", \"empire\", \"employer\", \"employer\", \"enderby\", \"enderby\", \"enderby\", \"eternity\", \"eternity\", \"eternity\", \"face-to-face\", \"face-to-face\", \"fake\", \"fake\", \"fake\", \"farm\", \"farm\", \"farm\", \"farrill\", \"farrill\", \"farrill\", \"fastolfe\", \"fastolfe\", \"fastolfe\", \"food\", \"food\", \"food\", \"foundation\", \"foundation\", \"foundation\", \"galaxy\", \"galaxy\", \"galaxy\", \"giskard\", \"giskard\", \"giskard\", \"gladia\", \"gladia\", \"gladia\", \"goodhue\", \"goodhue\", \"gruer\", \"gruer\", \"gruer\", \"hansen\", \"hansen\", \"hansen\", \"harlan\", \"harlan\", \"harlan\", \"help\", \"help\", \"help\", \"hennes\", \"hennes\", \"hennes\", \"house\", \"house\", \"house\", \"huge\", \"huge\", \"human\", \"human\", \"human\", \"hummin\", \"hummin\", \"hummin\", \"hydrogen\", \"immediately\", \"impregnate\", \"know\", \"know\", \"know\", \"later\", \"later\", \"later\", \"legendary\", \"light\", \"light\", \"light\", \"littleby\", \"lubricate\", \"lucky\", \"lucky\", \"lucky\", \"mars\", \"mars\", \"mars\", \"martian\", \"martian\", \"martian\", \"mask\", \"mask\", \"mask\", \"medieval\", \"meet\", \"meet\", \"meet\", \"mimas\", \"mimas\", \"modern\", \"modern\", \"module\", \"module\", \"morrison\", \"morrison\", \"morrison\", \"motive\", \"murder\", \"murder\", \"murder\", \"mutt\", \"mutt\", \"mutt\", \"neufeld\", \"neufeld\", \"neufeld\", \"new\", \"new\", \"new\", \"novel\", \"novel\", \"novel\", \"oil\", \"oil\", \"oil\", \"olivaw\", \"olivaw\", \"olivaw\", \"organic\", \"organic\", \"organic\", \"oxygen\", \"oxygen\", \"oxygen\", \"ozonide\", \"paranoid\", \"peasant\", \"peverale\", \"peverale\", \"peverale\", \"pirate\", \"pirate\", \"pirate\", \"plan\", \"plan\", \"plan\", \"planet\", \"planet\", \"planet\", \"positronic\", \"positronic\", \"positronic\", \"powder\", \"putting\", \"putting\", \"ralph\", \"ralph\", \"ralph\", \"ranger\", \"ranger\", \"ranger\", \"reaction\", \"read\", \"read\", \"repel\", \"retrieve\", \"return\", \"return\", \"return\", \"reveal\", \"reveal\", \"reveal\", \"rhodia\", \"rhodia\", \"rhodia\", \"rikaine\", \"rikaine\", \"robot\", \"robot\", \"robot\", \"science\", \"science\", \"science\", \"second\", \"second\", \"second\", \"security\", \"seldon\", \"seldon\", \"seldon\", \"series\", \"series\", \"series\", \"shapirov\", \"shapirov\", \"shapirov\", \"ship\", \"ship\", \"ship\", \"sirians\", \"sirians\", \"sirians\", \"sirius\", \"sirius\", \"sirius\", \"smuggle\", \"sniff\", \"solarian\", \"solarian\", \"solarian\", \"solarians\", \"solarians\", \"soviets\", \"soviets\", \"soviets\", \"space\", \"space\", \"space\", \"spacer\", \"spacer\", \"spacer\", \"starr\", \"starr\", \"starr\", \"stasis\", \"stasis\", \"state\", \"state\", \"state\", \"stellar\", \"stellar\", \"story\", \"story\", \"story\", \"suicide\", \"summer\", \"summer\", \"summer\", \"take\", \"take\", \"take\", \"thought\", \"thought\", \"thought\", \"time\", \"time\", \"time\", \"timmie\", \"timmie\", \"title\", \"title\", \"title\", \"tyranni\", \"tyranni\", \"tyranni\", \"unpleasant\", \"urteil\", \"urteil\", \"urteil\", \"valve\", \"valve\", \"venabili\", \"venabili\", \"venabili\", \"viewing\", \"viewing\", \"viewing\", \"voyage\", \"voyage\", \"voyage\", \"weakness\", \"weakness\", \"wessilewsky\", \"wessilewsky\", \"working\", \"working\", \"working\", \"world\", \"world\", \"world\", \"write\", \"write\", \"write\", \"york\", \"york\", \"york\"]}, \"R\": 30, \"lambda.step\": 0.01, \"plot.opts\": {\"xlab\": \"PC1\", \"ylab\": \"PC2\"}, \"topic.order\": [1, 3, 2]};\n",
       "\n",
       "function LDAvis_load_lib(url, callback){\n",
       "  var s = document.createElement('script');\n",
       "  s.src = url;\n",
       "  s.async = true;\n",
       "  s.onreadystatechange = s.onload = callback;\n",
       "  s.onerror = function(){console.warn(\"failed to load library \" + url);};\n",
       "  document.getElementsByTagName(\"head\")[0].appendChild(s);\n",
       "}\n",
       "\n",
       "if(typeof(LDAvis) !== \"undefined\"){\n",
       "   // already loaded: just create the visualization\n",
       "   !function(LDAvis){\n",
       "       new LDAvis(\"#\" + \"ldavis_el11139112246463696494268580\", ldavis_el11139112246463696494268580_data);\n",
       "   }(LDAvis);\n",
       "}else if(typeof define === \"function\" && define.amd){\n",
       "   // require.js is available: use it to load d3/LDAvis\n",
       "   require.config({paths: {d3: \"https://cdnjs.cloudflare.com/ajax/libs/d3/3.5.5/d3.min\"}});\n",
       "   require([\"d3\"], function(d3){\n",
       "      window.d3 = d3;\n",
       "      LDAvis_load_lib(\"https://cdn.rawgit.com/bmabey/pyLDAvis/files/ldavis.v1.0.0.js\", function(){\n",
       "        new LDAvis(\"#\" + \"ldavis_el11139112246463696494268580\", ldavis_el11139112246463696494268580_data);\n",
       "      });\n",
       "    });\n",
       "}else{\n",
       "    // require.js not available: dynamically load d3 & LDAvis\n",
       "    LDAvis_load_lib(\"https://cdnjs.cloudflare.com/ajax/libs/d3/3.5.5/d3.min.js\", function(){\n",
       "         LDAvis_load_lib(\"https://cdn.rawgit.com/bmabey/pyLDAvis/files/ldavis.v1.0.0.js\", function(){\n",
       "                 new LDAvis(\"#\" + \"ldavis_el11139112246463696494268580\", ldavis_el11139112246463696494268580_data);\n",
       "            })\n",
       "         });\n",
       "}\n",
       "</script>"
      ],
      "text/plain": [
       "<IPython.core.display.HTML object>"
      ]
     },
     "execution_count": 345,
     "metadata": {},
     "output_type": "execute_result"
    }
   ],
   "source": [
    "import pyLDAvis.gensim\n",
    "lda_display = pyLDAvis.gensim.prepare(lda_model, corpus, id2word)\n",
    "pyLDAvis.display(lda_display)"
   ]
  },
  {
   "cell_type": "code",
   "execution_count": 184,
   "metadata": {},
   "outputs": [
    {
     "name": "stderr",
     "output_type": "stream",
     "text": [
      "[nltk_data] Downloading package wordnet to\n",
      "[nltk_data]     /Users/adrienbolens/nltk_data...\n",
      "[nltk_data]   Package wordnet is already up-to-date!\n"
     ]
    }
   ],
   "source": [
    "from nltk.stem import WordNetLemmatizer, SnowballStemmer\n",
    "from nltk.stem.porter import *\n",
    "stemmer = PorterStemmer()\n",
    "nltk.download('wordnet')\n",
    "\n",
    "def preprocess(text):\n",
    "    result = []\n",
    "    for token in gensim.utils.simple_preprocess(text):\n",
    "        if token not in STOPWORDS and len(token) > 2:\n",
    "#             result.append(lemmatize_stemming(token))\n",
    "            result.append(token)\n",
    "    return result\n",
    "\n",
    "def lemmatize_stemming(text):\n",
    "    return stemmer.stem(WordNetLemmatizer().lemmatize(text, pos='v'))"
   ]
  },
  {
   "cell_type": "code",
   "execution_count": 147,
   "metadata": {},
   "outputs": [],
   "source": [
    "res = preprocess(pages[0].text)"
   ]
  },
  {
   "cell_type": "code",
   "execution_count": 160,
   "metadata": {},
   "outputs": [
    {
     "data": {
      "text/plain": [
       "<_sre.SRE_Match object; span=(0, 3), match='aad'>"
      ]
     },
     "execution_count": 160,
     "metadata": {},
     "output_type": "execute_result"
    }
   ],
   "source": [
    "re.match('[a-zA-Z\\-][a-zA-Z\\-]{2,}', 'aad')"
   ]
  },
  {
   "cell_type": "code",
   "execution_count": null,
   "metadata": {},
   "outputs": [],
   "source": []
  }
 ],
 "metadata": {
  "kernelspec": {
   "display_name": "Python 3",
   "language": "python",
   "name": "python3"
  },
  "language_info": {
   "codemirror_mode": {
    "name": "ipython",
    "version": 3
   },
   "file_extension": ".py",
   "mimetype": "text/x-python",
   "name": "python",
   "nbconvert_exporter": "python",
   "pygments_lexer": "ipython3",
   "version": "3.7.4"
  }
 },
 "nbformat": 4,
 "nbformat_minor": 2
}

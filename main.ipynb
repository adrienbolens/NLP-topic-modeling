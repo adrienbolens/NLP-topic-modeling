{
 "cells": [
  {
   "cell_type": "code",
   "execution_count": 1,
   "metadata": {},
   "outputs": [],
   "source": [
    "import wikipediaapi\n",
    "wiki_wiki = wikipediaapi.Wikipedia('en')"
   ]
  },
  {
   "cell_type": "code",
   "execution_count": 2,
   "metadata": {},
   "outputs": [],
   "source": [
    "def get_categorymembers(category, level=0, max_level=0, verbose=False, pages=None):\n",
    "    \"\"\"\n",
    "    Return a list of all wikipedia pages from a given category.\n",
    "    Categories are themselves pages -> The list includes pages from subcategories that\n",
    "    are members of a higher level category (recursively).\n",
    "    \n",
    "    NOTE: duplicates are not removed.\n",
    "    \n",
    "    Args:\n",
    "    ----\n",
    "        category (str)\n",
    "        level (int): current level of the category\n",
    "        max_level (int): maximum level of the recursion for subcategories\n",
    "        verbose (bool)\n",
    "        \n",
    "    Returns:\n",
    "    -------\n",
    "        pages (list): list of `page`.\n",
    "    \n",
    "    \"\"\"\n",
    "    if pages is None:\n",
    "        pages = []\n",
    "    members = category.categorymembers\n",
    "    for page in members.values():\n",
    "        info_str = \"{0:s}: {1:s} (ns: {2:d})\".format('*' * (level + 1), page.title, page.ns)\n",
    "        if page.ns == wikipediaapi.Namespace.MAIN:\n",
    "            pages.append(page)\n",
    "            if verbose:\n",
    "                print(\"{0:70.70}{1:>27}\".format(info_str, 'PAGE ADDED'))\n",
    "        elif page.ns == wikipediaapi.Namespace.CATEGORY and level < max_level:\n",
    "            if verbose:\n",
    "                print(\"(SUBCATEGORY) \", info_str)\n",
    "            get_categorymembers(page, level + 1, verbose=verbose, pages = pages)\n",
    "    return pages"
   ]
  },
  {
   "cell_type": "code",
   "execution_count": 3,
   "metadata": {
    "scrolled": false
   },
   "outputs": [
    {
     "name": "stdout",
     "output_type": "stream",
     "text": [
      "(SUBCATEGORY)  *: Category:Mystery novels by Isaac Asimov (ns: 14)\n",
      "**: The Caves of Steel (ns: 0)                                                         PAGE ADDED\n",
      "**: The Death Dealers (ns: 0)                                                          PAGE ADDED\n",
      "**: Murder at the ABA (ns: 0)                                                          PAGE ADDED\n",
      "**: The Naked Sun (ns: 0)                                                              PAGE ADDED\n",
      "**: The Robots of Dawn (ns: 0)                                                         PAGE ADDED\n",
      "(SUBCATEGORY)  *: Category:Science fiction novels by Isaac Asimov (ns: 14)\n",
      "**: The Caves of Steel (ns: 0)                                                         PAGE ADDED\n",
      "**: The Currents of Space (ns: 0)                                                      PAGE ADDED\n",
      "**: David Starr, Space Ranger (ns: 0)                                                  PAGE ADDED\n",
      "**: The End of Eternity (ns: 0)                                                        PAGE ADDED\n",
      "**: Fantastic Voyage (novel) (ns: 0)                                                   PAGE ADDED\n",
      "**: Fantastic Voyage II: Destination Brain (ns: 0)                                     PAGE ADDED\n",
      "**: Forward the Foundation (ns: 0)                                                     PAGE ADDED\n",
      "**: Foundation (Asimov novel) (ns: 0)                                                  PAGE ADDED\n",
      "**: Foundation and Earth (ns: 0)                                                       PAGE ADDED\n",
      "**: Foundation and Empire (ns: 0)                                                      PAGE ADDED\n",
      "**: Foundation's Edge (ns: 0)                                                          PAGE ADDED\n",
      "**: The Gods Themselves (ns: 0)                                                        PAGE ADDED\n",
      "**: Lucky Starr and the Big Sun of Mercury (ns: 0)                                     PAGE ADDED\n",
      "**: Lucky Starr and the Moons of Jupiter (ns: 0)                                       PAGE ADDED\n",
      "**: Lucky Starr and the Oceans of Venus (ns: 0)                                        PAGE ADDED\n",
      "**: Lucky Starr and the Pirates of the Asteroids (ns: 0)                               PAGE ADDED\n",
      "**: Lucky Starr and the Rings of Saturn (ns: 0)                                        PAGE ADDED\n",
      "**: Lucky Starr series (ns: 0)                                                         PAGE ADDED\n",
      "**: The Naked Sun (ns: 0)                                                              PAGE ADDED\n",
      "**: Nemesis (Asimov novel) (ns: 0)                                                     PAGE ADDED\n",
      "**: Nightfall (Asimov novelette and novel) (ns: 0)                                     PAGE ADDED\n",
      "**: Norby, the Mixed-Up Robot (ns: 0)                                                  PAGE ADDED\n",
      "**: Pebble in the Sky (ns: 0)                                                          PAGE ADDED\n",
      "**: The Positronic Man (ns: 0)                                                         PAGE ADDED\n",
      "**: Prelude to Foundation (ns: 0)                                                      PAGE ADDED\n",
      "**: Robots and Empire (ns: 0)                                                          PAGE ADDED\n",
      "**: The Robots of Dawn (ns: 0)                                                         PAGE ADDED\n",
      "**: Second Foundation (ns: 0)                                                          PAGE ADDED\n",
      "**: The Stars, Like Dust (ns: 0)                                                       PAGE ADDED\n",
      "**: The Ugly Little Boy (ns: 0)                                                        PAGE ADDED\n"
     ]
    }
   ],
   "source": [
    "# cat = wiki_wiki.page(\"Category:Science fiction novels by writer\")\n",
    "cat = wiki_wiki.page(\"Category:Novels by Isaac Asimov\")\n",
    "pages = get_categorymembers(cat, max_level=1, verbose=True)"
   ]
  },
  {
   "cell_type": "code",
   "execution_count": 121,
   "metadata": {},
   "outputs": [
    {
     "data": {
      "text/plain": [
       "dict_values([Category:Mystery novels by Isaac Asimov (id: 21901161, ns: 14), Category:Science fiction novels by Isaac Asimov (id: 1242888, ns: 14)])"
      ]
     },
     "execution_count": 121,
     "metadata": {},
     "output_type": "execute_result"
    }
   ],
   "source": [
    "cat.categorymembers.values()"
   ]
  },
  {
   "cell_type": "code",
   "execution_count": null,
   "metadata": {},
   "outputs": [],
   "source": []
  },
  {
   "cell_type": "code",
   "execution_count": 4,
   "metadata": {},
   "outputs": [],
   "source": [
    "import re\n",
    "import nltk\n",
    "import gensim\n",
    "from nltk.corpus import stopwords\n",
    "from nltk import word_tokenize\n",
    "from gensim.parsing.preprocessing import STOPWORDS\n",
    "from gensim import models, corpora\n",
    "from pprint import pprint\n",
    "\n",
    "# nltk.download('all')"
   ]
  },
  {
   "cell_type": "code",
   "execution_count": 43,
   "metadata": {},
   "outputs": [
    {
     "name": "stdout",
     "output_type": "stream",
     "text": [
      "The Caves of Steel             ['Plot introduction', 'Plot summary', 'Characters']\n",
      "The Death Dealers              ['Plot summary', 'Background science', 'Characters']\n",
      "Murder at the ABA              ['Origins', 'Plot outline', 'Characters']\n",
      "The Naked Sun                  ['Plot']\n",
      "The Robots of Dawn             ['Plot summary', 'Characters']\n",
      "The Caves of Steel             ['Plot introduction', 'Plot summary', 'Characters']\n",
      "The Currents of Space          ['Plot summary']\n",
      "David Starr, Space Ranger      ['Plot summary', 'Themes']\n",
      "The End of Eternity            ['Plot', 'Concepts', 'Major characters', 'Origins']\n",
      "Fantastic Voyage               ['Plot', 'Similarly themed works']\n",
      "Fantastic Voyage II: Destination Brain ['Conception', 'Plot']\n",
      "Forward the Foundation         ['Plot']\n",
      "Foundation (Asimov novel)      ['Origin and early publication history', 'Background', 'Plot summary', 'Characters']\n",
      "Foundation and Earth           ['Plot introduction', 'Plot summary']\n",
      "Foundation and Empire          ['Plot summary', 'Characters']\n",
      "Foundation's Edge              ['Plot summary']\n",
      "The Gods Themselves            ['Plot summary']\n",
      "Lucky Starr and the Big Sun of Mercury ['Plot summary', 'Themes']\n",
      "Lucky Starr and the Moons of Jupiter ['Plot summary', 'Themes']\n",
      "Lucky Starr and the Oceans of Venus ['Plot summary', 'Themes']\n",
      "Lucky Starr and the Pirates of the Asteroids ['Plot summary', 'Themes']\n",
      "Lucky Starr and the Rings of Saturn ['Plot summary', 'Themes']\n",
      "Lucky Starr series             []\n",
      "The Naked Sun                  ['Plot']\n",
      "Nemesis (Asimov novel)         ['Plot summary', 'Major characters']\n",
      "Nightfall (Asimov novelette and novel) ['Background', 'Plot summary']\n",
      "Norby, the Mixed-Up Robot      ['Plot summary']\n",
      "Pebble in the Sky              ['Story background', 'Plot summary']\n",
      "The Positronic Man             ['Plot summary']\n",
      "Prelude to Foundation          ['Plot summary', 'Characters']\n",
      "Robots and Empire              ['Plot summary']\n",
      "The Robots of Dawn             ['Plot summary', 'Characters']\n",
      "Second Foundation              ['Plot summary']\n",
      "The Stars, Like Dust           ['Plot']\n",
      "The Ugly Little Boy            ['Plot summary', 'Original ending']\n"
     ]
    }
   ],
   "source": [
    "def check_section_title(title):\n",
    "    return bool(re.search('plot|'\n",
    "                          'character|'\n",
    "                          'summary|'\n",
    "                          'topic|'\n",
    "                          'theme|'\n",
    "                          'summari|'\n",
    "                          'background|'\n",
    "                          'origin|'\n",
    "                          'introduction|'\n",
    "                          'concept|'\n",
    "                          'symbol', title.lower()))\n",
    "                \n",
    "for p in pages:\n",
    "    print(f'{p.title:30}', [s.title for s in p.sections if check_section_title(s.title)])\n"
   ]
  },
  {
   "cell_type": "code",
   "execution_count": 123,
   "metadata": {},
   "outputs": [
    {
     "name": "stdout",
     "output_type": "stream",
     "text": [
      "337\n",
      "179\n",
      "211\n",
      "53\n"
     ]
    }
   ],
   "source": [
    "print(len(STOPWORDS))\n",
    "print(len(stopwords.words('english')))\n",
    "print(len(set(STOPWORDS) - set(stopwords.words('english'))))\n",
    "print(len(set(stopwords.words('english')) - set(STOPWORDS)))"
   ]
  },
  {
   "cell_type": "code",
   "execution_count": 15,
   "metadata": {},
   "outputs": [
    {
     "name": "stdout",
     "output_type": "stream",
     "text": [
      "390\n"
     ]
    }
   ],
   "source": [
    "STOPWORDS_ALL = set(STOPWORDS).union(set(stopwords.words('english')))\n",
    "print(len(STOPWORDS_ALL))"
   ]
  },
  {
   "cell_type": "code",
   "execution_count": 74,
   "metadata": {},
   "outputs": [],
   "source": [
    "from nltk.corpus import wordnet as wn\n",
    "\n",
    "# import spacy\n",
    "# spacy.load('en')\n",
    "# from spacy.lang.en import English\n",
    "# parser = English()\n",
    "\n",
    "def get_lemma(word):\n",
    "    lemma = wn.morphy(word)\n",
    "    if lemma is None:\n",
    "        return word\n",
    "    else:\n",
    "        return lemma\n",
    "    \n",
    "# from nltk.stem import WordNetLemmatizer \n",
    "  \n",
    "# lemmatizer = WordNetLemmatizer() \n",
    "    \n",
    "def clean_text(text):\n",
    "    tokens = word_tokenize(text.lower())\n",
    "    clean_tokens = [t for t in tokens if (\n",
    "        t not in STOPWORDS_ALL and\n",
    "        len(t) > 2)]\n",
    "#         re.match('[a-zA-Z\\-]{3,}', t)\n",
    "#         re.match('[a-zA-Z\\-][a-zA-Z\\-]{2,}', t)\n",
    "#     )]\n",
    "    token_lemmas = [get_lemma(token) for token in clean_tokens]\n",
    "    return token_lemmas\n",
    "\n",
    "def clean_text2(text):\n",
    "    lda_tokens = []\n",
    "    tokens = parser(text)\n",
    "    for token in tokens:\n",
    "        if token.orth_.isspace():\n",
    "            continue\n",
    "        elif token.like_url:\n",
    "            lda_tokens.append('URL')\n",
    "        elif token.orth_.startswith('@'):\n",
    "            lda_tokens.append('SCREEN_NAME')\n",
    "        else:\n",
    "            lda_tokens.append(token.lower_)\n",
    "            \n",
    "    token_lemmas = [get_lemma(token) for token in lda_tokens]\n",
    "#     return lda_tokens \n",
    "    return token_lemmas\n",
    "\n",
    "def select_and_clean_text(page):\n",
    "    tokens = []\n",
    "    for section in page.sections:\n",
    "        if check_section_title(section.title):\n",
    "            print(page.title, section.title)\n",
    "            tokens += clean_text(section.text)\n",
    "    print('='*50)\n",
    "    print(page.title)\n",
    "    return tokens"
   ]
  },
  {
   "cell_type": "code",
   "execution_count": 104,
   "metadata": {},
   "outputs": [
    {
     "data": {
      "text/plain": [
       "Section: Part I: Search By the Mule (2):\n",
       "Part I is about The Mule's search for the elusive Second Foundation, with the intent of destroying it. The executive council of the Second Foundation is aware of The Mule's intent and, in the words of the First Speaker, allows him to find it—\"in a sense\". The Mule sends two of his men on a search for the Second Foundation: Han Pritcher, who had once been a captain and a member of the underground opposition prior to being Converted to the Mule's service, and Bail Channis, an \"Unconverted\" man (one that hasn't been mind-manipulated by the Mule to join him) who has quickly risen through the ranks and impressed The Mule.\n",
       "Channis reveals his suspicions about the Second Foundation being located on the planet Tazenda, and takes the ship there. They first land on Rossem, a barren planet controlled by Tazenda, and meet with its governor, who appears ordinary. Once they return to the ship, Pritcher confronts Channis and believes him to have been too successful with the search. The Mule, who had placed a hyper-relay on their ship in order to trace them through hyper-space, appears, and reveals that Channis is a Second Foundationer. Pritcher's emotional bonds to the Mule are broken in the ensuing exchange between Channis and the Mule, and is made to fall into deep sleep. With only the two of them left, the Mule reveals that he has brought his ships to Tazenda and has already destroyed the planet, and yet senses that Channis's dismay is only pretense. He forces Channis to reveal that Rossem is actually the Second Foundation, and that Tazenda is only a figurehead.\n",
       "The First Speaker for the Second Foundation appears and reveals to the Mule that his rule is over; neither Tazenda nor Rossem is the Second Foundation, and Channis's knowledge had been falsely implanted to mislead the Mule. Second Foundation agents are headed to Kalgan and the Foundation worlds to undo the Conversions of the Mule, and his fleet is too far away to prevent it. When the Mule experiences a moment of despair, the First Speaker is able to seize control of and change his mind; he will return to Kalgan and live out the rest of his short life as a benevolent despot.\n",
       "Search by the Mule was originally published in the January 1948 issue of Astounding Science Fiction under the title \"Now You See It—\".\n",
       "Subsections (0):"
      ]
     },
     "execution_count": 104,
     "metadata": {},
     "output_type": "execute_result"
    }
   ],
   "source": [
    "pages[32].sections[0].sections[0]"
   ]
  },
  {
   "cell_type": "code",
   "execution_count": 56,
   "metadata": {
    "collapsed": true
   },
   "outputs": [
    {
     "name": "stdout",
     "output_type": "stream",
     "text": [
      "['cave', 'steel', 'science', 'fiction', 'novel', 'american', 'writer', 'isaac', 'asimov', 'detective']\n",
      "The Caves of Steel Plot introduction\n",
      "The Caves of Steel Plot summary\n",
      "The Caves of Steel Characters\n",
      "==================================================\n",
      "The Caves of Steel\n",
      "['novel', 'isaac', 'asimov', 'introduce', 'elijah', 'baley', 'daneel', 'olivaw', 'later', 'favorite', 'protagonist', 'live', 'roughly', 'millennium', 'earth', 'future', 'time', 'hyperspace', 'travel', 'discover', 'world', 'relatively', 'close', 'earth', 'colonized—fifty', 'planet', 'know', 'spacer', 'world', 'spacer', 'world', 'rich', 'low', 'population', 'density', 'average', 'population', 'million', 'use', 'robot', 'labor', 'heavily', 'earth', 'overpopulate', 'total', 'population', 'billion', 'times', 'asimov', '1950s', 'strict', 'rule', 'robot', 'pass', 'cave', 'steel', 'sequel', 'naked', 'sun', 'asimov', 'paint', 'grim', 'situation', 'earth', 'dealing', 'extremely', 'large', 'population', 'luxury-seeking', 'spacers', 'limit', 'birth', 'permit', 'great', 'wealth', 'privacy', 'asimov', 'describe', 'claustrophile', 'write', 'novel', '1953', 'picture', 'world', 'live', 'underground', 'city', 'comfortably', 'enclose', 'away', 'open', 'air', 'people', \"'how\", 'imagine', 'nightmarish', 'situation', 'answer', 'astonishment', \"'what\", 'nightmarish', 'situation', 'cave', 'steel', 'vast', 'city', 'complex', 'cover', 'huge', 'metal', 'dome', 'capable', 'supporting', 'ten', 'million', 'new', 'york', 'city', 'era', 'story', 'set', 'encompass', 'present-day', 'new', 'york', 'city', 'large', 'tract', 'new', 'jersey', 'asimov', 'imago', 'present', 'day', 'underground', 'transit', 'connect', 'mall', 'apartment', 'block', 'exit', 'dome', 'population', 'suffer', 'extreme', 'agoraphobia', 'robot', 'foundation', 'series', 'consider', 'fictional', 'universe', 'later', 'cave', 'steel', 'resemble', 'planet', 'trantor', 'book', 'central', 'crime', 'murder', 'take', 'place', 'novel', 'open', 'asimovian', 'trademark', 'attribute', 'squeamishness', 'john', 'campbell', 'advice', 'beginning', 'late', 'story', 'possible', 'victim', 'roj', 'nemmenuh', 'sarton', 'spacer', 'ambassador', 'life', 'spacetown', 'spacer', 'outpost', 'outside', 'new', 'york', 'city', 'time', 'try', 'convince', 'earth', 'government', 'loosen', 'anti-robot', 'restriction', 'morning', 'discover', 'outside', 'home', 'chest', 'implode', 'energy', 'blaster', 'new', 'york', 'police', 'commissioner', 'charge', 'elijah', 'finding', 'murderer', 'cooperation', 'highly', 'advance', 'robot', 'name', 'daneel', 'olivaw', 'visually', 'identical', 'human', 'equip', 'scanner', 'able', 'detect', 'human', 'emotion', 'encephalographic', 'wave', 'faction', 'spacers', 'come', 'realization', 'spacer', 'culture', 'stagnate', 'negative', 'population', 'growth', 'longevity', 'feel', 'solution', 'encourage', 'space', 'exploration', 'colonization', 'earthman', 'concert', 'robot', 'earthman', 'need', 'overcome', 'antagonism', 'robot', 'end', 'establish', 'habitation', 'earth', 'hope', 'introduce', 'humanoid', 'robot', 'earth', 'new', 'york', 'city', 'police', 'commissioner', 'julius', 'enderby', 'secretly', 'member', 'medievalists', 'subversive', 'anti-robot', 'group', 'pine', \"'olden\", 'days', 'men', 'live', \"'caves\", 'steel', 'use', 'position', 'engineer', 'meeting', 'spacer', 'dr.', 'sarton', 'guise', 'cooperation', 'actually', 'intend', 'destroy', 'daneel', 'life', 'resemble', 'dr.', 'sarton', 'enderby', 'order', 'sammy', 'bring', 'blaster', 'unmonitored', \"'open\", 'air', 'earthman', 'countenance', 'heat', 'moment', 'enderby', 'drop', 'glasses', 'fail', 'distinguish', 'human', 'robot', 'accidentally', 'shooting', 'human', 'knowing', 'baley', 'wife', 'medievalist', 'assign', 'baley', 'case', 'working', 'daneel', 'represent', 'spacers', 'spread', 'rumour', 'humanoid', 'robot', 'subversive', 'throw', 'suspicion', 'baley', 'enderby', 'later', 'destroy', 'sammy', 'radiation', 'furthermore', 'daneel', 'rule', 'enderby', 'murderer', 'brain', 'pattern', 'incapable', 'deliberately', 'killing', 'novel', 'follow', 'baley', 'olivaw', 'baley', 'begin', 'suspect', 'olivaw', 'prove', 'wrong', 'twice', 'olivaw', 'gradually', 'learn', 'earth', 'humans', 'start', 'display', 'curiosity', 'aspect', 'human', 'behaviour', 'earth', 'technology', 'investigation', 'baley', 'make', 'visit', 'spacetown', 'meet', 'dr.', 'fastolfe', 'inject', 'mildly', 'suggestive', 'drug', 'speaking', 'relative', 'merit', 'shortcoming', 'earth', 'spacer', 'society', 'baley', 'convert', 'cause', 'spreading', 'humanity', 'galaxy', 'spacers', 'deem', 'baley', 'inadequate', 'convert', 'earthman', 'target', 'baley', 'arrest', 'clousarr', 'suspicion', 'incite', 'riot', 'olivaw', 'provide', 'suggestive', 'statement', 'job', 'accomplish', 'spacers', 'plan', 'leave', 'earth', 'continue', 'presence', 'detriment', 'cause', 'accept', 'dr.', 'sarton', 'unsolved', 'death', 'necessary', 'sacrifice', 'leaf', 'baley', 'ninety', 'minutes', 'killer', 'convince', 'clear', 'destruction', 'sammy', 'baley', 'flash', 'inspiration', 'connect', 'enderby', 'emotional', 'high', 'low', 'close', 'far', 'away', 'baley', 'solving', 'murder', 'obtain', 'recording', 'crime', 'scene', 'manage', 'demonstrate', 'fragment', 'enderby', 'glasses', 'remain', 'situ', 'given', 'spacers', 'accept', 'sarton', 'death', 'unsolved', 'willing', 'prosecute', 'enderby', 'accident', 'agree', 'work', 'promote', 'colonization', 'world', 'medievalists', 'recur', 'theme', 'tension', 'baley', 'wife', 'jessie', 'jezebel', 'resentment', 'baley', 'explain', 'biblical', 'jezebel', 'story', 'misinterpret', 'stifling', 'fantasy', 'list', 'major', 'minor', 'character', 'book', 'order', 'appearance', 'plot', 'elijah', 'lije', 'baley', 'plain-clothes', 'police', 'officer', 'works', 'earth', 'call', 'solve', 'murder', 'vince', 'barrett', 'young', 'man', 'job', 'take', 'sammy', 'sammy', 'robot', 'assign', 'police', 'department', 'julius', 'enderby', 'new', 'york', 'city', 'commissioner', 'police', 'assign', 'baley', 'murder', 'case', 'jezebel', 'jessie', 'navodny', 'baley', 'baley', 'wife', 'roj', 'nemennuh', 'sarton', 'spacer', 'roboticist', 'murder', 'blaster', 'baley', 'assign', 'investigate', 'death', 'daneel', 'olivaw', 'baley', 'partner', 'humaniform', 'robot', 'create', 'sarton', 'likeness', 'bentley', 'baley', 'baley', 'son', 'han', 'fastolfe', 'roboticist', 'aurora', 'spacer', 'world', 'belief', 'spacers', 'earth', 'dweller', 'work', 'colonize', 'galaxy', 'survive', 'future', 'dr.', 'anthony', 'gerrigel', 'roboticist', 'washington', 'baley', 'call', 'francis', 'clousarr', 'new', 'yorker', 'arrest', 'incite', 'riot', 'robot', 'years', 'ago', 'daneel', 'identify', 'present', 'incident']\n",
      "['novel', 'isaac', 'asimov', 'introduce', 'elijah', 'baley', 'daneel', 'olivaw', 'later', 'favorite']\n"
     ]
    }
   ],
   "source": [
    "print(clean_text(pages[0].text)[:10])\n",
    "\n",
    "# print(pages[0].text)\n",
    "# print(pages[0].sections[0])\n",
    "print(select_and_clean_text(pages[0])[:10])"
   ]
  },
  {
   "cell_type": "code",
   "execution_count": 57,
   "metadata": {},
   "outputs": [
    {
     "name": "stdout",
     "output_type": "stream",
     "text": [
      "['rock', 'corpus', 'better', None]\n",
      "['rock', 'corpus', 'better', 'asdasdasd']\n"
     ]
    }
   ],
   "source": [
    "# print([lemmatizer.lemmatize(s) for s in ['rocks', 'corpora', 'better', 'asdasdasd']])\n",
    "print([wn.morphy(s) for s in ['rocks', 'corpora', 'better', 'asdasdasd']])\n",
    "print([get_lemma(s) for s in ['rocks', 'corpora', 'better', 'asdasdasd']])"
   ]
  },
  {
   "cell_type": "code",
   "execution_count": 75,
   "metadata": {},
   "outputs": [
    {
     "name": "stdout",
     "output_type": "stream",
     "text": [
      "The Caves of Steel Plot introduction\n",
      "The Caves of Steel Plot summary\n",
      "The Caves of Steel Characters\n",
      "==================================================\n",
      "The Caves of Steel\n",
      "The Death Dealers Plot summary\n",
      "The Death Dealers Background science\n",
      "The Death Dealers Characters\n",
      "==================================================\n",
      "The Death Dealers\n",
      "Murder at the ABA Origins\n",
      "Murder at the ABA Plot outline\n",
      "Murder at the ABA Characters\n",
      "==================================================\n",
      "Murder at the ABA\n",
      "The Naked Sun Plot\n",
      "==================================================\n",
      "The Naked Sun\n",
      "The Robots of Dawn Plot summary\n",
      "The Robots of Dawn Characters\n",
      "==================================================\n",
      "The Robots of Dawn\n",
      "The Caves of Steel Plot introduction\n",
      "The Caves of Steel Plot summary\n",
      "The Caves of Steel Characters\n",
      "==================================================\n",
      "The Caves of Steel\n",
      "The Currents of Space Plot summary\n",
      "==================================================\n",
      "The Currents of Space\n",
      "David Starr, Space Ranger Plot summary\n",
      "David Starr, Space Ranger Themes\n",
      "==================================================\n",
      "David Starr, Space Ranger\n",
      "The End of Eternity Plot\n",
      "The End of Eternity Concepts\n",
      "The End of Eternity Major characters\n",
      "The End of Eternity Origins\n",
      "==================================================\n",
      "The End of Eternity\n",
      "Fantastic Voyage Plot\n",
      "Fantastic Voyage Similarly themed works\n",
      "==================================================\n",
      "Fantastic Voyage\n",
      "Fantastic Voyage II: Destination Brain Conception\n",
      "Fantastic Voyage II: Destination Brain Plot\n",
      "==================================================\n",
      "Fantastic Voyage II: Destination Brain\n",
      "Forward the Foundation Plot\n",
      "==================================================\n",
      "Forward the Foundation\n",
      "Foundation (Asimov novel) Origin and early publication history\n",
      "Foundation (Asimov novel) Background\n",
      "Foundation (Asimov novel) Plot summary\n",
      "Foundation (Asimov novel) Characters\n",
      "==================================================\n",
      "Foundation (Asimov novel)\n",
      "Foundation and Earth Plot introduction\n",
      "Foundation and Earth Plot summary\n",
      "==================================================\n",
      "Foundation and Earth\n",
      "Foundation and Empire Plot summary\n",
      "Foundation and Empire Characters\n",
      "==================================================\n",
      "Foundation and Empire\n",
      "Foundation's Edge Plot summary\n",
      "==================================================\n",
      "Foundation's Edge\n",
      "The Gods Themselves Plot summary\n",
      "==================================================\n",
      "The Gods Themselves\n",
      "Lucky Starr and the Big Sun of Mercury Plot summary\n",
      "Lucky Starr and the Big Sun of Mercury Themes\n",
      "==================================================\n",
      "Lucky Starr and the Big Sun of Mercury\n",
      "Lucky Starr and the Moons of Jupiter Plot summary\n",
      "Lucky Starr and the Moons of Jupiter Themes\n",
      "==================================================\n",
      "Lucky Starr and the Moons of Jupiter\n",
      "Lucky Starr and the Oceans of Venus Plot summary\n",
      "Lucky Starr and the Oceans of Venus Themes\n",
      "==================================================\n",
      "Lucky Starr and the Oceans of Venus\n",
      "Lucky Starr and the Pirates of the Asteroids Plot summary\n",
      "Lucky Starr and the Pirates of the Asteroids Themes\n",
      "==================================================\n",
      "Lucky Starr and the Pirates of the Asteroids\n",
      "Lucky Starr and the Rings of Saturn Plot summary\n",
      "Lucky Starr and the Rings of Saturn Themes\n",
      "==================================================\n",
      "Lucky Starr and the Rings of Saturn\n",
      "==================================================\n",
      "Lucky Starr series\n",
      "The Naked Sun Plot\n",
      "==================================================\n",
      "The Naked Sun\n",
      "Nemesis (Asimov novel) Plot summary\n",
      "Nemesis (Asimov novel) Major characters\n",
      "==================================================\n",
      "Nemesis (Asimov novel)\n",
      "Nightfall (Asimov novelette and novel) Background\n",
      "Nightfall (Asimov novelette and novel) Plot summary\n",
      "==================================================\n",
      "Nightfall (Asimov novelette and novel)\n",
      "Norby, the Mixed-Up Robot Plot summary\n",
      "==================================================\n",
      "Norby, the Mixed-Up Robot\n",
      "Pebble in the Sky Story background\n",
      "Pebble in the Sky Plot summary\n",
      "==================================================\n",
      "Pebble in the Sky\n",
      "The Positronic Man Plot summary\n",
      "==================================================\n",
      "The Positronic Man\n",
      "Prelude to Foundation Plot summary\n",
      "Prelude to Foundation Characters\n",
      "==================================================\n",
      "Prelude to Foundation\n",
      "Robots and Empire Plot summary\n",
      "==================================================\n",
      "Robots and Empire\n",
      "The Robots of Dawn Plot summary\n",
      "The Robots of Dawn Characters\n",
      "==================================================\n",
      "The Robots of Dawn\n",
      "Second Foundation Plot summary\n",
      "==================================================\n",
      "Second Foundation\n",
      "The Stars, Like Dust Plot\n",
      "==================================================\n",
      "The Stars, Like Dust\n",
      "The Ugly Little Boy Plot summary\n",
      "The Ugly Little Boy Original ending\n",
      "==================================================\n",
      "The Ugly Little Boy\n"
     ]
    }
   ],
   "source": [
    "tokenized_data = []\n",
    "for p in pages:\n",
    "    tokenized_data.append(select_and_clean_text(p))"
   ]
  },
  {
   "cell_type": "code",
   "execution_count": 76,
   "metadata": {},
   "outputs": [
    {
     "data": {
      "text/plain": [
       "[('Foundation and Empire', [], 14),\n",
       " ('Lucky Starr series', [], 22),\n",
       " ('Second Foundation', [], 32)]"
      ]
     },
     "execution_count": 76,
     "metadata": {},
     "output_type": "execute_result"
    }
   ],
   "source": [
    "list(filter(lambda x: len(x[1]) == 0, zip([p.title for p in pages], tokenized_data, range(len(pages)))))"
   ]
  },
  {
   "cell_type": "code",
   "execution_count": 39,
   "metadata": {},
   "outputs": [
    {
     "data": {
      "text/plain": [
       "['Plot summary',\n",
       " 'Reception',\n",
       " 'The organization',\n",
       " 'References',\n",
       " 'Sources',\n",
       " 'External links']"
      ]
     },
     "execution_count": 39,
     "metadata": {},
     "output_type": "execute_result"
    }
   ],
   "source": [
    "[s.title for s in pages[32].sections]"
   ]
  },
  {
   "cell_type": "code",
   "execution_count": 79,
   "metadata": {},
   "outputs": [
    {
     "name": "stdout",
     "output_type": "stream",
     "text": [
      "[(13, 3), (18, 1), (19, 2)]\n",
      "['able', 'actually', 'adapt']\n"
     ]
    }
   ],
   "source": [
    "# Build a Dictionary - association word to numeric id\n",
    "id2word = corpora.Dictionary(tokenized_data)\n",
    " \n",
    "# Transform the collection of texts to a numerical form\n",
    "corpus = [id2word.doc2bow(text) for text in tokenized_data]\n",
    " \n",
    "# Have a look at how the 4th document looks like: [(word_id, count), ...]\n",
    "# (only the first three words)\n",
    "example_corpus = corpus[3][:3]\n",
    "print(example_corpus)\n",
    "print([id2word[i] for i, _ in example_corpus])"
   ]
  },
  {
   "cell_type": "code",
   "execution_count": 80,
   "metadata": {},
   "outputs": [
    {
     "name": "stdout",
     "output_type": "stream",
     "text": [
      "[(0, 1), (1, 1), (2, 1), (3, 1), (4, 1)]\n",
      "[\"'caves\", \"'how\", \"'olden\", \"'open\", \"'ve\", \"'what\", '1950s', '1953', '1954', '1964', '1989', '2004', '2016', 'able', 'accept', 'accident', 'accidentally', 'accomplish', 'actually', 'adapt', 'adaptation', 'advance', 'advice', 'ago', 'agoraphobia', 'agree', 'air', 'akiva', 'ambassador', 'answer', 'antagonism', 'anthony', 'anti-robot', 'apartment', 'appearance', 'archive', 'arrest', 'asimov', 'asimovian', 'aspect', 'assign', 'astonishment', 'attempt', 'attribute', 'aurora', 'average', 'award', 'away', 'background', 'baley', 'barrett', 'bbc', 'begin', 'beginning', 'behaviour', 'belief', 'bentley', 'bert', 'best', 'biblical', 'billion', 'birth', 'bishop', 'blaster', 'block', 'book', 'boucher', 'brain', 'bring', 'bureaucratically', 'call', 'campbell', 'capable', 'case', 'cause', 'cave', 'central', 'character', 'charge', 'chest', 'city', 'claustrophile', 'clear', 'close', 'clousarr', 'colonization', 'colonize', 'colonized—fifty', 'combination', 'combine', 'come', 'comfortably', 'commissioner', 'complex', 'concert', 'conklin', 'connect', 'consider', 'consume', 'continue']\n"
     ]
    }
   ],
   "source": [
    "print(id2word.doc2bow(tokenized_data[0])[:5])\n",
    "print([id2word[i] for i in range(100)])"
   ]
  },
  {
   "cell_type": "code",
   "execution_count": 81,
   "metadata": {
    "scrolled": true
   },
   "outputs": [],
   "source": [
    "NUM_TOPICS = 3\n",
    "\n",
    "# Build the LDA model\n",
    "lda_model = models.LdaModel(corpus=corpus, num_topics=NUM_TOPICS, id2word=id2word)\n",
    " \n",
    "# Build the LSI model\n",
    "# lsi_model = models.LsiModel(corpus=corpus, num_topics=NUM_TOPICS, id2word=id2word)"
   ]
  },
  {
   "cell_type": "code",
   "execution_count": 82,
   "metadata": {},
   "outputs": [
    {
     "name": "stdout",
     "output_type": "stream",
     "text": [
      "[(0, 0.99767035)]\n"
     ]
    }
   ],
   "source": [
    "text = tokenized_data[1]\n",
    "bow = id2word.doc2bow(text)\n",
    " \n",
    "# print(lsi_model[bow])\n",
    "print(lda_model[bow])"
   ]
  },
  {
   "cell_type": "code",
   "execution_count": 83,
   "metadata": {
    "scrolled": true
   },
   "outputs": [
    {
     "name": "stdout",
     "output_type": "stream",
     "text": [
      "LDA Model:\n",
      "[(0,\n",
      "  '0.009*\"baley\" + 0.008*\"earth\" + 0.008*\"starr\" + 0.007*\"robot\" + '\n",
      "  '0.006*\"asimov\" + 0.005*\"novel\" + 0.005*\"foundation\" + 0.004*\"time\" + '\n",
      "  '0.003*\"world\" + 0.003*\"write\"'),\n",
      " (1,\n",
      "  '0.009*\"asimov\" + 0.008*\"robot\" + 0.008*\"baley\" + 0.007*\"starr\" + '\n",
      "  '0.006*\"novel\" + 0.006*\"earth\" + 0.006*\"story\" + 0.004*\"time\" + 0.004*\"book\" '\n",
      "  '+ 0.004*\"foundation\"'),\n",
      " (2,\n",
      "  '0.009*\"robot\" + 0.009*\"asimov\" + 0.008*\"starr\" + 0.008*\"novel\" + '\n",
      "  '0.006*\"book\" + 0.006*\"earth\" + 0.005*\"story\" + 0.005*\"foundation\" + '\n",
      "  '0.004*\"fiction\" + 0.004*\"seldon\"')]\n",
      "====================\n"
     ]
    }
   ],
   "source": [
    "print(\"LDA Model:\")\n",
    "\n",
    "# Print the Keyword in all topics\n",
    "\n",
    "pprint(lda_model.print_topics())\n",
    "doc_lda = lda_model[corpus]\n",
    "\n",
    "print(\"=\" * 20)\n",
    " \n",
    "# print(\"LSI Model:\")\n",
    " \n",
    "# pprint(lsi_model.print_topics())\n",
    "# doc_lsi = lsi_model[corpus]\n",
    "    \n",
    "# print(\"=\" * 20)"
   ]
  },
  {
   "cell_type": "code",
   "execution_count": 84,
   "metadata": {},
   "outputs": [
    {
     "name": "stdout",
     "output_type": "stream",
     "text": [
      "[[(0, 0.99895793)], [(0, 0.9976705)], [(2, 0.9971428)], [(1, 0.010094799), (2, 0.98915887)], [(1, 0.9987263)], [(0, 0.99895805)], [(2, 0.9979732)], [(0, 0.99893624)], [(2, 0.9916454)], [(1, 0.015623452), (2, 0.9840673)], [(1, 0.087184444), (2, 0.91129506)], [(2, 0.99629533)], [(2, 0.99669194)], [(0, 0.82272005), (1, 0.026507914), (2, 0.15077206)], [(2, 0.99412894)], [(0, 0.026046062), (1, 0.13702397), (2, 0.83693)], [(1, 0.9687337), (2, 0.030332271)], [(2, 0.9985265)], [(2, 0.99762684)], [(2, 0.9964418)], [(1, 0.9987057)], [(2, 0.9988942)], [(2, 0.9966055)], [(2, 0.99020594)], [(0, 0.9980357)], [(1, 0.3650811), (2, 0.6344041)], [(2, 0.9969212)], [(2, 0.9989096)], [(2, 0.9966111)], [(2, 0.9985781)], [(1, 0.90264976), (2, 0.09663812)], [(1, 0.9987262)], [(2, 0.9969156)], [(1, 0.0122757405), (2, 0.9870892)], [(1, 0.9984863)]]\n"
     ]
    }
   ],
   "source": [
    "print([a for a in doc_lda])"
   ]
  },
  {
   "cell_type": "code",
   "execution_count": 85,
   "metadata": {},
   "outputs": [
    {
     "name": "stdout",
     "output_type": "stream",
     "text": [
      "[(2, 0.9926275)]\n",
      "[(2, 0.99147034)]\n",
      "[(1, 0.011284761), (2, 0.9879689)]\n"
     ]
    }
   ],
   "source": [
    "i = 3\n",
    "print([a for a in lda_model[corpus][i]])\n",
    "print([a for a in lda_model[corpus[i]]])\n",
    "print([a for a in lda_model[corpus]][i])"
   ]
  },
  {
   "cell_type": "code",
   "execution_count": 86,
   "metadata": {},
   "outputs": [],
   "source": [
    "titles = [p.title for p in pages]"
   ]
  },
  {
   "cell_type": "code",
   "execution_count": 87,
   "metadata": {},
   "outputs": [
    {
     "data": {
      "text/plain": [
       "[([0], 'The Caves of Steel'),\n",
       " ([0], 'The Death Dealers'),\n",
       " ([2], 'Murder at the ABA'),\n",
       " ([2], 'The Naked Sun'),\n",
       " ([1], 'The Robots of Dawn'),\n",
       " ([0], 'The Caves of Steel'),\n",
       " ([2], 'The Currents of Space'),\n",
       " ([0], 'David Starr, Space Ranger'),\n",
       " ([2], 'The End of Eternity'),\n",
       " ([1, 2], 'Fantastic Voyage'),\n",
       " ([1, 2], 'Fantastic Voyage II: Destination Brain'),\n",
       " ([2], 'Forward the Foundation'),\n",
       " ([2], 'Foundation (Asimov novel)'),\n",
       " ([0, 1, 2], 'Foundation and Earth'),\n",
       " ([2], 'Foundation and Empire'),\n",
       " ([0, 1, 2], \"Foundation's Edge\"),\n",
       " ([1, 2], 'The Gods Themselves'),\n",
       " ([2], 'Lucky Starr and the Big Sun of Mercury'),\n",
       " ([2], 'Lucky Starr and the Moons of Jupiter'),\n",
       " ([2], 'Lucky Starr and the Oceans of Venus'),\n",
       " ([1], 'Lucky Starr and the Pirates of the Asteroids'),\n",
       " ([2], 'Lucky Starr and the Rings of Saturn'),\n",
       " ([2], 'Lucky Starr series'),\n",
       " ([1, 2], 'The Naked Sun'),\n",
       " ([0], 'Nemesis (Asimov novel)'),\n",
       " ([1, 2], 'Nightfall (Asimov novelette and novel)'),\n",
       " ([2], 'Norby, the Mixed-Up Robot'),\n",
       " ([2], 'Pebble in the Sky'),\n",
       " ([2], 'The Positronic Man'),\n",
       " ([2], 'Prelude to Foundation'),\n",
       " ([1, 2], 'Robots and Empire'),\n",
       " ([1], 'The Robots of Dawn'),\n",
       " ([2], 'Second Foundation'),\n",
       " ([1, 2], 'The Stars, Like Dust'),\n",
       " ([1], 'The Ugly Little Boy')]"
      ]
     },
     "execution_count": 87,
     "metadata": {},
     "output_type": "execute_result"
    }
   ],
   "source": [
    "list(zip([[i for i, _ in a] for a in list(doc_lda)], titles))"
   ]
  },
  {
   "cell_type": "code",
   "execution_count": 344,
   "metadata": {},
   "outputs": [
    {
     "name": "stdout",
     "output_type": "stream",
     "text": [
      "[(1, 1.0), (10, 1.0), (22, 1.0), (33, 1.0), (14, 0.57735026), (32, 0.57735026), (8, 0.32445747), (16, 0.30843654), (6, 0.08668428), (13, 0.011009008), (0, 0.0), (2, 0.0), (3, 0.0), (4, 0.0), (5, 0.0), (7, 0.0), (9, 0.0), (11, 0.0), (12, 0.0), (15, 0.0), (17, 0.0), (18, 0.0), (19, 0.0), (20, 0.0), (21, 0.0), (23, 0.0), (24, 0.0), (25, 0.0), (26, 0.0), (27, 0.0), (28, 0.0), (29, 0.0), (30, 0.0), (31, 0.0), (34, 0.0)]\n"
     ]
    }
   ],
   "source": [
    "from gensim import similarities\n",
    " \n",
    "# basically the calculate the cosine of a given vector with the vectors in lda_model[corpus]\n",
    "lda_index = similarities.MatrixSimilarity(lda_model[corpus])\n",
    " \n",
    "# Let's perform some queries\n",
    "similarities = lda_index[lda_model[bow]]\n",
    "# Sort the similarities\n",
    "similarities = sorted(enumerate(similarities), key=lambda item: -item[1])\n",
    " \n",
    "# Top most similar documents:\n",
    "print(similarities)\n",
    "# It should be itself...\n",
    "\n",
    "\n",
    "# Let's see what's the most similar document\n",
    "document_id, similarity = similarities[0]\n",
    "# print(pages[document_id].text[:1000])\n",
    " "
   ]
  },
  {
   "cell_type": "code",
   "execution_count": 88,
   "metadata": {
    "scrolled": false
   },
   "outputs": [
    {
     "ename": "ModuleNotFoundError",
     "evalue": "No module named 'pyLDAvis'",
     "output_type": "error",
     "traceback": [
      "\u001b[0;31m---------------------------------------------------------------------------\u001b[0m",
      "\u001b[0;31mModuleNotFoundError\u001b[0m                       Traceback (most recent call last)",
      "\u001b[0;32m<ipython-input-88-07671fdee36d>\u001b[0m in \u001b[0;36m<module>\u001b[0;34m()\u001b[0m\n\u001b[0;32m----> 1\u001b[0;31m \u001b[0;32mimport\u001b[0m \u001b[0mpyLDAvis\u001b[0m\u001b[0;34m.\u001b[0m\u001b[0mgensim\u001b[0m\u001b[0;34m\u001b[0m\u001b[0m\n\u001b[0m\u001b[1;32m      2\u001b[0m \u001b[0mlda_display\u001b[0m \u001b[0;34m=\u001b[0m \u001b[0mpyLDAvis\u001b[0m\u001b[0;34m.\u001b[0m\u001b[0mgensim\u001b[0m\u001b[0;34m.\u001b[0m\u001b[0mprepare\u001b[0m\u001b[0;34m(\u001b[0m\u001b[0mlda_model\u001b[0m\u001b[0;34m,\u001b[0m \u001b[0mcorpus\u001b[0m\u001b[0;34m,\u001b[0m \u001b[0mid2word\u001b[0m\u001b[0;34m)\u001b[0m\u001b[0;34m\u001b[0m\u001b[0m\n\u001b[1;32m      3\u001b[0m \u001b[0mpyLDAvis\u001b[0m\u001b[0;34m.\u001b[0m\u001b[0mdisplay\u001b[0m\u001b[0;34m(\u001b[0m\u001b[0mlda_display\u001b[0m\u001b[0;34m)\u001b[0m\u001b[0;34m\u001b[0m\u001b[0m\n",
      "\u001b[0;31mModuleNotFoundError\u001b[0m: No module named 'pyLDAvis'"
     ]
    }
   ],
   "source": [
    "import pyLDAvis.gensim\n",
    "lda_display = pyLDAvis.gensim.prepare(lda_model, corpus, id2word)\n",
    "pyLDAvis.display(lda_display)"
   ]
  },
  {
   "cell_type": "code",
   "execution_count": 184,
   "metadata": {},
   "outputs": [
    {
     "name": "stderr",
     "output_type": "stream",
     "text": [
      "[nltk_data] Downloading package wordnet to\n",
      "[nltk_data]     /Users/adrienbolens/nltk_data...\n",
      "[nltk_data]   Package wordnet is already up-to-date!\n"
     ]
    }
   ],
   "source": [
    "from nltk.stem import WordNetLemmatizer, SnowballStemmer\n",
    "from nltk.stem.porter import *\n",
    "stemmer = PorterStemmer()\n",
    "nltk.download('wordnet')\n",
    "\n",
    "def preprocess(text):\n",
    "    result = []\n",
    "    for token in gensim.utils.simple_preprocess(text):\n",
    "        if token not in STOPWORDS and len(token) > 2:\n",
    "#             result.append(lemmatize_stemming(token))\n",
    "            result.append(token)\n",
    "    return result\n",
    "\n",
    "def lemmatize_stemming(text):\n",
    "    return stemmer.stem(WordNetLemmatizer().lemmatize(text, pos='v'))"
   ]
  },
  {
   "cell_type": "code",
   "execution_count": 147,
   "metadata": {},
   "outputs": [],
   "source": [
    "res = preprocess(pages[0].text)"
   ]
  },
  {
   "cell_type": "code",
   "execution_count": 160,
   "metadata": {},
   "outputs": [
    {
     "data": {
      "text/plain": [
       "<_sre.SRE_Match object; span=(0, 3), match='aad'>"
      ]
     },
     "execution_count": 160,
     "metadata": {},
     "output_type": "execute_result"
    }
   ],
   "source": [
    "re.match('[a-zA-Z\\-][a-zA-Z\\-]{2,}', 'aad')"
   ]
  },
  {
   "cell_type": "code",
   "execution_count": null,
   "metadata": {},
   "outputs": [],
   "source": []
  }
 ],
 "metadata": {
  "kernelspec": {
   "display_name": "Python 3",
   "language": "python",
   "name": "python3"
  },
  "language_info": {
   "codemirror_mode": {
    "name": "ipython",
    "version": 3
   },
   "file_extension": ".py",
   "mimetype": "text/x-python",
   "name": "python",
   "nbconvert_exporter": "python",
   "pygments_lexer": "ipython3",
   "version": "3.6.5"
  }
 },
 "nbformat": 4,
 "nbformat_minor": 2
}

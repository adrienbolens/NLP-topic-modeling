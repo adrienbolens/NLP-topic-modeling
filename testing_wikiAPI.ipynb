{
 "cells": [
  {
   "cell_type": "code",
   "execution_count": 4,
   "metadata": {},
   "outputs": [],
   "source": [
    "# import wikipedia\n",
    "import wikipediaapi\n",
    "wiki_wiki = wikipediaapi.Wikipedia('en')"
   ]
  },
  {
   "cell_type": "code",
   "execution_count": 4,
   "metadata": {},
   "outputs": [
    {
     "data": {
      "text/plain": [
       "['Isaac Asimov',\n",
       " 'Galactic Empire (Isaac Asimov)',\n",
       " 'Foundation series',\n",
       " 'Isaac Asimov book series bibliography',\n",
       " 'Robot series (Asimov)',\n",
       " 'Nightfall (Asimov novelette and novel)',\n",
       " 'Janet Asimov',\n",
       " 'Foundation (Asimov novel)',\n",
       " 'Isaac Asimov bibliography (chronological)',\n",
       " 'The Best of Isaac Asimov']"
      ]
     },
     "execution_count": 4,
     "metadata": {},
     "output_type": "execute_result"
    }
   ],
   "source": [
    "wikipedia.search('Isaac Asimov')"
   ]
  },
  {
   "cell_type": "code",
   "execution_count": 6,
   "metadata": {},
   "outputs": [],
   "source": [
    "page = wikipedia.page('Isaac Asimov')"
   ]
  },
  {
   "cell_type": "code",
   "execution_count": 53,
   "metadata": {},
   "outputs": [
    {
     "data": {
      "text/plain": [
       "'Isaac Asimov'"
      ]
     },
     "execution_count": 53,
     "metadata": {},
     "output_type": "execute_result"
    }
   ],
   "source": [
    "page.title\n",
    "# page.content"
   ]
  },
  {
   "cell_type": "code",
   "execution_count": 11,
   "metadata": {},
   "outputs": [
    {
     "name": "stdout",
     "output_type": "stream",
     "text": [
      "dict_keys(['title', 'original_title', 'pageid', 'url', '_content', '_revision_id', '_parent_id'])\n",
      "dict_keys(['__module__', '__doc__', '__init__', '__repr__', '__eq__', '_WikipediaPage__load', '_WikipediaPage__continued_query', '_WikipediaPage__title_query_param', 'html', 'content', 'revision_id', 'parent_id', 'summary', 'images', 'coordinates', 'references', 'links', 'categories', 'sections', 'section', '__dict__', '__weakref__', '__hash__'])\n"
     ]
    }
   ],
   "source": [
    "print(page.__dict__.keys()\n",
    "print(type(page).__dict__.keys())"
   ]
  },
  {
   "cell_type": "code",
   "execution_count": 54,
   "metadata": {},
   "outputs": [
    {
     "data": {
      "text/plain": [
       "['1920 births',\n",
       " '1992 deaths',\n",
       " '20th-century American male writers',\n",
       " '20th-century American novelists']"
      ]
     },
     "execution_count": 54,
     "metadata": {},
     "output_type": "execute_result"
    }
   ],
   "source": [
    "page.categories[:4]"
   ]
  },
  {
   "cell_type": "code",
   "execution_count": 30,
   "metadata": {},
   "outputs": [
    {
     "data": {
      "text/plain": [
       "['List of American novelists',\n",
       " 'Granta',\n",
       " 'Novelist',\n",
       " 'Robin Cook (American novelist)',\n",
       " 'Will Thomas (novelist)',\n",
       " 'List of novelists by nationality',\n",
       " 'Lists of writers',\n",
       " 'Dale Peck',\n",
       " 'Jean Hegland',\n",
       " 'MacKenzie Bezos']"
      ]
     },
     "execution_count": 30,
     "metadata": {},
     "output_type": "execute_result"
    }
   ],
   "source": [
    "wikipedia.search('American novelists')"
   ]
  },
  {
   "cell_type": "code",
   "execution_count": 45,
   "metadata": {},
   "outputs": [],
   "source": [
    "wikipedia.suggest('science fiction novels')"
   ]
  },
  {
   "cell_type": "code",
   "execution_count": 70,
   "metadata": {},
   "outputs": [],
   "source": [
    "novels_by_writer = wiki_wiki.page(\"Category:Science fiction novels by writer\")\n",
    "# cat = wiki_wiki.page(\"Isaac Asimov\")"
   ]
  },
  {
   "cell_type": "code",
   "execution_count": 77,
   "metadata": {},
   "outputs": [
    {
     "name": "stdout",
     "output_type": "stream",
     "text": [
      "Category:Novels by Paul Edwin Zimmer (id: ??, ns: 14)\n"
     ]
    }
   ],
   "source": [
    "print(cat)\n",
    "# print(novels_by_writer.categorymembers)"
   ]
  },
  {
   "cell_type": "code",
   "execution_count": 172,
   "metadata": {},
   "outputs": [
    {
     "name": "stdout",
     "output_type": "stream",
     "text": [
      "['Writing', 'Plot summary', 'Characters', 'Literary significance and reception', 'Adaptations', 'Inconsistencies with ending', 'References', 'External links']\n",
      "['Synopsis', 'Background', 'Original radio series', 'Novels', 'Omnibus editions', \"Other Hitchhiker's-related books and stories\", 'Television series', 'Radio series three to five', 'Radio series six', 'Film', 'Stage shows', 'Live radio adaptation', 'LP album adaptations', 'Audiobook adaptations', 'Interactive fiction and video games', 'Comic books', '\"Hitch-Hikeriana\"', 'International phenomenon', 'Spelling', 'See also', 'References', 'External links']\n",
      "['Plot summary', 'Illustrated edition', 'In other media', 'Series', 'Legacy', 'Awards', 'See also', 'References', 'External links']\n",
      "['Plot summary', 'Origins', 'References to the sport of cricket', 'Censorship', 'Audiobook adaptations']\n",
      "['Plot summary', 'Adaptations']\n",
      "['Title', 'Adams on Mostly Harmless', 'Plot summary', 'Reception', 'Adaptations', 'Academia and popular culture', 'See also']\n",
      "['Plot summary', 'Audiobook adaptations']\n",
      "['Plot summary', 'Style and themes', 'Literary significance and reception', 'Audiobook adaptations', 'Dedication', 'See also', 'Footnotes', 'External links']\n",
      "[]\n",
      "['Plot introduction', 'Plot summary', 'Reception', 'External links']\n",
      "['Plot introduction', 'Land Art', 'External links']\n",
      "['Plot summary', 'Publishing history', 'Reception', 'References', 'External links']\n",
      "['Synopsis', 'Earth', 'Helliconia', 'Plot summaries', 'References and annotations', 'External links']\n",
      "['Title', 'Plot introduction', 'Plot summary', 'Characters and species', 'Reception', 'Magazine stories', 'Versions and adaptations', 'Sources, references, external links, quotations']\n",
      "['Plot summary', 'Reception']\n",
      "['Plot summary', 'Reception', 'See also', 'References', 'External links']\n",
      "['References', 'External links']\n",
      "['Plot summary', 'Reception', 'External links']\n",
      "['Short stories', 'Plot', 'Reception', 'References', 'Sources', 'External links']\n",
      "['Complete List', 'Sources']\n",
      "['Plot summary']\n",
      "['Main characters', 'Recurring characters', 'People', 'List of books', 'See also', 'References', 'External links']\n",
      "['Characters', 'List of books', 'External links']\n",
      "['List of books']\n",
      "['Plot', 'Characters', 'Inspiration', 'Reception', 'Adaptation', 'References', 'External links']\n",
      "['Characters', 'List of books', 'Plots', 'Notes', 'See also', 'References', 'External links']\n",
      "['Plot summary', 'See also', 'References']\n",
      "[]\n",
      "['Characters', 'References']\n",
      "['Plot', 'Characters', 'Sources', 'External Links']\n",
      "['Plot introduction', 'Plot summary', 'Characters', 'Reception', 'Adaptations', 'References', 'External links']\n",
      "['Plot summary', 'Reception', 'Footnotes', 'Sources', 'External links']\n",
      "['Plot summary', 'Themes', 'Reception', 'References', 'External links']\n",
      "['Plot', 'Concepts', 'Major characters', 'Origins', 'Reception', 'Role in Foundation series', 'Translations', 'Movie adaptations', 'References', 'Sources', 'External links']\n",
      "['Plot', 'Cast', 'Production', 'Biological issues and accuracy', 'Music', 'Reception', 'Novelization', 'Later adaptations', 'Similarly-themed works', 'Cancelled sequel/remake plans', 'See also', 'References', 'External links']\n",
      "['Conception', 'Plot', 'Reception', 'References', 'External links']\n",
      "['Plot', 'References', 'External links']\n",
      "['Origin and early publication history', 'Background', 'Plot summary', 'Characters', 'Reception', 'See also', 'References', 'External links']\n",
      "['Plot introduction', 'Plot summary', 'Unwritten sequel', 'Further notes', 'References', 'External links']\n",
      "['Plot summary', 'Reception', 'Characters', 'Sequels', 'References', 'Sources', 'External links']\n",
      "['Plot summary', 'See also', 'References', 'External links']\n",
      "['Plot summary', \"Asimov's relationship to the story\", 'References to science', 'References', 'External links']\n",
      "['Setting', 'Plot summary', 'Themes', 'External links']\n",
      "['Setting', 'Plot summary', 'Reception', 'Themes', 'References', 'External links']\n",
      "['Setting', 'Plot summary', 'Themes', 'Reception', 'Adaptation', 'References', 'External links']\n",
      "['Plot summary', 'Reception', 'Themes', 'References', 'External links']\n",
      "['Setting', 'Plot summary', 'Themes', 'References', 'External links']\n",
      "['Publishing history', 'Science content', 'References', 'Further reading', 'External links']\n",
      "['Plot', 'Reception', 'Adaptations', 'References', 'External links']\n",
      "['Plot summary', 'Story notes', 'Major characters', 'References', 'External links']\n",
      "['Background', 'Plot summary', 'Setting', 'Adaptations in other media', 'See also', 'References', 'Further reading', 'External links']\n",
      "['Plot summary', 'Audio Version']\n",
      "['Publication history', 'Story background', 'Plot summary', 'Reception', 'Place in the wider Foundation saga', 'Other media', 'References', 'External links']\n",
      "['Plot summary', 'Foundation universe', 'References', 'External links']\n",
      "['Plot summary', 'Characters', 'Influences', 'References', 'External links']\n",
      "['Plot summary', 'Novel', 'References', 'External links']\n",
      "['Plot summary', 'Characters', 'References', 'External links']\n",
      "['Plot summary', 'Reception', 'The organization', 'References', 'Sources', 'External links']\n",
      "['Publication history', 'Context', 'Plot', 'Reception', 'References', 'External links']\n",
      "['Plot summary', 'Television adaptation', 'Novelization', 'Critical View', 'Original ending', 'See also', 'References', 'External links']\n",
      "[]\n",
      "['Plot introduction', 'Plot summary', 'Major themes', 'External links']\n",
      "['Plot introduction', 'Plot summary', 'Characters', 'Major themes', 'Allusions/references to actual history, geography and current science', 'External links']\n",
      "['Plot introduction', 'Plot summary', 'Characters', 'Major themes', 'References', 'External links']\n",
      "['Plot introduction', 'Plot summary', 'Characters', 'Major themes', 'External links']\n",
      "['Plot introduction', 'Plot summary', 'Characters', 'Major themes']\n",
      "['Plot introduction', 'Plot summary', 'Characters', 'Allusions and references to history, geography and current science', 'Reception', 'References', 'External links']\n",
      "['Plot introduction', 'Plot summary', 'Characters', 'Allusions/references to actual history, geography and current science', 'External links']\n",
      "['Plot summary', 'Origins of the title']\n",
      "['Plot summary', 'History', 'Bibliography', 'References', 'External links']\n",
      "['Plot summary', 'Reception', 'Release details', 'See also', 'References', 'External links']\n",
      "['Plot summary', 'Characters', 'History', 'Literary significance and criticism', 'Adaptation', 'Bibliography', 'References', 'External links']\n",
      "['Plot summary', 'Outside Context Problem', 'Literary significance and criticism', 'References', 'External links']\n",
      "['Setting', 'Plot summary', 'Writing style', 'Literary significance and criticism', 'See also', 'References', 'Sources', 'External links']\n",
      "['Background', 'Plot', 'Reception']\n",
      "['Plot', 'References to the Culture', 'Reception', 'Awards', 'Bibliography', 'References', 'External links']\n",
      "['Plot summary', 'Reception', 'Editions', 'References', 'External links']\n",
      "['Creation', 'Synopsis', 'Unused material', 'References', 'External links']\n",
      "['Plot', 'Azad', 'SpaceX tribute', 'Reception', 'Bibliography', 'References', 'External links']\n",
      "['Synopsis', 'Critical reception', 'See also']\n",
      "['Background', 'Plot summary', 'Main characters', 'Reception', 'Unused material', 'References', 'External links']\n",
      "['Plot introduction', 'Plot summary', 'History', 'Reception', 'Commentary', 'See also', 'Bibliography', 'References', 'External links']\n",
      "[]\n",
      "['Plot summary', 'Characters', 'Planets referenced', 'See also', 'External links']\n",
      "['Plot summary', 'Reception']\n",
      "['Plot']\n",
      "['Plot']\n",
      "['Plot summary', 'Characters', 'Planets referenced', 'See also', 'Notes and references', 'External links']\n",
      "['Plot summary', 'External links']\n",
      "['Plot summary', 'Critical reaction']\n",
      "['Plot', 'Reaction']\n",
      "['Summary', 'Characters', 'Planets referenced', 'Reception', 'See also', 'References', 'External links']\n",
      "['Plot summary', 'Characters', 'Planets referenced', 'Literary significance & criticism', 'See also', 'References', 'External links']\n",
      "['Plot summary', 'Vocabulary', 'Fictional Works', 'Tricycle', 'References']\n",
      "['Critical reaction', 'See also']\n",
      "['Plot summary']\n",
      "['Plot summary', 'External links']\n",
      "['Plot summary', 'Critical reception', 'Scientific background', 'See also', 'References', 'External links']\n"
     ]
    },
    {
     "name": "stdout",
     "output_type": "stream",
     "text": [
      "['Plot summary', 'References', 'External links']\n",
      "['Synopsis', 'See also']\n",
      "['Synopsis', 'See also', 'External links']\n",
      "['Plot summary', 'Reception', 'References', 'External links']\n",
      "['Overview', 'Plot summary', 'External links']\n",
      "['Setting', 'Plot summary', 'Reception', 'Notes', 'External links']\n",
      "['Synopsis', '\"Hard science\" basis for novel', 'See also', 'References', 'External links']\n",
      "['Plot introduction', 'Plot summary', 'Characters in Flux', 'See also', 'References', 'External links']\n",
      "['External References']\n",
      "['Plot introduction', 'Literary significance and reception']\n",
      "['Plot', 'Characters', 'Similar themes in literature', 'Release details', 'References', 'External links']\n",
      "['Silverhair', 'Longtusk', 'Icebones', 'Reception', 'References', 'External link']\n",
      "['Plot Summary']\n",
      "['Plot', 'Reception']\n",
      "['Plot summary', 'See also']\n",
      "['Synopsis', 'See also', 'External links']\n",
      "['Reception']\n",
      "['Setting', 'Plot summary', 'References', 'External links']\n",
      "['Plot summary', 'References', 'External links']\n",
      "['Plot summary', 'Characters', 'Reception', 'Awards', 'Publication history', 'Footnotes', 'External links']\n",
      "['Plot summary']\n",
      "['Plot summary', 'Connections to other Clarke works', 'References', 'External links']\n",
      "['Plot summary', 'Characters', 'Style', 'Release details', 'References', 'External links']\n",
      "['Plot summary', 'References to the works of H. G. Wells', 'Awards', 'References', 'External links']\n",
      "['Plot', 'External links']\n",
      "[]\n",
      "['Plot summary', 'Reception', 'References', 'External links']\n",
      "['Plot summary', 'Literary significance and criticism', 'Allusions/references to actual history, geography and current science', 'See also', 'References', 'External links']\n",
      "['Plot summary', 'Publication information', 'References', 'External links']\n",
      "['Plot summary', 'Characters', 'Spinoff', 'References', 'External links']\n",
      "['Plot', 'Historical, scientific and metaphysical basis', 'Sources', 'See also', 'External links']\n",
      "['External links']\n",
      "[]\n",
      "['Literary significance and reception']\n",
      "['Literary significance and reception']\n",
      "['Literary significance and reception', 'References', 'External links']\n",
      "['Literary significance and reception']\n",
      "['Literary significance and reception']\n",
      "['Plot', 'Critical reception']\n",
      "['Literary significance and reception']\n",
      "['Literary significance and reception']\n",
      "['Background', 'Literary significance and reception']\n",
      "['Literary significance and reception']\n",
      "['Literary significance and reception']\n",
      "['Literary significance and reception']\n",
      "['Literary significance and reception']\n",
      "['Literary significance and reception']\n",
      "['Background', 'Literary significance and reception']\n"
     ]
    }
   ],
   "source": [
    "for cat in list(novels_by_writer.categorymembers.keys())[:10]:\n",
    "    novels = wiki_wiki.page(cat)\n",
    "    for novel in list(novels.categorymembers.values())[:]:\n",
    "        print([s.title for s in novel.sections])\n",
    "#         print(novel.namespace)\n",
    "#         print(wikipediaapi.Namespace.CATEGORY)"
   ]
  },
  {
   "cell_type": "code",
   "execution_count": 112,
   "metadata": {},
   "outputs": [
    {
     "data": {
      "text/plain": [
       "The Hitchhiker's Guide to the Galaxy (novel) (id: ??, ns: 0)"
      ]
     },
     "execution_count": 112,
     "metadata": {},
     "output_type": "execute_result"
    }
   ],
   "source": [
    "novel_page.title"
   ]
  },
  {
   "cell_type": "code",
   "execution_count": 132,
   "metadata": {},
   "outputs": [
    {
     "name": "stdout",
     "output_type": "stream",
     "text": [
      "\n"
     ]
    }
   ],
   "source": [
    "print(novels.text)"
   ]
  },
  {
   "cell_type": "code",
   "execution_count": 158,
   "metadata": {},
   "outputs": [
    {
     "name": "stdout",
     "output_type": "stream",
     "text": [
      "*: Category:Novels by Douglas Adams (ns: 14)\n",
      "**: Dirk Gently's Holistic Detective Agency (ns: 0)\n",
      "**: The Hitchhiker's Guide to the Galaxy (ns: 0)\n",
      "*: Category:Novels by Brian Aldiss (ns: 14)\n",
      "**: An Age (ns: 0)\n",
      "**: Earthworks (novel) (ns: 0)\n"
     ]
    }
   ],
   "source": [
    "def print_categorymembers(categorymembers, level=0, max_level=5):\n",
    "    for c in list(categorymembers.values())[:2]:\n",
    "        print(\"{0:s}: {1:s} (ns: {2:d})\".format('*' * (level + 1), c.title, c.ns))\n",
    "        if c.ns == wikipediaapi.Namespace.CATEGORY and level <= max_level:\n",
    "            print_categorymembers(c.categorymembers, level + 1)\n",
    "\n",
    "\n",
    "cat = wiki_wiki.page(\"Category:Science fiction novels by writer\")\n",
    "print_categorymembers(cat.categorymembers)"
   ]
  },
  {
   "cell_type": "code",
   "execution_count": 157,
   "metadata": {},
   "outputs": [],
   "source": [
    "def print_sections(sections, level=0):\n",
    "        for s in sections:\n",
    "                print(\"%s: %s - %s\" % (\"*\" * (level + 1), s.title, s.text[0:40]))\n",
    "                print_sections(s.sections, level + 1)"
   ]
  },
  {
   "cell_type": "code",
   "execution_count": 166,
   "metadata": {},
   "outputs": [
    {
     "name": "stdout",
     "output_type": "stream",
     "text": [
      "*: Plot summary - Everyman Arthur Dent is rescued by his f\n",
      "*: Illustrated edition - The Illustrated Hitchhiker's Guide to th\n",
      "*: In other media - \n",
      "**: Audiobook adaptations - There have been three audiobook recordin\n",
      "**: Television series - The popularity of the radio series gave \n",
      "**: Film adaptation - The Hitchhiker's Guide to the Galaxy was\n",
      "*: Series - The deliberately misnamed Hitchhiker's G\n",
      "*: Legacy - When Elon Musk's Tesla Roadster was laun\n",
      "*: Awards - Number one on the Sunday Times best sell\n",
      "*: See also - Spelling of Hitchhiker's Guide for varia\n",
      "*: References - \n",
      "*: External links - Hitchhikers Guide easter egg in Wolfram \n"
     ]
    }
   ],
   "source": [
    "print_sections(novel.sections)"
   ]
  },
  {
   "cell_type": "code",
   "execution_count": 168,
   "metadata": {},
   "outputs": [
    {
     "data": {
      "text/plain": [
       "'Plot summary'"
      ]
     },
     "execution_count": 168,
     "metadata": {},
     "output_type": "execute_result"
    }
   ],
   "source": [
    "novel.sections[0].title"
   ]
  },
  {
   "cell_type": "code",
   "execution_count": null,
   "metadata": {},
   "outputs": [],
   "source": []
  }
 ],
 "metadata": {
  "kernelspec": {
   "display_name": "Python 3",
   "language": "python",
   "name": "python3"
  },
  "language_info": {
   "codemirror_mode": {
    "name": "ipython",
    "version": 3
   },
   "file_extension": ".py",
   "mimetype": "text/x-python",
   "name": "python",
   "nbconvert_exporter": "python",
   "pygments_lexer": "ipython3",
   "version": "3.6.5"
  }
 },
 "nbformat": 4,
 "nbformat_minor": 2
}
